{
 "cells": [
  {
   "cell_type": "code",
   "execution_count": 2,
   "metadata": {},
   "outputs": [],
   "source": [
    "from astropy import units as u\n",
    "import numpy as np\n",
    "from abc import ABC, abstractmethod\n"
   ]
  },
  {
   "cell_type": "code",
   "execution_count": 5,
   "metadata": {},
   "outputs": [],
   "source": [
    "class GenericRadial1DModel():\n",
    "#In accordance with the factory method, this class should include everything\n",
    "#needed to construct a product even if the method and atributes are empty     \n",
    "#TODO: store _0 variables in case we change the time\n",
    "#set_time would multiply the _0 and return a new variable\n",
    "    \n",
    "#These 3 are needed to start a grid, I think the rest of the variables should be in the subclasses __init__()\n",
    "    def __init__(self, v_inner, v_outer,time_explosion): \n",
    "        self.v_inner = v_inner\n",
    "        self.v_outer = v_outer\n",
    "        \n",
    "        \n",
    "        \n",
    "    @property\n",
    "    def no_of_shells(self):\n",
    "        return len(self.v_inner)\n",
    "\n",
    "\n",
    "    @property\n",
    "    def \n",
    "    \n",
    "     \n",
    "    \n",
    "    @abstracmethod\n",
    "    def construct_model(self,file):\n",
    "        raise NotImplementedError(\"Can't implement abstract class\")\n",
    "\n",
    "        \n",
    "        #This classmethod will be needed to ensure that the subclass constructor has all the parameters to continue\n",
    "#Or maybe I can do that in the test?\n",
    "    @classmethod\n",
    "    def validate_model(self):\n",
    "        \"\"\"This function will ensure that the model has all the properties\"\"\"\n",
    "        return 0\n",
    "#set_time could be a method from the generic model    \n",
    "        \n",
    "    def set_time(self):\n",
    "        return 0\n",
    "    def evolve_sim(self): \n",
    "        return 0\n",
    "class UserModel(GenericRadial1DModel):\n",
    "    \"\"\"Stores user input\"\"\"\n",
    "    def store_user_input:\n",
    "class CSVYModel(GenericRadial1DModel):\n",
    "    \"\"\"TARDIS model from CSVY model\"\"\"\n",
    "    def construct_model(self,file):\n",
    "    \n",
    "class YAMLModel(GenericRadial1DModel):\n",
    "    \"\"\"TARDIS model from YAML model\"\"\"\n",
    "    def construct_model(self,file):\n",
    "        \n",
    "    "
   ]
  },
  {
   "cell_type": "code",
   "execution_count": 3,
   "metadata": {},
   "outputs": [],
   "source": [
    "velocities = np.arange(10000,20000,1000) * u.km/u.s\n",
    "v_inner = velocities[0:-1]\n",
    "v_outer = velocities[1:]"
   ]
  },
  {
   "cell_type": "code",
   "execution_count": 6,
   "metadata": {},
   "outputs": [],
   "source": [
    "m = GenericRadial1DModel(v_inner,v_outer)"
   ]
  },
  {
   "cell_type": "code",
   "execution_count": 7,
   "metadata": {},
   "outputs": [
    {
     "data": {
      "text/plain": [
       "9"
      ]
     },
     "execution_count": 7,
     "metadata": {},
     "output_type": "execute_result"
    }
   ],
   "source": [
    "m.no_of_shells\n"
   ]
  },
  {
   "cell_type": "code",
   "execution_count": null,
   "metadata": {},
   "outputs": [],
   "source": []
  }
 ],
 "metadata": {
  "kernelspec": {
   "display_name": "Python 3",
   "language": "python",
   "name": "python3"
  },
  "language_info": {
   "codemirror_mode": {
    "name": "ipython",
    "version": 3
   },
   "file_extension": ".py",
   "mimetype": "text/x-python",
   "name": "python",
   "nbconvert_exporter": "python",
   "pygments_lexer": "ipython3",
   "version": "3.6.10"
  }
 },
 "nbformat": 4,
 "nbformat_minor": 4
}
