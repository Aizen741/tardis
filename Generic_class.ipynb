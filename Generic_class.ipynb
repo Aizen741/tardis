{
 "cells": [
  {
   "cell_type": "code",
   "execution_count": 2,
   "metadata": {},
   "outputs": [],
   "source": [
    "from astropy import units as u\n",
    "import numpy as np\n",
    "from abc import ABC, abstractmethod\n"
   ]
  },
  {
   "cell_type": "markdown",
   "metadata": {},
   "source": [
    "In accordance with the factory method, this class should include everything\n",
    "needed to construct a product even if the method and atributes are empty     \n",
    "\n",
    "set_time would multiply the _0 variables and return a new variable"
   ]
  },
  {
   "cell_type": "code",
   "execution_count": 5,
   "metadata": {},
   "outputs": [],
   "source": [
    "class GenericRadial1DModel():\n",
    "\n",
    "    \n",
    "#These 3 are needed to start a grid, I think the rest of the variables should be in the subclasses __init__()\n",
    "    def __init__(self, v_inner, v_outer,time_explosion): \n",
    "        self.v_inner = v_inner\n",
    "        self.v_outer = v_outer\n",
    "        \n",
    "        \n",
    "        \n",
    "    @property\n",
    "    def no_of_shells(self):\n",
    "        return len(self.v_inner)\n",
    "\n",
    "\n",
    "    @property\n",
    "    def \n",
    "    \n",
    "     \n",
    "    \n",
    "    @abstracmethod\n",
    "    def construct_model(self,file):\n",
    "        raise NotImplementedError(\"Can't implement abstract class\")\n",
    "\n",
    "        \n",
    "#This classmethod will be needed to ensure that the subclass constructor has all the parameters to continue\n",
    "#Or maybe I can do that in the test?\n",
    "    @classmethod\n",
    "    def validate_model(self):\n",
    "        \"\"\"This function will ensure that the model has all the properties\"\"\"\n",
    "        return 0\n",
    "#set_time could be a method from the generic model    \n",
    "        \n",
    "\n",
    "\n",
    "        \n",
    "    "
   ]
  },
  {
   "cell_type": "markdown",
   "metadata": {},
   "source": [
    "Properties"
   ]
  },
  {
   "cell_type": "code",
   "execution_count": null,
   "metadata": {},
   "outputs": [],
   "source": [
    "@property\n",
    "    def dilution_factor(self):\n",
    "        if len(self._dilution_factor) == self.no_of_shells:\n",
    "            return self._dilution_factor\n",
    "        return self._dilution_factor[self.v_boundary_inner_index + 1:self.v_boundary_outer_index + 1]\n",
    "\n",
    "@dilution_factor.setter\n",
    "def dilution_factor(self, value):\n",
    "    if len(value) == len(self._dilution_factor):\n",
    "        self._dilution_factor = value\n",
    "    elif len(value) == self.no_of_shells:\n",
    "        self._dilution_factor[self.v_boundary_inner_index+1:self.v_boundary_outer_index+1] = value\n",
    "    else:\n",
    "        raise ValueError(\"Trying to set dilution_factor for unmatching number\"\n",
    "                             \"of shells.\")\n",
    "\n",
    "@property\n",
    "def temperature_radiative(self):\n",
    "    if len(self.temperature_radiative) == self.no_of_shells:\n",
    "        return self.temperature_radiative\n",
    "\n",
    "    return self.temperature_radiative[self.v_boundary_inner_index + 1:self.v_boundary_outer_index + 1]\n",
    "\n",
    "@temperature_radiative.setter\n",
    "def temperature_radiative(self, value):\n",
    "    if len(value) == len(self.temperature_radiative):\n",
    "        self.temperature_radiative = value\n",
    "    elif len(value) == self.no_of_shells:\n",
    "        self.temperature_radiative[self.v_boundary_inner_index+1:self.v_boundary_outer_index+1] = value\n",
    "    else:\n",
    "        raise ValueError(\"Trying to set t_radiative for unmatching number\"\n",
    "                             \"of shells.\")\n"
   ]
  },
  {
   "cell_type": "markdown",
   "metadata": {},
   "source": [
    "Child Classes"
   ]
  },
  {
   "cell_type": "code",
   "execution_count": null,
   "metadata": {},
   "outputs": [],
   "source": [
    "class UserModel(GenericRadial1DModel):\n",
    "    \"\"\"Stores user input\"\"\"\n",
    "    def store_user_input:\n",
    "class CSVYModel(GenericRadial1DModel):\n",
    "    \"\"\"TARDIS model from CSVY model\"\"\"\n",
    "    def construct_model(self,file):\n",
    "    \n",
    "class YAMLModel(GenericRadial1DModel):\n",
    "    \"\"\"TARDIS model from YAML model\"\"\"\n",
    "    def construct_model(self,file):"
   ]
  },
  {
   "cell_type": "code",
   "execution_count": 3,
   "metadata": {},
   "outputs": [],
   "source": [
    "velocities = np.arange(10000,20000,1000) * u.km/u.s\n",
    "v_inner = velocities[0:-1]\n",
    "v_outer = velocities[1:]"
   ]
  },
  {
   "cell_type": "code",
   "execution_count": 6,
   "metadata": {},
   "outputs": [],
   "source": [
    "m = GenericRadial1DModel(v_inner,v_outer)"
   ]
  },
  {
   "cell_type": "code",
   "execution_count": 7,
   "metadata": {},
   "outputs": [
    {
     "data": {
      "text/plain": [
       "9"
      ]
     },
     "execution_count": 7,
     "metadata": {},
     "output_type": "execute_result"
    }
   ],
   "source": [
    "m.no_of_shells\n"
   ]
  },
  {
   "cell_type": "code",
   "execution_count": null,
   "metadata": {},
   "outputs": [],
   "source": []
  }
 ],
 "metadata": {
  "kernelspec": {
   "display_name": "Python 3",
   "language": "python",
   "name": "python3"
  },
  "language_info": {
   "codemirror_mode": {
    "name": "ipython",
    "version": 3
   },
   "file_extension": ".py",
   "mimetype": "text/x-python",
   "name": "python",
   "nbconvert_exporter": "python",
   "pygments_lexer": "ipython3",
   "version": "3.6.10"
  }
 },
 "nbformat": 4,
 "nbformat_minor": 4
}
