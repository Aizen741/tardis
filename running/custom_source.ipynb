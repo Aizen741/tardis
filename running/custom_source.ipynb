{
 "cells": [
  {
   "cell_type": "markdown",
   "metadata": {},
   "source": [
    "# Running TARDIS with a custom packet source"
   ]
  },
  {
   "cell_type": "code",
   "execution_count": 1,
   "metadata": {},
   "outputs": [
    {
     "name": "stderr",
     "output_type": "stream",
     "text": [
      "/usr/share/miniconda/envs/tardis/lib/python3.6/importlib/_bootstrap.py:219: QAWarning: pyne.data is not yet QA compliant.\n",
      "  return f(*args, **kwds)\n"
     ]
    }
   ],
   "source": [
    "import numpy as np\n",
    "from tardis import constants as const\n",
    "from astropy import units as u\n",
    "from tardis.montecarlo.packet_source import BasePacketSource\n",
    "from tardis import run_tardis\n",
    "import matplotlib.pyplot as plt\n",
    "from tardis.io.atom_data import download_atom_data"
   ]
  },
  {
   "cell_type": "code",
   "execution_count": 2,
   "metadata": {},
   "outputs": [
    {
     "name": "stdout",
     "output_type": "stream",
     "text": [
      "[\u001b[1mtardis.io.config_internal\u001b[0m][\u001b[1;33mWARNING\u001b[0m]  Configuration File /home/vsts/.astropy/config/tardis_internal_config.yml does not exist - creating new one from default (\u001b[1mconfig_internal.py\u001b[0m:16)\n"
     ]
    },
    {
     "name": "stderr",
     "output_type": "stream",
     "text": [
      "CRITICAL:root:\n",
      "********************************************************************************\n",
      "\n",
      "TARDIS will download different kinds of data (e.g. atomic) to its data directory /home/vsts/Downloads/tardis-data\n",
      "\n",
      "TARDIS DATA DIRECTORY not specified in /home/vsts/.astropy/config/tardis_internal_config.yml:\n",
      "\n",
      "ASSUMING DEFAULT DATA DIRECTORY /home/vsts/Downloads/tardis-data\n",
      " YOU CAN CHANGE THIS AT ANY TIME IN /home/vsts/.astropy/config/tardis_internal_config.yml \n",
      "\n",
      "******************************************************************************** \n",
      "\n",
      "\n"
     ]
    },
    {
     "name": "stdout",
     "output_type": "stream",
     "text": [
      "[\u001b[1mtardis.io.atom_data.atom_web_download\u001b[0m][\u001b[1;37mINFO\u001b[0m   ]  Downloading atomic data from https://media.githubusercontent.com/media/tardis-sn/tardis-refdata/master/atom_data/kurucz_cd23_chianti_H_He.h5 to /home/vsts/Downloads/tardis-data/kurucz_cd23_chianti_H_He.h5 (\u001b[1matom_web_download.py\u001b[0m:47)\n"
     ]
    },
    {
     "name": "stderr",
     "output_type": "stream",
     "text": [
      "\u001b[1;37mINFO\u001b[0m:tardis.io.atom_data.atom_web_download:Downloading atomic data from https://media.githubusercontent.com/media/tardis-sn/tardis-refdata/master/atom_data/kurucz_cd23_chianti_H_He.h5 to /home/vsts/Downloads/tardis-data/kurucz_cd23_chianti_H_He.h5\n"
     ]
    },
    {
     "data": {
      "application/vnd.jupyter.widget-view+json": {
       "model_id": "241448b2d89b4ca1b578700563e708f8",
       "version_major": 2,
       "version_minor": 0
      },
      "text/plain": [
       "HBox(children=(FloatProgress(value=0.0, description='kurucz_cd23_chianti_H_He.h5', max=73704476.0, style=Progr…"
      ]
     },
     "metadata": {},
     "output_type": "display_data"
    },
    {
     "name": "stdout",
     "output_type": "stream",
     "text": [
      "\n"
     ]
    }
   ],
   "source": [
    "download_atom_data('kurucz_cd23_chianti_H_He')"
   ]
  },
  {
   "cell_type": "markdown",
   "metadata": {},
   "source": [
    "Custom packet source class that is derived from BasePacketSource. The method create_packets (which returns ```nus, mus, energies```) has to be defined."
   ]
  },
  {
   "cell_type": "code",
   "execution_count": 3,
   "metadata": {},
   "outputs": [],
   "source": [
    "class TruncBlackbodySource(BasePacketSource):\n",
    "    \"\"\"\n",
    "        Custom inner boundary source class to replace the Blackbody source\n",
    "        with a truncated Blackbody source.\n",
    "    \"\"\"\n",
    "    \n",
    "    def __init__(self, seed, truncation_wavelength):\n",
    "        super().__init__(seed)\n",
    "        self.truncation_wavelength = truncation_wavelength\n",
    "    \n",
    "    def create_packets(self, T, no_of_packets,\n",
    "                       drawing_sample_size=None):\n",
    "        \"\"\"\n",
    "        Packet source that generates a truncated Blackbody source.\n",
    "        \n",
    "        Parameters\n",
    "        ----------\n",
    "        T : float\n",
    "            Blackbody temperature\n",
    "        no_of_packets : int\n",
    "            number of packets to be created\n",
    "        truncation_wavelength : float\n",
    "            truncation wavelength in Angstrom. \n",
    "            Only wavelengths higher than the truncation wavelength\n",
    "            will be sampled.\n",
    "        \"\"\"\n",
    "        \n",
    "        \n",
    "        # Use mus and energies from normal blackbody source.\n",
    "        mus = self.create_zero_limb_darkening_packet_mus(no_of_packets)\n",
    "        energies = self.create_uniform_packet_energies(no_of_packets)\n",
    "\n",
    "        # If not specified, draw 2 times as many packets and reject any beyond no_of_packets.\n",
    "        if drawing_sample_size is None:\n",
    "            drawing_sample_size = 2 * no_of_packets\n",
    "\n",
    "        # Blackbody will be truncated below truncation_wavelength / above truncation_frequency.\n",
    "        truncation_frequency = u.Quantity(self.truncation_wavelength, u.Angstrom).to(\n",
    "                                          u.Hz, equivalencies=u.spectral()).value\n",
    "        \n",
    "        # Draw nus from blackbody distribution and reject based on truncation_frequency.\n",
    "        # If more nus.shape[0] > no_of_packets use only the first no_of_packets.\n",
    "        nus = self.create_blackbody_packet_nus(T, drawing_sample_size)\n",
    "        nus = nus[nus<truncation_frequency][:no_of_packets]\n",
    "        \n",
    "        \n",
    "        # Only required if the truncation wavelength is too big compared to the maximum \n",
    "        # of the blackbody distribution. Keep sampling until nus.shape[0] > no_of_packets.\n",
    "        while nus.shape[0] < no_of_packets:\n",
    "            additional_nus = self.create_blackbody_packet_nus(\n",
    "                T, drawing_sample_size\n",
    "            )\n",
    "            mask = additional_nus < truncation_frequency\n",
    "            additional_nus = additional_nus[mask][:no_of_packets]\n",
    "            nus = np.hstack([nus, additional_nus])[:no_of_packets]\n",
    "            \n",
    "        return nus, mus, energies"
   ]
  },
  {
   "cell_type": "code",
   "execution_count": 4,
   "metadata": {},
   "outputs": [],
   "source": [
    "packet_source = TruncBlackbodySource(\n",
    "    53253, truncation_wavelength=2000\n",
    ")"
   ]
  },
  {
   "cell_type": "code",
   "execution_count": 5,
   "metadata": {},
   "outputs": [
    {
     "name": "stdout",
     "output_type": "stream",
     "text": [
      "[\u001b[1mtardis.plasma.standard_plasmas\u001b[0m][\u001b[1;37mINFO\u001b[0m   ]  Reading Atomic Data from kurucz_cd23_chianti_H_He.h5 (\u001b[1mstandard_plasmas.py\u001b[0m:74)\n"
     ]
    },
    {
     "name": "stderr",
     "output_type": "stream",
     "text": [
      "\u001b[1;37mINFO\u001b[0m:tardis.plasma.standard_plasmas:Reading Atomic Data from kurucz_cd23_chianti_H_He.h5\n"
     ]
    },
    {
     "name": "stdout",
     "output_type": "stream",
     "text": [
      "[\u001b[1mtardis.io.atom_data.util\u001b[0m][\u001b[1;37mINFO\u001b[0m   ]  Atom Data kurucz_cd23_chianti_H_He.h5 not found in local path. Exists in TARDIS Data repo /home/vsts/Downloads/tardis-data/kurucz_cd23_chianti_H_He.h5 (\u001b[1mutil.py\u001b[0m:29)\n"
     ]
    },
    {
     "name": "stderr",
     "output_type": "stream",
     "text": [
      "\u001b[1;37mINFO\u001b[0m:tardis.io.atom_data.util:Atom Data kurucz_cd23_chianti_H_He.h5 not found in local path. Exists in TARDIS Data repo /home/vsts/Downloads/tardis-data/kurucz_cd23_chianti_H_He.h5\n"
     ]
    },
    {
     "name": "stdout",
     "output_type": "stream",
     "text": [
      "[\u001b[1mtardis.io.atom_data.base\u001b[0m][\u001b[1;37mINFO\u001b[0m   ]  Read Atom Data with UUID=6f7b09e887a311e7a06b246e96350010 and MD5=864f1753714343c41f99cb065710cace. (\u001b[1mbase.py\u001b[0m:184)\n"
     ]
    },
    {
     "name": "stderr",
     "output_type": "stream",
     "text": [
      "\u001b[1;37mINFO\u001b[0m:tardis.io.atom_data.base:Read Atom Data with UUID=6f7b09e887a311e7a06b246e96350010 and MD5=864f1753714343c41f99cb065710cace.\n"
     ]
    },
    {
     "name": "stdout",
     "output_type": "stream",
     "text": [
      "[\u001b[1mtardis.io.atom_data.base\u001b[0m][\u001b[1;37mINFO\u001b[0m   ]  Non provided atomic data: synpp_refs, photoionization_data (\u001b[1mbase.py\u001b[0m:187)\n"
     ]
    },
    {
     "name": "stderr",
     "output_type": "stream",
     "text": [
      "\u001b[1;37mINFO\u001b[0m:tardis.io.atom_data.base:Non provided atomic data: synpp_refs, photoionization_data\n"
     ]
    },
    {
     "name": "stdout",
     "output_type": "stream",
     "text": [
      "[\u001b[1mtardis.simulation.base\u001b[0m][\u001b[1;37mINFO\u001b[0m   ]  Starting iteration 1/20 (\u001b[1mbase.py\u001b[0m:268)\n"
     ]
    },
    {
     "name": "stderr",
     "output_type": "stream",
     "text": [
      "\u001b[1;37mINFO\u001b[0m:tardis.simulation.base:Starting iteration 1/20\n"
     ]
    },
    {
     "name": "stdout",
     "output_type": "stream",
     "text": [
      "[\u001b[1mtardis.simulation.base\u001b[0m][\u001b[1;37mINFO\u001b[0m   ]  Luminosity emitted = 8.02608e+42 erg / s Luminosity absorbed = 2.58369e+42 erg / s Luminosity requested = 1.05928e+43 erg / s (\u001b[1mbase.py\u001b[0m:359)\n"
     ]
    },
    {
     "name": "stderr",
     "output_type": "stream",
     "text": [
      "\u001b[1;37mINFO\u001b[0m:tardis.simulation.base:Luminosity emitted = 8.02608e+42 erg / s Luminosity absorbed = 2.58369e+42 erg / s Luminosity requested = 1.05928e+43 erg / s\n"
     ]
    },
    {
     "name": "stdout",
     "output_type": "stream",
     "text": [
      "[\u001b[1mtardis.simulation.base\u001b[0m][\u001b[1;37mINFO\u001b[0m   ]  Plasma stratification:\n",
      "\t             t_rad   next_t_rad         w    next_w\n",
      "\tShell                                              \n",
      "\t0      9926.501965  9338.157295  0.400392  0.702876\n",
      "\t5      9852.611678  9612.552655  0.211205  0.251645\n",
      "\t10     9779.813302  9582.236692  0.142695  0.147553\n",
      "\t15     9708.082813  9347.739573  0.104556  0.108727\n",
      "\n",
      " (\u001b[1mbase.py\u001b[0m:350)\n"
     ]
    },
    {
     "name": "stderr",
     "output_type": "stream",
     "text": [
      "\u001b[1;37mINFO\u001b[0m:tardis.simulation.base:Plasma stratification:\n",
      "\t             t_rad   next_t_rad         w    next_w\n",
      "\tShell                                              \n",
      "\t0      9926.501965  9338.157295  0.400392  0.702876\n",
      "\t5      9852.611678  9612.552655  0.211205  0.251645\n",
      "\t10     9779.813302  9582.236692  0.142695  0.147553\n",
      "\t15     9708.082813  9347.739573  0.104556  0.108727\n",
      "\n",
      "\n"
     ]
    },
    {
     "name": "stdout",
     "output_type": "stream",
     "text": [
      "[\u001b[1mtardis.simulation.base\u001b[0m][\u001b[1;37mINFO\u001b[0m   ]  t_inner 9933.952 K -- next t_inner 11412.349 K (\u001b[1mbase.py\u001b[0m:352)\n"
     ]
    },
    {
     "name": "stderr",
     "output_type": "stream",
     "text": [
      "\u001b[1;37mINFO\u001b[0m:tardis.simulation.base:t_inner 9933.952 K -- next t_inner 11412.349 K\n"
     ]
    },
    {
     "name": "stdout",
     "output_type": "stream",
     "text": [
      "[\u001b[1mtardis.simulation.base\u001b[0m][\u001b[1;37mINFO\u001b[0m   ]  Starting iteration 2/20 (\u001b[1mbase.py\u001b[0m:268)\n"
     ]
    },
    {
     "name": "stderr",
     "output_type": "stream",
     "text": [
      "\u001b[1;37mINFO\u001b[0m:tardis.simulation.base:Starting iteration 2/20\n"
     ]
    },
    {
     "name": "stdout",
     "output_type": "stream",
     "text": [
      "[\u001b[1mtardis.simulation.base\u001b[0m][\u001b[1;37mINFO\u001b[0m   ]  Luminosity emitted = 1.39291e+43 erg / s Luminosity absorbed = 4.54291e+42 erg / s Luminosity requested = 1.05928e+43 erg / s (\u001b[1mbase.py\u001b[0m:359)\n"
     ]
    },
    {
     "name": "stderr",
     "output_type": "stream",
     "text": [
      "\u001b[1;37mINFO\u001b[0m:tardis.simulation.base:Luminosity emitted = 1.39291e+43 erg / s Luminosity absorbed = 4.54291e+42 erg / s Luminosity requested = 1.05928e+43 erg / s\n"
     ]
    },
    {
     "name": "stdout",
     "output_type": "stream",
     "text": [
      "[\u001b[1mtardis.simulation.base\u001b[0m][\u001b[1;37mINFO\u001b[0m   ]  Plasma stratification:\n",
      "\t             t_rad    next_t_rad         w    next_w\n",
      "\tShell                                               \n",
      "\t0      9338.157295   9894.977618  0.702876  0.966539\n",
      "\t5      9612.552655  10202.697494  0.251645  0.345750\n",
      "\t10     9582.236692  10182.708604  0.147553  0.203029\n",
      "\t15     9347.739573   9966.709240  0.108727  0.147105\n",
      "\n",
      " (\u001b[1mbase.py\u001b[0m:350)\n"
     ]
    },
    {
     "name": "stderr",
     "output_type": "stream",
     "text": [
      "\u001b[1;37mINFO\u001b[0m:tardis.simulation.base:Plasma stratification:\n",
      "\t             t_rad    next_t_rad         w    next_w\n",
      "\tShell                                               \n",
      "\t0      9338.157295   9894.977618  0.702876  0.966539\n",
      "\t5      9612.552655  10202.697494  0.251645  0.345750\n",
      "\t10     9582.236692  10182.708604  0.147553  0.203029\n",
      "\t15     9347.739573   9966.709240  0.108727  0.147105\n",
      "\n",
      "\n"
     ]
    },
    {
     "name": "stdout",
     "output_type": "stream",
     "text": [
      "[\u001b[1mtardis.simulation.base\u001b[0m][\u001b[1;37mINFO\u001b[0m   ]  t_inner 11412.349 K -- next t_inner 9952.175 K (\u001b[1mbase.py\u001b[0m:352)\n"
     ]
    },
    {
     "name": "stderr",
     "output_type": "stream",
     "text": [
      "\u001b[1;37mINFO\u001b[0m:tardis.simulation.base:t_inner 11412.349 K -- next t_inner 9952.175 K\n"
     ]
    },
    {
     "name": "stdout",
     "output_type": "stream",
     "text": [
      "[\u001b[1mtardis.simulation.base\u001b[0m][\u001b[1;37mINFO\u001b[0m   ]  Starting iteration 3/20 (\u001b[1mbase.py\u001b[0m:268)\n"
     ]
    },
    {
     "name": "stderr",
     "output_type": "stream",
     "text": [
      "\u001b[1;37mINFO\u001b[0m:tardis.simulation.base:Starting iteration 3/20\n"
     ]
    },
    {
     "name": "stdout",
     "output_type": "stream",
     "text": [
      "[\u001b[1mtardis.simulation.base\u001b[0m][\u001b[1;37mINFO\u001b[0m   ]  Luminosity emitted = 8.15076e+42 erg / s Luminosity absorbed = 2.54247e+42 erg / s Luminosity requested = 1.05928e+43 erg / s (\u001b[1mbase.py\u001b[0m:359)\n"
     ]
    },
    {
     "name": "stderr",
     "output_type": "stream",
     "text": [
      "\u001b[1;37mINFO\u001b[0m:tardis.simulation.base:Luminosity emitted = 8.15076e+42 erg / s Luminosity absorbed = 2.54247e+42 erg / s Luminosity requested = 1.05928e+43 erg / s\n"
     ]
    },
    {
     "name": "stdout",
     "output_type": "stream",
     "text": [
      "[\u001b[1mtardis.simulation.base\u001b[0m][\u001b[1;37mINFO\u001b[0m   ]  Plasma stratification:\n",
      "\t              t_rad   next_t_rad         w    next_w\n",
      "\tShell                                               \n",
      "\t0       9894.977618  9365.300413  0.966539  0.691893\n",
      "\t5      10202.697494  9687.991731  0.345750  0.246499\n",
      "\t10     10182.708604  9558.583356  0.203029  0.150936\n",
      "\t15      9966.709240  9323.776228  0.147105  0.111587\n",
      "\n",
      " (\u001b[1mbase.py\u001b[0m:350)\n"
     ]
    },
    {
     "name": "stderr",
     "output_type": "stream",
     "text": [
      "\u001b[1;37mINFO\u001b[0m:tardis.simulation.base:Plasma stratification:\n",
      "\t              t_rad   next_t_rad         w    next_w\n",
      "\tShell                                               \n",
      "\t0       9894.977618  9365.300413  0.966539  0.691893\n",
      "\t5      10202.697494  9687.991731  0.345750  0.246499\n",
      "\t10     10182.708604  9558.583356  0.203029  0.150936\n",
      "\t15      9966.709240  9323.776228  0.147105  0.111587\n",
      "\n",
      "\n"
     ]
    },
    {
     "name": "stdout",
     "output_type": "stream",
     "text": [
      "[\u001b[1mtardis.simulation.base\u001b[0m][\u001b[1;37mINFO\u001b[0m   ]  t_inner 9952.175 K -- next t_inner 11345.501 K (\u001b[1mbase.py\u001b[0m:352)\n"
     ]
    },
    {
     "name": "stderr",
     "output_type": "stream",
     "text": [
      "\u001b[1;37mINFO\u001b[0m:tardis.simulation.base:t_inner 9952.175 K -- next t_inner 11345.501 K\n"
     ]
    },
    {
     "name": "stdout",
     "output_type": "stream",
     "text": [
      "[\u001b[1mtardis.simulation.base\u001b[0m][\u001b[1;37mINFO\u001b[0m   ]  Starting iteration 4/20 (\u001b[1mbase.py\u001b[0m:268)\n"
     ]
    },
    {
     "name": "stderr",
     "output_type": "stream",
     "text": [
      "\u001b[1;37mINFO\u001b[0m:tardis.simulation.base:Starting iteration 4/20\n"
     ]
    },
    {
     "name": "stdout",
     "output_type": "stream",
     "text": [
      "[\u001b[1mtardis.simulation.base\u001b[0m][\u001b[1;37mINFO\u001b[0m   ]  Luminosity emitted = 1.36105e+43 erg / s Luminosity absorbed = 4.43259e+42 erg / s Luminosity requested = 1.05928e+43 erg / s (\u001b[1mbase.py\u001b[0m:359)\n"
     ]
    },
    {
     "name": "stderr",
     "output_type": "stream",
     "text": [
      "\u001b[1;37mINFO\u001b[0m:tardis.simulation.base:Luminosity emitted = 1.36105e+43 erg / s Luminosity absorbed = 4.43259e+42 erg / s Luminosity requested = 1.05928e+43 erg / s\n"
     ]
    },
    {
     "name": "stdout",
     "output_type": "stream",
     "text": [
      "[\u001b[1mtardis.simulation.base\u001b[0m][\u001b[1;37mINFO\u001b[0m   ]  Plasma stratification:\n",
      "\t             t_rad    next_t_rad         w    next_w\n",
      "\tShell                                               \n",
      "\t0      9365.300413   9907.030060  0.691893  0.940840\n",
      "\t5      9687.991731  10157.363473  0.246499  0.348819\n",
      "\t10     9558.583356  10060.340925  0.150936  0.207129\n",
      "\t15     9323.776228   9871.609020  0.111587  0.148903\n",
      "\n",
      " (\u001b[1mbase.py\u001b[0m:350)\n"
     ]
    },
    {
     "name": "stderr",
     "output_type": "stream",
     "text": [
      "\u001b[1;37mINFO\u001b[0m:tardis.simulation.base:Plasma stratification:\n",
      "\t             t_rad    next_t_rad         w    next_w\n",
      "\tShell                                               \n",
      "\t0      9365.300413   9907.030060  0.691893  0.940840\n",
      "\t5      9687.991731  10157.363473  0.246499  0.348819\n",
      "\t10     9558.583356  10060.340925  0.150936  0.207129\n",
      "\t15     9323.776228   9871.609020  0.111587  0.148903\n",
      "\n",
      "\n"
     ]
    },
    {
     "name": "stdout",
     "output_type": "stream",
     "text": [
      "[\u001b[1mtardis.simulation.base\u001b[0m][\u001b[1;37mINFO\u001b[0m   ]  t_inner 11345.501 K -- next t_inner 10009.025 K (\u001b[1mbase.py\u001b[0m:352)\n"
     ]
    },
    {
     "name": "stderr",
     "output_type": "stream",
     "text": [
      "\u001b[1;37mINFO\u001b[0m:tardis.simulation.base:t_inner 11345.501 K -- next t_inner 10009.025 K\n"
     ]
    },
    {
     "name": "stdout",
     "output_type": "stream",
     "text": [
      "[\u001b[1mtardis.simulation.base\u001b[0m][\u001b[1;37mINFO\u001b[0m   ]  Starting iteration 5/20 (\u001b[1mbase.py\u001b[0m:268)\n"
     ]
    },
    {
     "name": "stderr",
     "output_type": "stream",
     "text": [
      "\u001b[1;37mINFO\u001b[0m:tardis.simulation.base:Starting iteration 5/20\n"
     ]
    },
    {
     "name": "stdout",
     "output_type": "stream",
     "text": [
      "[\u001b[1mtardis.simulation.base\u001b[0m][\u001b[1;37mINFO\u001b[0m   ]  Luminosity emitted = 8.30272e+42 erg / s Luminosity absorbed = 2.63244e+42 erg / s Luminosity requested = 1.05928e+43 erg / s (\u001b[1mbase.py\u001b[0m:359)\n"
     ]
    },
    {
     "name": "stderr",
     "output_type": "stream",
     "text": [
      "\u001b[1;37mINFO\u001b[0m:tardis.simulation.base:Luminosity emitted = 8.30272e+42 erg / s Luminosity absorbed = 2.63244e+42 erg / s Luminosity requested = 1.05928e+43 erg / s\n"
     ]
    },
    {
     "name": "stdout",
     "output_type": "stream",
     "text": [
      "[\u001b[1mtardis.simulation.base\u001b[0m][\u001b[1;37mINFO\u001b[0m   ]  Plasma stratification:\n",
      "\t              t_rad   next_t_rad         w    next_w\n",
      "\tShell                                               \n",
      "\t0       9907.030060  9360.662190  0.940840  0.714939\n",
      "\t5      10157.363473  9665.421084  0.348819  0.253723\n",
      "\t10     10060.340925  9591.474063  0.207129  0.153326\n",
      "\t15      9871.609020  9334.785438  0.148903  0.113393\n",
      "\n",
      " (\u001b[1mbase.py\u001b[0m:350)\n"
     ]
    },
    {
     "name": "stderr",
     "output_type": "stream",
     "text": [
      "\u001b[1;37mINFO\u001b[0m:tardis.simulation.base:Plasma stratification:\n",
      "\t              t_rad   next_t_rad         w    next_w\n",
      "\tShell                                               \n",
      "\t0       9907.030060  9360.662190  0.940840  0.714939\n",
      "\t5      10157.363473  9665.421084  0.348819  0.253723\n",
      "\t10     10060.340925  9591.474063  0.207129  0.153326\n",
      "\t15      9871.609020  9334.785438  0.148903  0.113393\n",
      "\n",
      "\n"
     ]
    },
    {
     "name": "stdout",
     "output_type": "stream",
     "text": [
      "[\u001b[1mtardis.simulation.base\u001b[0m][\u001b[1;37mINFO\u001b[0m   ]  t_inner 10009.025 K -- next t_inner 11305.404 K (\u001b[1mbase.py\u001b[0m:352)\n"
     ]
    },
    {
     "name": "stderr",
     "output_type": "stream",
     "text": [
      "\u001b[1;37mINFO\u001b[0m:tardis.simulation.base:t_inner 10009.025 K -- next t_inner 11305.404 K\n"
     ]
    },
    {
     "name": "stdout",
     "output_type": "stream",
     "text": [
      "[\u001b[1mtardis.simulation.base\u001b[0m][\u001b[1;37mINFO\u001b[0m   ]  Starting iteration 6/20 (\u001b[1mbase.py\u001b[0m:268)\n"
     ]
    },
    {
     "name": "stderr",
     "output_type": "stream",
     "text": [
      "\u001b[1;37mINFO\u001b[0m:tardis.simulation.base:Starting iteration 6/20\n"
     ]
    },
    {
     "name": "stdout",
     "output_type": "stream",
     "text": [
      "[\u001b[1mtardis.simulation.base\u001b[0m][\u001b[1;37mINFO\u001b[0m   ]  Luminosity emitted = 1.34104e+43 erg / s Luminosity absorbed = 4.37610e+42 erg / s Luminosity requested = 1.05928e+43 erg / s (\u001b[1mbase.py\u001b[0m:359)\n"
     ]
    },
    {
     "name": "stderr",
     "output_type": "stream",
     "text": [
      "\u001b[1;37mINFO\u001b[0m:tardis.simulation.base:Luminosity emitted = 1.34104e+43 erg / s Luminosity absorbed = 4.37610e+42 erg / s Luminosity requested = 1.05928e+43 erg / s\n"
     ]
    },
    {
     "name": "stdout",
     "output_type": "stream",
     "text": [
      "[\u001b[1mtardis.simulation.base\u001b[0m][\u001b[1;37mINFO\u001b[0m   ]  Plasma stratification:\n",
      "\t             t_rad    next_t_rad         w    next_w\n",
      "\tShell                                               \n",
      "\t0      9360.662190   9876.738275  0.714939  0.941170\n",
      "\t5      9665.421084  10154.492596  0.253723  0.342581\n",
      "\t10     9591.474063  10115.366542  0.153326  0.201794\n",
      "\t15     9334.785438   9911.072182  0.113393  0.144362\n",
      "\n",
      " (\u001b[1mbase.py\u001b[0m:350)\n"
     ]
    },
    {
     "name": "stderr",
     "output_type": "stream",
     "text": [
      "\u001b[1;37mINFO\u001b[0m:tardis.simulation.base:Plasma stratification:\n",
      "\t             t_rad    next_t_rad         w    next_w\n",
      "\tShell                                               \n",
      "\t0      9360.662190   9876.738275  0.714939  0.941170\n",
      "\t5      9665.421084  10154.492596  0.253723  0.342581\n",
      "\t10     9591.474063  10115.366542  0.153326  0.201794\n",
      "\t15     9334.785438   9911.072182  0.113393  0.144362\n",
      "\n",
      "\n"
     ]
    },
    {
     "name": "stdout",
     "output_type": "stream",
     "text": [
      "[\u001b[1mtardis.simulation.base\u001b[0m][\u001b[1;37mINFO\u001b[0m   ]  t_inner 11305.404 K -- next t_inner 10047.761 K (\u001b[1mbase.py\u001b[0m:352)\n"
     ]
    },
    {
     "name": "stderr",
     "output_type": "stream",
     "text": [
      "\u001b[1;37mINFO\u001b[0m:tardis.simulation.base:t_inner 11305.404 K -- next t_inner 10047.761 K\n"
     ]
    },
    {
     "name": "stdout",
     "output_type": "stream",
     "text": [
      "[\u001b[1mtardis.simulation.base\u001b[0m][\u001b[1;37mINFO\u001b[0m   ]  Starting iteration 7/20 (\u001b[1mbase.py\u001b[0m:268)\n"
     ]
    },
    {
     "name": "stderr",
     "output_type": "stream",
     "text": [
      "\u001b[1;37mINFO\u001b[0m:tardis.simulation.base:Starting iteration 7/20\n"
     ]
    },
    {
     "name": "stdout",
     "output_type": "stream",
     "text": [
      "[\u001b[1mtardis.simulation.base\u001b[0m][\u001b[1;37mINFO\u001b[0m   ]  Luminosity emitted = 8.44193e+42 erg / s Luminosity absorbed = 2.66459e+42 erg / s Luminosity requested = 1.05928e+43 erg / s (\u001b[1mbase.py\u001b[0m:359)\n"
     ]
    },
    {
     "name": "stderr",
     "output_type": "stream",
     "text": [
      "\u001b[1;37mINFO\u001b[0m:tardis.simulation.base:Luminosity emitted = 8.44193e+42 erg / s Luminosity absorbed = 2.66459e+42 erg / s Luminosity requested = 1.05928e+43 erg / s\n"
     ]
    },
    {
     "name": "stdout",
     "output_type": "stream",
     "text": [
      "[\u001b[1mtardis.simulation.base\u001b[0m][\u001b[1;37mINFO\u001b[0m   ]  Plasma stratification:\n",
      "\t              t_rad   next_t_rad         w    next_w\n",
      "\tShell                                               \n",
      "\t0       9876.738275  9357.637970  0.941170  0.724592\n",
      "\t5      10154.492596  9604.319160  0.342581  0.264155\n",
      "\t10     10115.366542  9615.353499  0.201794  0.154099\n",
      "\t15      9911.072182  9327.253942  0.144362  0.115690\n",
      "\n",
      " (\u001b[1mbase.py\u001b[0m:350)\n"
     ]
    },
    {
     "name": "stderr",
     "output_type": "stream",
     "text": [
      "\u001b[1;37mINFO\u001b[0m:tardis.simulation.base:Plasma stratification:\n",
      "\t              t_rad   next_t_rad         w    next_w\n",
      "\tShell                                               \n",
      "\t0       9876.738275  9357.637970  0.941170  0.724592\n",
      "\t5      10154.492596  9604.319160  0.342581  0.264155\n",
      "\t10     10115.366542  9615.353499  0.201794  0.154099\n",
      "\t15      9911.072182  9327.253942  0.144362  0.115690\n",
      "\n",
      "\n"
     ]
    },
    {
     "name": "stdout",
     "output_type": "stream",
     "text": [
      "[\u001b[1mtardis.simulation.base\u001b[0m][\u001b[1;37mINFO\u001b[0m   ]  t_inner 10047.761 K -- next t_inner 11255.198 K (\u001b[1mbase.py\u001b[0m:352)\n"
     ]
    },
    {
     "name": "stderr",
     "output_type": "stream",
     "text": [
      "\u001b[1;37mINFO\u001b[0m:tardis.simulation.base:t_inner 10047.761 K -- next t_inner 11255.198 K\n"
     ]
    },
    {
     "name": "stdout",
     "output_type": "stream",
     "text": [
      "[\u001b[1mtardis.simulation.base\u001b[0m][\u001b[1;37mINFO\u001b[0m   ]  Starting iteration 8/20 (\u001b[1mbase.py\u001b[0m:268)\n"
     ]
    },
    {
     "name": "stderr",
     "output_type": "stream",
     "text": [
      "\u001b[1;37mINFO\u001b[0m:tardis.simulation.base:Starting iteration 8/20\n"
     ]
    },
    {
     "name": "stdout",
     "output_type": "stream",
     "text": [
      "[\u001b[1mtardis.simulation.base\u001b[0m][\u001b[1;37mINFO\u001b[0m   ]  Luminosity emitted = 1.31896e+43 erg / s Luminosity absorbed = 4.28538e+42 erg / s Luminosity requested = 1.05928e+43 erg / s (\u001b[1mbase.py\u001b[0m:359)\n"
     ]
    },
    {
     "name": "stderr",
     "output_type": "stream",
     "text": [
      "\u001b[1;37mINFO\u001b[0m:tardis.simulation.base:Luminosity emitted = 1.31896e+43 erg / s Luminosity absorbed = 4.28538e+42 erg / s Luminosity requested = 1.05928e+43 erg / s\n"
     ]
    },
    {
     "name": "stdout",
     "output_type": "stream",
     "text": [
      "[\u001b[1mtardis.simulation.base\u001b[0m][\u001b[1;37mINFO\u001b[0m   ]  Plasma stratification:\n",
      "\t             t_rad    next_t_rad         w    next_w\n",
      "\tShell                                               \n",
      "\t0      9357.637970   9861.424853  0.724592  0.930204\n",
      "\t5      9604.319160  10099.742489  0.264155  0.344092\n",
      "\t10     9615.353499  10090.518152  0.154099  0.200887\n",
      "\t15     9327.253942   9870.608513  0.115690  0.144606\n",
      "\n",
      " (\u001b[1mbase.py\u001b[0m:350)\n"
     ]
    },
    {
     "name": "stderr",
     "output_type": "stream",
     "text": [
      "\u001b[1;37mINFO\u001b[0m:tardis.simulation.base:Plasma stratification:\n",
      "\t             t_rad    next_t_rad         w    next_w\n",
      "\tShell                                               \n",
      "\t0      9357.637970   9861.424853  0.724592  0.930204\n",
      "\t5      9604.319160  10099.742489  0.264155  0.344092\n",
      "\t10     9615.353499  10090.518152  0.154099  0.200887\n",
      "\t15     9327.253942   9870.608513  0.115690  0.144606\n",
      "\n",
      "\n"
     ]
    },
    {
     "name": "stdout",
     "output_type": "stream",
     "text": [
      "[\u001b[1mtardis.simulation.base\u001b[0m][\u001b[1;37mINFO\u001b[0m   ]  t_inner 11255.198 K -- next t_inner 10086.550 K (\u001b[1mbase.py\u001b[0m:352)\n"
     ]
    },
    {
     "name": "stderr",
     "output_type": "stream",
     "text": [
      "\u001b[1;37mINFO\u001b[0m:tardis.simulation.base:t_inner 11255.198 K -- next t_inner 10086.550 K\n"
     ]
    },
    {
     "name": "stdout",
     "output_type": "stream",
     "text": [
      "[\u001b[1mtardis.simulation.base\u001b[0m][\u001b[1;37mINFO\u001b[0m   ]  Starting iteration 9/20 (\u001b[1mbase.py\u001b[0m:268)\n"
     ]
    },
    {
     "name": "stderr",
     "output_type": "stream",
     "text": [
      "\u001b[1;37mINFO\u001b[0m:tardis.simulation.base:Starting iteration 9/20\n"
     ]
    },
    {
     "name": "stdout",
     "output_type": "stream",
     "text": [
      "[\u001b[1mtardis.simulation.base\u001b[0m][\u001b[1;37mINFO\u001b[0m   ]  Luminosity emitted = 8.60733e+42 erg / s Luminosity absorbed = 2.67348e+42 erg / s Luminosity requested = 1.05928e+43 erg / s (\u001b[1mbase.py\u001b[0m:359)\n"
     ]
    },
    {
     "name": "stderr",
     "output_type": "stream",
     "text": [
      "\u001b[1;37mINFO\u001b[0m:tardis.simulation.base:Luminosity emitted = 8.60733e+42 erg / s Luminosity absorbed = 2.67348e+42 erg / s Luminosity requested = 1.05928e+43 erg / s\n"
     ]
    },
    {
     "name": "stdout",
     "output_type": "stream",
     "text": [
      "[\u001b[1mtardis.simulation.base\u001b[0m][\u001b[1;37mINFO\u001b[0m   ]  Plasma stratification:\n",
      "\t              t_rad   next_t_rad         w    next_w\n",
      "\tShell                                               \n",
      "\t0       9861.424853  9405.531806  0.930204  0.720048\n",
      "\t5      10099.742489  9706.868088  0.344092  0.258230\n",
      "\t10     10090.518152  9581.041021  0.200887  0.158277\n",
      "\t15      9870.608513  9374.894038  0.144606  0.115272\n",
      "\n",
      " (\u001b[1mbase.py\u001b[0m:350)\n"
     ]
    },
    {
     "name": "stderr",
     "output_type": "stream",
     "text": [
      "\u001b[1;37mINFO\u001b[0m:tardis.simulation.base:Plasma stratification:\n",
      "\t              t_rad   next_t_rad         w    next_w\n",
      "\tShell                                               \n",
      "\t0       9861.424853  9405.531806  0.930204  0.720048\n",
      "\t5      10099.742489  9706.868088  0.344092  0.258230\n",
      "\t10     10090.518152  9581.041021  0.200887  0.158277\n",
      "\t15      9870.608513  9374.894038  0.144606  0.115272\n",
      "\n",
      "\n"
     ]
    },
    {
     "name": "stdout",
     "output_type": "stream",
     "text": [
      "[\u001b[1mtardis.simulation.base\u001b[0m][\u001b[1;37mINFO\u001b[0m   ]  t_inner 10086.550 K -- next t_inner 11189.559 K (\u001b[1mbase.py\u001b[0m:352)\n"
     ]
    },
    {
     "name": "stderr",
     "output_type": "stream",
     "text": [
      "\u001b[1;37mINFO\u001b[0m:tardis.simulation.base:t_inner 10086.550 K -- next t_inner 11189.559 K\n"
     ]
    },
    {
     "name": "stdout",
     "output_type": "stream",
     "text": [
      "[\u001b[1mtardis.simulation.base\u001b[0m][\u001b[1;37mINFO\u001b[0m   ]  Starting iteration 10/20 (\u001b[1mbase.py\u001b[0m:268)\n"
     ]
    },
    {
     "name": "stderr",
     "output_type": "stream",
     "text": [
      "\u001b[1;37mINFO\u001b[0m:tardis.simulation.base:Starting iteration 10/20\n"
     ]
    },
    {
     "name": "stdout",
     "output_type": "stream",
     "text": [
      "[\u001b[1mtardis.simulation.base\u001b[0m][\u001b[1;37mINFO\u001b[0m   ]  Luminosity emitted = 1.28357e+43 erg / s Luminosity absorbed = 4.23057e+42 erg / s Luminosity requested = 1.05928e+43 erg / s (\u001b[1mbase.py\u001b[0m:359)\n"
     ]
    },
    {
     "name": "stderr",
     "output_type": "stream",
     "text": [
      "\u001b[1;37mINFO\u001b[0m:tardis.simulation.base:Luminosity emitted = 1.28357e+43 erg / s Luminosity absorbed = 4.23057e+42 erg / s Luminosity requested = 1.05928e+43 erg / s\n"
     ]
    },
    {
     "name": "stdout",
     "output_type": "stream",
     "text": [
      "[\u001b[1mtardis.simulation.base\u001b[0m][\u001b[1;37mINFO\u001b[0m   ]  Plasma stratification:\n",
      "\t             t_rad    next_t_rad         w    next_w\n",
      "\tShell                                               \n",
      "\t0      9405.531806   9939.135057  0.720048  0.883124\n",
      "\t5      9706.868088  10158.167298  0.258230  0.327686\n",
      "\t10     9581.041021  10118.893837  0.158277  0.191491\n",
      "\t15     9374.894038   9923.593783  0.115272  0.138466\n",
      "\n",
      " (\u001b[1mbase.py\u001b[0m:350)\n"
     ]
    },
    {
     "name": "stderr",
     "output_type": "stream",
     "text": [
      "\u001b[1;37mINFO\u001b[0m:tardis.simulation.base:Plasma stratification:\n",
      "\t             t_rad    next_t_rad         w    next_w\n",
      "\tShell                                               \n",
      "\t0      9405.531806   9939.135057  0.720048  0.883124\n",
      "\t5      9706.868088  10158.167298  0.258230  0.327686\n",
      "\t10     9581.041021  10118.893837  0.158277  0.191491\n",
      "\t15     9374.894038   9923.593783  0.115272  0.138466\n",
      "\n",
      "\n"
     ]
    },
    {
     "name": "stdout",
     "output_type": "stream",
     "text": [
      "[\u001b[1mtardis.simulation.base\u001b[0m][\u001b[1;37mINFO\u001b[0m   ]  t_inner 11189.559 K -- next t_inner 10164.998 K (\u001b[1mbase.py\u001b[0m:352)\n"
     ]
    },
    {
     "name": "stderr",
     "output_type": "stream",
     "text": [
      "\u001b[1;37mINFO\u001b[0m:tardis.simulation.base:t_inner 11189.559 K -- next t_inner 10164.998 K\n"
     ]
    },
    {
     "name": "stdout",
     "output_type": "stream",
     "text": [
      "[\u001b[1mtardis.simulation.base\u001b[0m][\u001b[1;37mINFO\u001b[0m   ]  Starting iteration 11/20 (\u001b[1mbase.py\u001b[0m:268)\n"
     ]
    },
    {
     "name": "stderr",
     "output_type": "stream",
     "text": [
      "\u001b[1;37mINFO\u001b[0m:tardis.simulation.base:Starting iteration 11/20\n"
     ]
    },
    {
     "name": "stdout",
     "output_type": "stream",
     "text": [
      "[\u001b[1mtardis.simulation.base\u001b[0m][\u001b[1;37mINFO\u001b[0m   ]  Luminosity emitted = 8.84954e+42 erg / s Luminosity absorbed = 2.78548e+42 erg / s Luminosity requested = 1.05928e+43 erg / s (\u001b[1mbase.py\u001b[0m:359)\n"
     ]
    },
    {
     "name": "stderr",
     "output_type": "stream",
     "text": [
      "\u001b[1;37mINFO\u001b[0m:tardis.simulation.base:Luminosity emitted = 8.84954e+42 erg / s Luminosity absorbed = 2.78548e+42 erg / s Luminosity requested = 1.05928e+43 erg / s\n"
     ]
    },
    {
     "name": "stdout",
     "output_type": "stream",
     "text": [
      "[\u001b[1mtardis.simulation.base\u001b[0m][\u001b[1;37mINFO\u001b[0m   ]  Plasma stratification:\n",
      "\t              t_rad   next_t_rad         w    next_w\n",
      "\tShell                                               \n",
      "\t0       9939.135057  9484.739802  0.883124  0.720538\n",
      "\t5      10158.167298  9706.177432  0.327686  0.265179\n",
      "\t10     10118.893837  9617.358094  0.191491  0.160158\n",
      "\t15      9923.593783  9457.726164  0.138466  0.115525\n",
      "\n",
      " (\u001b[1mbase.py\u001b[0m:350)\n"
     ]
    },
    {
     "name": "stderr",
     "output_type": "stream",
     "text": [
      "\u001b[1;37mINFO\u001b[0m:tardis.simulation.base:Plasma stratification:\n",
      "\t              t_rad   next_t_rad         w    next_w\n",
      "\tShell                                               \n",
      "\t0       9939.135057  9484.739802  0.883124  0.720538\n",
      "\t5      10158.167298  9706.177432  0.327686  0.265179\n",
      "\t10     10118.893837  9617.358094  0.191491  0.160158\n",
      "\t15      9923.593783  9457.726164  0.138466  0.115525\n",
      "\n",
      "\n"
     ]
    },
    {
     "name": "stdout",
     "output_type": "stream",
     "text": [
      "[\u001b[1mtardis.simulation.base\u001b[0m][\u001b[1;37mINFO\u001b[0m   ]  t_inner 10164.998 K -- next t_inner 11121.199 K (\u001b[1mbase.py\u001b[0m:352)\n"
     ]
    },
    {
     "name": "stderr",
     "output_type": "stream",
     "text": [
      "\u001b[1;37mINFO\u001b[0m:tardis.simulation.base:t_inner 10164.998 K -- next t_inner 11121.199 K\n"
     ]
    },
    {
     "name": "stdout",
     "output_type": "stream",
     "text": [
      "[\u001b[1mtardis.simulation.base\u001b[0m][\u001b[1;37mINFO\u001b[0m   ]  Starting iteration 12/20 (\u001b[1mbase.py\u001b[0m:268)\n"
     ]
    },
    {
     "name": "stderr",
     "output_type": "stream",
     "text": [
      "\u001b[1;37mINFO\u001b[0m:tardis.simulation.base:Starting iteration 12/20\n"
     ]
    },
    {
     "name": "stdout",
     "output_type": "stream",
     "text": [
      "[\u001b[1mtardis.simulation.base\u001b[0m][\u001b[1;37mINFO\u001b[0m   ]  Luminosity emitted = 1.25251e+43 erg / s Luminosity absorbed = 4.13304e+42 erg / s Luminosity requested = 1.05928e+43 erg / s (\u001b[1mbase.py\u001b[0m:359)\n"
     ]
    },
    {
     "name": "stderr",
     "output_type": "stream",
     "text": [
      "\u001b[1;37mINFO\u001b[0m:tardis.simulation.base:Luminosity emitted = 1.25251e+43 erg / s Luminosity absorbed = 4.13304e+42 erg / s Luminosity requested = 1.05928e+43 erg / s\n"
     ]
    },
    {
     "name": "stdout",
     "output_type": "stream",
     "text": [
      "[\u001b[1mtardis.simulation.base\u001b[0m][\u001b[1;37mINFO\u001b[0m   ]  Plasma stratification:\n",
      "\t             t_rad    next_t_rad         w    next_w\n",
      "\tShell                                               \n",
      "\t0      9484.739802   9841.925614  0.720538  0.902204\n",
      "\t5      9706.177432  10092.504495  0.265179  0.324445\n",
      "\t10     9617.358094  10052.135197  0.160158  0.192410\n",
      "\t15     9457.726164   9782.630710  0.115525  0.141517\n",
      "\n",
      " (\u001b[1mbase.py\u001b[0m:350)\n"
     ]
    },
    {
     "name": "stderr",
     "output_type": "stream",
     "text": [
      "\u001b[1;37mINFO\u001b[0m:tardis.simulation.base:Plasma stratification:\n",
      "\t             t_rad    next_t_rad         w    next_w\n",
      "\tShell                                               \n",
      "\t0      9484.739802   9841.925614  0.720538  0.902204\n",
      "\t5      9706.177432  10092.504495  0.265179  0.324445\n",
      "\t10     9617.358094  10052.135197  0.160158  0.192410\n",
      "\t15     9457.726164   9782.630710  0.115525  0.141517\n",
      "\n",
      "\n"
     ]
    },
    {
     "name": "stdout",
     "output_type": "stream",
     "text": [
      "[\u001b[1mtardis.simulation.base\u001b[0m][\u001b[1;37mINFO\u001b[0m   ]  t_inner 11121.199 K -- next t_inner 10227.427 K (\u001b[1mbase.py\u001b[0m:352)\n"
     ]
    },
    {
     "name": "stderr",
     "output_type": "stream",
     "text": [
      "\u001b[1;37mINFO\u001b[0m:tardis.simulation.base:t_inner 11121.199 K -- next t_inner 10227.427 K\n"
     ]
    },
    {
     "name": "stdout",
     "output_type": "stream",
     "text": [
      "[\u001b[1mtardis.simulation.base\u001b[0m][\u001b[1;37mINFO\u001b[0m   ]  Starting iteration 13/20 (\u001b[1mbase.py\u001b[0m:268)\n"
     ]
    },
    {
     "name": "stderr",
     "output_type": "stream",
     "text": [
      "\u001b[1;37mINFO\u001b[0m:tardis.simulation.base:Starting iteration 13/20\n"
     ]
    },
    {
     "name": "stdout",
     "output_type": "stream",
     "text": [
      "[\u001b[1mtardis.simulation.base\u001b[0m][\u001b[1;37mINFO\u001b[0m   ]  Luminosity emitted = 9.05458e+42 erg / s Luminosity absorbed = 2.86723e+42 erg / s Luminosity requested = 1.05928e+43 erg / s (\u001b[1mbase.py\u001b[0m:359)\n"
     ]
    },
    {
     "name": "stderr",
     "output_type": "stream",
     "text": [
      "\u001b[1;37mINFO\u001b[0m:tardis.simulation.base:Luminosity emitted = 9.05458e+42 erg / s Luminosity absorbed = 2.86723e+42 erg / s Luminosity requested = 1.05928e+43 erg / s\n"
     ]
    },
    {
     "name": "stdout",
     "output_type": "stream",
     "text": [
      "[\u001b[1mtardis.simulation.base\u001b[0m][\u001b[1;37mINFO\u001b[0m   ]  Plasma stratification:\n",
      "\t              t_rad   next_t_rad         w    next_w\n",
      "\tShell                                               \n",
      "\t0       9841.925614  9443.902372  0.902204  0.749187\n",
      "\t5      10092.504495  9786.461495  0.324445  0.262930\n",
      "\t10     10052.135197  9697.013069  0.192410  0.158719\n",
      "\t15      9782.630710  9432.702063  0.141517  0.119159\n",
      "\n",
      " (\u001b[1mbase.py\u001b[0m:350)\n"
     ]
    },
    {
     "name": "stderr",
     "output_type": "stream",
     "text": [
      "\u001b[1;37mINFO\u001b[0m:tardis.simulation.base:Plasma stratification:\n",
      "\t              t_rad   next_t_rad         w    next_w\n",
      "\tShell                                               \n",
      "\t0       9841.925614  9443.902372  0.902204  0.749187\n",
      "\t5      10092.504495  9786.461495  0.324445  0.262930\n",
      "\t10     10052.135197  9697.013069  0.192410  0.158719\n",
      "\t15      9782.630710  9432.702063  0.141517  0.119159\n",
      "\n",
      "\n"
     ]
    },
    {
     "name": "stdout",
     "output_type": "stream",
     "text": [
      "[\u001b[1mtardis.simulation.base\u001b[0m][\u001b[1;37mINFO\u001b[0m   ]  t_inner 10227.427 K -- next t_inner 11062.081 K (\u001b[1mbase.py\u001b[0m:352)\n"
     ]
    },
    {
     "name": "stderr",
     "output_type": "stream",
     "text": [
      "\u001b[1;37mINFO\u001b[0m:tardis.simulation.base:t_inner 10227.427 K -- next t_inner 11062.081 K\n"
     ]
    },
    {
     "name": "stdout",
     "output_type": "stream",
     "text": [
      "[\u001b[1mtardis.simulation.base\u001b[0m][\u001b[1;37mINFO\u001b[0m   ]  Starting iteration 14/20 (\u001b[1mbase.py\u001b[0m:268)\n"
     ]
    },
    {
     "name": "stderr",
     "output_type": "stream",
     "text": [
      "\u001b[1;37mINFO\u001b[0m:tardis.simulation.base:Starting iteration 14/20\n"
     ]
    },
    {
     "name": "stdout",
     "output_type": "stream",
     "text": [
      "[\u001b[1mtardis.simulation.base\u001b[0m][\u001b[1;37mINFO\u001b[0m   ]  Luminosity emitted = 1.22773e+43 erg / s Luminosity absorbed = 4.02550e+42 erg / s Luminosity requested = 1.05928e+43 erg / s (\u001b[1mbase.py\u001b[0m:359)\n"
     ]
    },
    {
     "name": "stderr",
     "output_type": "stream",
     "text": [
      "\u001b[1;37mINFO\u001b[0m:tardis.simulation.base:Luminosity emitted = 1.22773e+43 erg / s Luminosity absorbed = 4.02550e+42 erg / s Luminosity requested = 1.05928e+43 erg / s\n"
     ]
    },
    {
     "name": "stdout",
     "output_type": "stream",
     "text": [
      "[\u001b[1mtardis.simulation.base\u001b[0m][\u001b[1;37mINFO\u001b[0m   ]  Plasma stratification:\n",
      "\t             t_rad    next_t_rad         w    next_w\n",
      "\tShell                                               \n",
      "\t0      9443.902372   9826.363638  0.749187  0.880749\n",
      "\t5      9786.461495  10099.573803  0.262930  0.322389\n",
      "\t10     9697.013069  10000.735484  0.158719  0.193070\n",
      "\t15     9432.702063   9775.253155  0.119159  0.140204\n",
      "\n",
      " (\u001b[1mbase.py\u001b[0m:350)\n"
     ]
    },
    {
     "name": "stderr",
     "output_type": "stream",
     "text": [
      "\u001b[1;37mINFO\u001b[0m:tardis.simulation.base:Plasma stratification:\n",
      "\t             t_rad    next_t_rad         w    next_w\n",
      "\tShell                                               \n",
      "\t0      9443.902372   9826.363638  0.749187  0.880749\n",
      "\t5      9786.461495  10099.573803  0.262930  0.322389\n",
      "\t10     9697.013069  10000.735484  0.158719  0.193070\n",
      "\t15     9432.702063   9775.253155  0.119159  0.140204\n",
      "\n",
      "\n"
     ]
    },
    {
     "name": "stdout",
     "output_type": "stream",
     "text": [
      "[\u001b[1mtardis.simulation.base\u001b[0m][\u001b[1;37mINFO\u001b[0m   ]  t_inner 11062.081 K -- next t_inner 10275.183 K (\u001b[1mbase.py\u001b[0m:352)\n"
     ]
    },
    {
     "name": "stderr",
     "output_type": "stream",
     "text": [
      "\u001b[1;37mINFO\u001b[0m:tardis.simulation.base:t_inner 11062.081 K -- next t_inner 10275.183 K\n"
     ]
    },
    {
     "name": "stdout",
     "output_type": "stream",
     "text": [
      "[\u001b[1mtardis.simulation.base\u001b[0m][\u001b[1;37mINFO\u001b[0m   ]  Starting iteration 15/20 (\u001b[1mbase.py\u001b[0m:268)\n"
     ]
    },
    {
     "name": "stderr",
     "output_type": "stream",
     "text": [
      "\u001b[1;37mINFO\u001b[0m:tardis.simulation.base:Starting iteration 15/20\n"
     ]
    },
    {
     "name": "stdout",
     "output_type": "stream",
     "text": [
      "[\u001b[1mtardis.simulation.base\u001b[0m][\u001b[1;37mINFO\u001b[0m   ]  Luminosity emitted = 9.23679e+42 erg / s Luminosity absorbed = 2.90948e+42 erg / s Luminosity requested = 1.05928e+43 erg / s (\u001b[1mbase.py\u001b[0m:359)\n"
     ]
    },
    {
     "name": "stderr",
     "output_type": "stream",
     "text": [
      "\u001b[1;37mINFO\u001b[0m:tardis.simulation.base:Luminosity emitted = 9.23679e+42 erg / s Luminosity absorbed = 2.90948e+42 erg / s Luminosity requested = 1.05928e+43 erg / s\n"
     ]
    },
    {
     "name": "stdout",
     "output_type": "stream",
     "text": [
      "[\u001b[1mtardis.simulation.base\u001b[0m][\u001b[1;37mINFO\u001b[0m   ]  Plasma stratification:\n",
      "\t              t_rad   next_t_rad         w    next_w\n",
      "\tShell                                               \n",
      "\t0       9826.363638  9471.835438  0.880749  0.752232\n",
      "\t5      10099.573803  9774.926635  0.322389  0.269708\n",
      "\t10     10000.735484  9736.476310  0.193070  0.160718\n",
      "\t15      9775.253155  9529.135535  0.140204  0.116771\n",
      "\n",
      " (\u001b[1mbase.py\u001b[0m:350)\n"
     ]
    },
    {
     "name": "stderr",
     "output_type": "stream",
     "text": [
      "\u001b[1;37mINFO\u001b[0m:tardis.simulation.base:Plasma stratification:\n",
      "\t              t_rad   next_t_rad         w    next_w\n",
      "\tShell                                               \n",
      "\t0       9826.363638  9471.835438  0.880749  0.752232\n",
      "\t5      10099.573803  9774.926635  0.322389  0.269708\n",
      "\t10     10000.735484  9736.476310  0.193070  0.160718\n",
      "\t15      9775.253155  9529.135535  0.140204  0.116771\n",
      "\n",
      "\n"
     ]
    },
    {
     "name": "stdout",
     "output_type": "stream",
     "text": [
      "[\u001b[1mtardis.simulation.base\u001b[0m][\u001b[1;37mINFO\u001b[0m   ]  t_inner 10275.183 K -- next t_inner 11003.572 K (\u001b[1mbase.py\u001b[0m:352)\n"
     ]
    },
    {
     "name": "stderr",
     "output_type": "stream",
     "text": [
      "\u001b[1;37mINFO\u001b[0m:tardis.simulation.base:t_inner 10275.183 K -- next t_inner 11003.572 K\n"
     ]
    },
    {
     "name": "stdout",
     "output_type": "stream",
     "text": [
      "[\u001b[1mtardis.simulation.base\u001b[0m][\u001b[1;37mINFO\u001b[0m   ]  Starting iteration 16/20 (\u001b[1mbase.py\u001b[0m:268)\n"
     ]
    },
    {
     "name": "stderr",
     "output_type": "stream",
     "text": [
      "\u001b[1;37mINFO\u001b[0m:tardis.simulation.base:Starting iteration 16/20\n"
     ]
    },
    {
     "name": "stdout",
     "output_type": "stream",
     "text": [
      "[\u001b[1mtardis.simulation.base\u001b[0m][\u001b[1;37mINFO\u001b[0m   ]  Luminosity emitted = 1.20018e+43 erg / s Luminosity absorbed = 3.96167e+42 erg / s Luminosity requested = 1.05928e+43 erg / s (\u001b[1mbase.py\u001b[0m:359)\n"
     ]
    },
    {
     "name": "stderr",
     "output_type": "stream",
     "text": [
      "\u001b[1;37mINFO\u001b[0m:tardis.simulation.base:Luminosity emitted = 1.20018e+43 erg / s Luminosity absorbed = 3.96167e+42 erg / s Luminosity requested = 1.05928e+43 erg / s\n"
     ]
    },
    {
     "name": "stdout",
     "output_type": "stream",
     "text": [
      "[\u001b[1mtardis.simulation.base\u001b[0m][\u001b[1;37mINFO\u001b[0m   ]  Plasma stratification:\n",
      "\t             t_rad    next_t_rad         w    next_w\n",
      "\tShell                                               \n",
      "\t0      9471.835438   9746.841643  0.752232  0.891990\n",
      "\t5      9774.926635  10040.506275  0.269708  0.318153\n",
      "\t10     9736.476310  10035.407919  0.160718  0.185537\n",
      "\t15     9529.135535   9778.254325  0.116771  0.136998\n",
      "\n",
      " (\u001b[1mbase.py\u001b[0m:350)\n"
     ]
    },
    {
     "name": "stderr",
     "output_type": "stream",
     "text": [
      "\u001b[1;37mINFO\u001b[0m:tardis.simulation.base:Plasma stratification:\n",
      "\t             t_rad    next_t_rad         w    next_w\n",
      "\tShell                                               \n",
      "\t0      9471.835438   9746.841643  0.752232  0.891990\n",
      "\t5      9774.926635  10040.506275  0.269708  0.318153\n",
      "\t10     9736.476310  10035.407919  0.160718  0.185537\n",
      "\t15     9529.135535   9778.254325  0.116771  0.136998\n",
      "\n",
      "\n"
     ]
    },
    {
     "name": "stdout",
     "output_type": "stream",
     "text": [
      "[\u001b[1mtardis.simulation.base\u001b[0m][\u001b[1;37mINFO\u001b[0m   ]  t_inner 11003.572 K -- next t_inner 10337.480 K (\u001b[1mbase.py\u001b[0m:352)\n"
     ]
    },
    {
     "name": "stderr",
     "output_type": "stream",
     "text": [
      "\u001b[1;37mINFO\u001b[0m:tardis.simulation.base:t_inner 11003.572 K -- next t_inner 10337.480 K\n"
     ]
    },
    {
     "name": "stdout",
     "output_type": "stream",
     "text": [
      "[\u001b[1mtardis.simulation.base\u001b[0m][\u001b[1;37mINFO\u001b[0m   ]  Starting iteration 17/20 (\u001b[1mbase.py\u001b[0m:268)\n"
     ]
    },
    {
     "name": "stderr",
     "output_type": "stream",
     "text": [
      "\u001b[1;37mINFO\u001b[0m:tardis.simulation.base:Starting iteration 17/20\n"
     ]
    },
    {
     "name": "stdout",
     "output_type": "stream",
     "text": [
      "[\u001b[1mtardis.simulation.base\u001b[0m][\u001b[1;37mINFO\u001b[0m   ]  Luminosity emitted = 9.42545e+42 erg / s Luminosity absorbed = 3.01444e+42 erg / s Luminosity requested = 1.05928e+43 erg / s (\u001b[1mbase.py\u001b[0m:359)\n"
     ]
    },
    {
     "name": "stderr",
     "output_type": "stream",
     "text": [
      "\u001b[1;37mINFO\u001b[0m:tardis.simulation.base:Luminosity emitted = 9.42545e+42 erg / s Luminosity absorbed = 3.01444e+42 erg / s Luminosity requested = 1.05928e+43 erg / s\n"
     ]
    },
    {
     "name": "stdout",
     "output_type": "stream",
     "text": [
      "[\u001b[1mtardis.simulation.base\u001b[0m][\u001b[1;37mINFO\u001b[0m   ]  Plasma stratification:\n",
      "\t              t_rad   next_t_rad         w    next_w\n",
      "\tShell                                               \n",
      "\t0       9746.841643  9517.502610  0.891990  0.763386\n",
      "\t5      10040.506275  9754.535583  0.318153  0.280468\n",
      "\t10     10035.407919  9733.778355  0.185537  0.164267\n",
      "\t15      9778.254325  9499.088283  0.136998  0.120797\n",
      "\n",
      " (\u001b[1mbase.py\u001b[0m:350)\n"
     ]
    },
    {
     "name": "stderr",
     "output_type": "stream",
     "text": [
      "\u001b[1;37mINFO\u001b[0m:tardis.simulation.base:Plasma stratification:\n",
      "\t              t_rad   next_t_rad         w    next_w\n",
      "\tShell                                               \n",
      "\t0       9746.841643  9517.502610  0.891990  0.763386\n",
      "\t5      10040.506275  9754.535583  0.318153  0.280468\n",
      "\t10     10035.407919  9733.778355  0.185537  0.164267\n",
      "\t15      9778.254325  9499.088283  0.136998  0.120797\n",
      "\n",
      "\n"
     ]
    },
    {
     "name": "stdout",
     "output_type": "stream",
     "text": [
      "[\u001b[1mtardis.simulation.base\u001b[0m][\u001b[1;37mINFO\u001b[0m   ]  t_inner 10337.480 K -- next t_inner 10958.934 K (\u001b[1mbase.py\u001b[0m:352)\n"
     ]
    },
    {
     "name": "stderr",
     "output_type": "stream",
     "text": [
      "\u001b[1;37mINFO\u001b[0m:tardis.simulation.base:t_inner 10337.480 K -- next t_inner 10958.934 K\n"
     ]
    },
    {
     "name": "stdout",
     "output_type": "stream",
     "text": [
      "[\u001b[1mtardis.simulation.base\u001b[0m][\u001b[1;37mINFO\u001b[0m   ]  Starting iteration 18/20 (\u001b[1mbase.py\u001b[0m:268)\n"
     ]
    },
    {
     "name": "stderr",
     "output_type": "stream",
     "text": [
      "\u001b[1;37mINFO\u001b[0m:tardis.simulation.base:Starting iteration 18/20\n"
     ]
    },
    {
     "name": "stdout",
     "output_type": "stream",
     "text": [
      "[\u001b[1mtardis.simulation.base\u001b[0m][\u001b[1;37mINFO\u001b[0m   ]  Luminosity emitted = 1.17856e+43 erg / s Luminosity absorbed = 3.92120e+42 erg / s Luminosity requested = 1.05928e+43 erg / s (\u001b[1mbase.py\u001b[0m:359)\n"
     ]
    },
    {
     "name": "stderr",
     "output_type": "stream",
     "text": [
      "\u001b[1;37mINFO\u001b[0m:tardis.simulation.base:Luminosity emitted = 1.17856e+43 erg / s Luminosity absorbed = 3.92120e+42 erg / s Luminosity requested = 1.05928e+43 erg / s\n"
     ]
    },
    {
     "name": "stdout",
     "output_type": "stream",
     "text": [
      "[\u001b[1mtardis.simulation.base\u001b[0m][\u001b[1;37mINFO\u001b[0m   ]  Plasma stratification:\n",
      "\t             t_rad   next_t_rad         w    next_w\n",
      "\tShell                                              \n",
      "\t0      9517.502610  9747.776877  0.763386  0.874021\n",
      "\t5      9754.535583  9950.736226  0.280468  0.323624\n",
      "\t10     9733.778355  9887.229139  0.164267  0.192196\n",
      "\t15     9499.088283  9698.956311  0.120797  0.138246\n",
      "\n",
      " (\u001b[1mbase.py\u001b[0m:350)\n"
     ]
    },
    {
     "name": "stderr",
     "output_type": "stream",
     "text": [
      "\u001b[1;37mINFO\u001b[0m:tardis.simulation.base:Plasma stratification:\n",
      "\t             t_rad   next_t_rad         w    next_w\n",
      "\tShell                                              \n",
      "\t0      9517.502610  9747.776877  0.763386  0.874021\n",
      "\t5      9754.535583  9950.736226  0.280468  0.323624\n",
      "\t10     9733.778355  9887.229139  0.164267  0.192196\n",
      "\t15     9499.088283  9698.956311  0.120797  0.138246\n",
      "\n",
      "\n"
     ]
    },
    {
     "name": "stdout",
     "output_type": "stream",
     "text": [
      "[\u001b[1mtardis.simulation.base\u001b[0m][\u001b[1;37mINFO\u001b[0m   ]  t_inner 10958.934 K -- next t_inner 10389.554 K (\u001b[1mbase.py\u001b[0m:352)\n"
     ]
    },
    {
     "name": "stderr",
     "output_type": "stream",
     "text": [
      "\u001b[1;37mINFO\u001b[0m:tardis.simulation.base:t_inner 10958.934 K -- next t_inner 10389.554 K\n"
     ]
    },
    {
     "name": "stdout",
     "output_type": "stream",
     "text": [
      "[\u001b[1mtardis.simulation.base\u001b[0m][\u001b[1;37mINFO\u001b[0m   ]  Starting iteration 19/20 (\u001b[1mbase.py\u001b[0m:268)\n"
     ]
    },
    {
     "name": "stderr",
     "output_type": "stream",
     "text": [
      "\u001b[1;37mINFO\u001b[0m:tardis.simulation.base:Starting iteration 19/20\n"
     ]
    },
    {
     "name": "stdout",
     "output_type": "stream",
     "text": [
      "[\u001b[1mtardis.simulation.base\u001b[0m][\u001b[1;37mINFO\u001b[0m   ]  Luminosity emitted = 9.62056e+42 erg / s Luminosity absorbed = 3.06969e+42 erg / s Luminosity requested = 1.05928e+43 erg / s (\u001b[1mbase.py\u001b[0m:359)\n"
     ]
    },
    {
     "name": "stderr",
     "output_type": "stream",
     "text": [
      "\u001b[1;37mINFO\u001b[0m:tardis.simulation.base:Luminosity emitted = 9.62056e+42 erg / s Luminosity absorbed = 3.06969e+42 erg / s Luminosity requested = 1.05928e+43 erg / s\n"
     ]
    },
    {
     "name": "stdout",
     "output_type": "stream",
     "text": [
      "[\u001b[1mtardis.simulation.base\u001b[0m][\u001b[1;37mINFO\u001b[0m   ]  Plasma stratification:\n",
      "\t             t_rad   next_t_rad         w    next_w\n",
      "\tShell                                              \n",
      "\t0      9747.776877  9500.052787  0.874021  0.783088\n",
      "\t5      9950.736226  9783.184930  0.323624  0.283790\n",
      "\t10     9887.229139  9678.941562  0.192196  0.171831\n",
      "\t15     9698.956311  9506.074332  0.138246  0.122892\n",
      "\n",
      " (\u001b[1mbase.py\u001b[0m:350)\n"
     ]
    },
    {
     "name": "stderr",
     "output_type": "stream",
     "text": [
      "\u001b[1;37mINFO\u001b[0m:tardis.simulation.base:Plasma stratification:\n",
      "\t             t_rad   next_t_rad         w    next_w\n",
      "\tShell                                              \n",
      "\t0      9747.776877  9500.052787  0.874021  0.783088\n",
      "\t5      9950.736226  9783.184930  0.323624  0.283790\n",
      "\t10     9887.229139  9678.941562  0.192196  0.171831\n",
      "\t15     9698.956311  9506.074332  0.138246  0.122892\n",
      "\n",
      "\n"
     ]
    },
    {
     "name": "stdout",
     "output_type": "stream",
     "text": [
      "[\u001b[1mtardis.simulation.base\u001b[0m][\u001b[1;37mINFO\u001b[0m   ]  t_inner 10389.554 K -- next t_inner 10901.882 K (\u001b[1mbase.py\u001b[0m:352)\n"
     ]
    },
    {
     "name": "stderr",
     "output_type": "stream",
     "text": [
      "\u001b[1;37mINFO\u001b[0m:tardis.simulation.base:t_inner 10389.554 K -- next t_inner 10901.882 K\n"
     ]
    },
    {
     "name": "stdout",
     "output_type": "stream",
     "text": [
      "[\u001b[1mtardis.simulation.base\u001b[0m][\u001b[1;37mINFO\u001b[0m   ]  Starting iteration 20/20 (\u001b[1mbase.py\u001b[0m:268)\n"
     ]
    },
    {
     "name": "stderr",
     "output_type": "stream",
     "text": [
      "\u001b[1;37mINFO\u001b[0m:tardis.simulation.base:Starting iteration 20/20\n"
     ]
    },
    {
     "name": "stdout",
     "output_type": "stream",
     "text": [
      "[\u001b[1mtardis.simulation.base\u001b[0m][\u001b[1;37mINFO\u001b[0m   ]  Luminosity emitted = 1.16177e+43 erg / s Luminosity absorbed = 3.76611e+42 erg / s Luminosity requested = 1.05928e+43 erg / s (\u001b[1mbase.py\u001b[0m:359)\n"
     ]
    },
    {
     "name": "stderr",
     "output_type": "stream",
     "text": [
      "\u001b[1;37mINFO\u001b[0m:tardis.simulation.base:Luminosity emitted = 1.16177e+43 erg / s Luminosity absorbed = 3.76611e+42 erg / s Luminosity requested = 1.05928e+43 erg / s\n"
     ]
    },
    {
     "name": "stdout",
     "output_type": "stream",
     "text": [
      "[\u001b[1mtardis.simulation.base\u001b[0m][\u001b[1;37mINFO\u001b[0m   ]  Simulation finished in 20 iterations and took 38.79 s (\u001b[1mbase.py\u001b[0m:308)\n"
     ]
    },
    {
     "name": "stderr",
     "output_type": "stream",
     "text": [
      "\u001b[1;37mINFO\u001b[0m:tardis.simulation.base:Simulation finished in 20 iterations and took 38.79 s\n"
     ]
    },
    {
     "name": "stdout",
     "output_type": "stream",
     "text": [
      "[\u001b[1mtardis.plasma.standard_plasmas\u001b[0m][\u001b[1;37mINFO\u001b[0m   ]  Reading Atomic Data from kurucz_cd23_chianti_H_He.h5 (\u001b[1mstandard_plasmas.py\u001b[0m:74)\n"
     ]
    },
    {
     "name": "stderr",
     "output_type": "stream",
     "text": [
      "\u001b[1;37mINFO\u001b[0m:tardis.plasma.standard_plasmas:Reading Atomic Data from kurucz_cd23_chianti_H_He.h5\n"
     ]
    },
    {
     "name": "stdout",
     "output_type": "stream",
     "text": [
      "[\u001b[1mtardis.io.atom_data.util\u001b[0m][\u001b[1;37mINFO\u001b[0m   ]  Atom Data kurucz_cd23_chianti_H_He.h5 not found in local path. Exists in TARDIS Data repo /home/vsts/Downloads/tardis-data/kurucz_cd23_chianti_H_He.h5 (\u001b[1mutil.py\u001b[0m:29)\n"
     ]
    },
    {
     "name": "stderr",
     "output_type": "stream",
     "text": [
      "\u001b[1;37mINFO\u001b[0m:tardis.io.atom_data.util:Atom Data kurucz_cd23_chianti_H_He.h5 not found in local path. Exists in TARDIS Data repo /home/vsts/Downloads/tardis-data/kurucz_cd23_chianti_H_He.h5\n"
     ]
    },
    {
     "name": "stdout",
     "output_type": "stream",
     "text": [
      "[\u001b[1mtardis.io.atom_data.base\u001b[0m][\u001b[1;37mINFO\u001b[0m   ]  Read Atom Data with UUID=6f7b09e887a311e7a06b246e96350010 and MD5=864f1753714343c41f99cb065710cace. (\u001b[1mbase.py\u001b[0m:184)\n"
     ]
    },
    {
     "name": "stderr",
     "output_type": "stream",
     "text": [
      "\u001b[1;37mINFO\u001b[0m:tardis.io.atom_data.base:Read Atom Data with UUID=6f7b09e887a311e7a06b246e96350010 and MD5=864f1753714343c41f99cb065710cace.\n"
     ]
    },
    {
     "name": "stdout",
     "output_type": "stream",
     "text": [
      "[\u001b[1mtardis.io.atom_data.base\u001b[0m][\u001b[1;37mINFO\u001b[0m   ]  Non provided atomic data: synpp_refs, photoionization_data (\u001b[1mbase.py\u001b[0m:187)\n"
     ]
    },
    {
     "name": "stderr",
     "output_type": "stream",
     "text": [
      "\u001b[1;37mINFO\u001b[0m:tardis.io.atom_data.base:Non provided atomic data: synpp_refs, photoionization_data\n"
     ]
    },
    {
     "name": "stdout",
     "output_type": "stream",
     "text": [
      "[\u001b[1mtardis.simulation.base\u001b[0m][\u001b[1;37mINFO\u001b[0m   ]  Starting iteration 1/20 (\u001b[1mbase.py\u001b[0m:268)\n"
     ]
    },
    {
     "name": "stderr",
     "output_type": "stream",
     "text": [
      "\u001b[1;37mINFO\u001b[0m:tardis.simulation.base:Starting iteration 1/20\n"
     ]
    },
    {
     "name": "stdout",
     "output_type": "stream",
     "text": [
      "[\u001b[1mtardis.simulation.base\u001b[0m][\u001b[1;37mINFO\u001b[0m   ]  Luminosity emitted = 7.93730e+42 erg / s Luminosity absorbed = 2.66400e+42 erg / s Luminosity requested = 1.05928e+43 erg / s (\u001b[1mbase.py\u001b[0m:359)\n"
     ]
    },
    {
     "name": "stderr",
     "output_type": "stream",
     "text": [
      "\u001b[1;37mINFO\u001b[0m:tardis.simulation.base:Luminosity emitted = 7.93730e+42 erg / s Luminosity absorbed = 2.66400e+42 erg / s Luminosity requested = 1.05928e+43 erg / s\n"
     ]
    },
    {
     "name": "stdout",
     "output_type": "stream",
     "text": [
      "[\u001b[1mtardis.simulation.base\u001b[0m][\u001b[1;37mINFO\u001b[0m   ]  Plasma stratification:\n",
      "\t             t_rad    next_t_rad         w    next_w\n",
      "\tShell                                               \n",
      "\t0      9926.501965  10168.422346  0.400392  0.501001\n",
      "\t5      9852.611678  10367.510165  0.211205  0.186556\n",
      "\t10     9779.813302  10222.882075  0.142695  0.113985\n",
      "\t15     9708.082813   9928.649533  0.104556  0.085217\n",
      "\n",
      " (\u001b[1mbase.py\u001b[0m:350)\n"
     ]
    },
    {
     "name": "stderr",
     "output_type": "stream",
     "text": [
      "\u001b[1;37mINFO\u001b[0m:tardis.simulation.base:Plasma stratification:\n",
      "\t             t_rad    next_t_rad         w    next_w\n",
      "\tShell                                               \n",
      "\t0      9926.501965  10168.422346  0.400392  0.501001\n",
      "\t5      9852.611678  10367.510165  0.211205  0.186556\n",
      "\t10     9779.813302  10222.882075  0.142695  0.113985\n",
      "\t15     9708.082813   9928.649533  0.104556  0.085217\n",
      "\n",
      "\n"
     ]
    },
    {
     "name": "stdout",
     "output_type": "stream",
     "text": [
      "[\u001b[1mtardis.simulation.base\u001b[0m][\u001b[1;37mINFO\u001b[0m   ]  t_inner 9933.952 K -- next t_inner 11475.997 K (\u001b[1mbase.py\u001b[0m:352)\n"
     ]
    },
    {
     "name": "stderr",
     "output_type": "stream",
     "text": [
      "\u001b[1;37mINFO\u001b[0m:tardis.simulation.base:t_inner 9933.952 K -- next t_inner 11475.997 K\n"
     ]
    },
    {
     "name": "stdout",
     "output_type": "stream",
     "text": [
      "[\u001b[1mtardis.simulation.base\u001b[0m][\u001b[1;37mINFO\u001b[0m   ]  Starting iteration 2/20 (\u001b[1mbase.py\u001b[0m:268)\n"
     ]
    },
    {
     "name": "stderr",
     "output_type": "stream",
     "text": [
      "\u001b[1;37mINFO\u001b[0m:tardis.simulation.base:Starting iteration 2/20\n"
     ]
    },
    {
     "name": "stdout",
     "output_type": "stream",
     "text": [
      "[\u001b[1mtardis.simulation.base\u001b[0m][\u001b[1;37mINFO\u001b[0m   ]  Luminosity emitted = 1.41371e+43 erg / s Luminosity absorbed = 4.73752e+42 erg / s Luminosity requested = 1.05928e+43 erg / s (\u001b[1mbase.py\u001b[0m:359)\n"
     ]
    },
    {
     "name": "stderr",
     "output_type": "stream",
     "text": [
      "\u001b[1;37mINFO\u001b[0m:tardis.simulation.base:Luminosity emitted = 1.41371e+43 erg / s Luminosity absorbed = 4.73752e+42 erg / s Luminosity requested = 1.05928e+43 erg / s\n"
     ]
    },
    {
     "name": "stdout",
     "output_type": "stream",
     "text": [
      "[\u001b[1mtardis.simulation.base\u001b[0m][\u001b[1;37mINFO\u001b[0m   ]  Plasma stratification:\n",
      "\t              t_rad    next_t_rad         w    next_w\n",
      "\tShell                                                \n",
      "\t0      10168.422346  11497.903617  0.501001  0.545136\n",
      "\t5      10367.510165  11621.417600  0.186556  0.212874\n",
      "\t10     10222.882075  11335.692704  0.113985  0.135635\n",
      "\t15      9928.649533  11018.841465  0.085217  0.101203\n",
      "\n",
      " (\u001b[1mbase.py\u001b[0m:350)\n"
     ]
    },
    {
     "name": "stderr",
     "output_type": "stream",
     "text": [
      "\u001b[1;37mINFO\u001b[0m:tardis.simulation.base:Plasma stratification:\n",
      "\t              t_rad    next_t_rad         w    next_w\n",
      "\tShell                                                \n",
      "\t0      10168.422346  11497.903617  0.501001  0.545136\n",
      "\t5      10367.510165  11621.417600  0.186556  0.212874\n",
      "\t10     10222.882075  11335.692704  0.113985  0.135635\n",
      "\t15      9928.649533  11018.841465  0.085217  0.101203\n",
      "\n",
      "\n"
     ]
    },
    {
     "name": "stdout",
     "output_type": "stream",
     "text": [
      "[\u001b[1mtardis.simulation.base\u001b[0m][\u001b[1;37mINFO\u001b[0m   ]  t_inner 11475.997 K -- next t_inner 9933.797 K (\u001b[1mbase.py\u001b[0m:352)\n"
     ]
    },
    {
     "name": "stderr",
     "output_type": "stream",
     "text": [
      "\u001b[1;37mINFO\u001b[0m:tardis.simulation.base:t_inner 11475.997 K -- next t_inner 9933.797 K\n"
     ]
    },
    {
     "name": "stdout",
     "output_type": "stream",
     "text": [
      "[\u001b[1mtardis.simulation.base\u001b[0m][\u001b[1;37mINFO\u001b[0m   ]  Starting iteration 3/20 (\u001b[1mbase.py\u001b[0m:268)\n"
     ]
    },
    {
     "name": "stderr",
     "output_type": "stream",
     "text": [
      "\u001b[1;37mINFO\u001b[0m:tardis.simulation.base:Starting iteration 3/20\n"
     ]
    },
    {
     "name": "stdout",
     "output_type": "stream",
     "text": [
      "[\u001b[1mtardis.simulation.base\u001b[0m][\u001b[1;37mINFO\u001b[0m   ]  Luminosity emitted = 8.04734e+42 erg / s Luminosity absorbed = 2.55640e+42 erg / s Luminosity requested = 1.05928e+43 erg / s (\u001b[1mbase.py\u001b[0m:359)\n"
     ]
    },
    {
     "name": "stderr",
     "output_type": "stream",
     "text": [
      "\u001b[1;37mINFO\u001b[0m:tardis.simulation.base:Luminosity emitted = 8.04734e+42 erg / s Luminosity absorbed = 2.55640e+42 erg / s Luminosity requested = 1.05928e+43 erg / s\n"
     ]
    },
    {
     "name": "stdout",
     "output_type": "stream",
     "text": [
      "[\u001b[1mtardis.simulation.base\u001b[0m][\u001b[1;37mINFO\u001b[0m   ]  Plasma stratification:\n",
      "\t              t_rad    next_t_rad         w    next_w\n",
      "\tShell                                                \n",
      "\t0      11497.903617  10477.653343  0.545136  0.439296\n",
      "\t5      11621.417600  10856.518852  0.212874  0.159058\n",
      "\t10     11335.692704  10635.474976  0.135635  0.100253\n",
      "\t15     11018.841465  10290.254692  0.101203  0.075529\n",
      "\n",
      " (\u001b[1mbase.py\u001b[0m:350)\n"
     ]
    },
    {
     "name": "stderr",
     "output_type": "stream",
     "text": [
      "\u001b[1;37mINFO\u001b[0m:tardis.simulation.base:Plasma stratification:\n",
      "\t              t_rad    next_t_rad         w    next_w\n",
      "\tShell                                                \n",
      "\t0      11497.903617  10477.653343  0.545136  0.439296\n",
      "\t5      11621.417600  10856.518852  0.212874  0.159058\n",
      "\t10     11335.692704  10635.474976  0.135635  0.100253\n",
      "\t15     11018.841465  10290.254692  0.101203  0.075529\n",
      "\n",
      "\n"
     ]
    },
    {
     "name": "stdout",
     "output_type": "stream",
     "text": [
      "[\u001b[1mtardis.simulation.base\u001b[0m][\u001b[1;37mINFO\u001b[0m   ]  t_inner 9933.797 K -- next t_inner 11397.084 K (\u001b[1mbase.py\u001b[0m:352)\n"
     ]
    },
    {
     "name": "stderr",
     "output_type": "stream",
     "text": [
      "\u001b[1;37mINFO\u001b[0m:tardis.simulation.base:t_inner 9933.797 K -- next t_inner 11397.084 K\n"
     ]
    },
    {
     "name": "stdout",
     "output_type": "stream",
     "text": [
      "[\u001b[1mtardis.simulation.base\u001b[0m][\u001b[1;37mINFO\u001b[0m   ]  Starting iteration 4/20 (\u001b[1mbase.py\u001b[0m:268)\n"
     ]
    },
    {
     "name": "stderr",
     "output_type": "stream",
     "text": [
      "\u001b[1;37mINFO\u001b[0m:tardis.simulation.base:Starting iteration 4/20\n"
     ]
    },
    {
     "name": "stdout",
     "output_type": "stream",
     "text": [
      "[\u001b[1mtardis.simulation.base\u001b[0m][\u001b[1;37mINFO\u001b[0m   ]  Luminosity emitted = 1.38199e+43 erg / s Luminosity absorbed = 4.54590e+42 erg / s Luminosity requested = 1.05928e+43 erg / s (\u001b[1mbase.py\u001b[0m:359)\n"
     ]
    },
    {
     "name": "stderr",
     "output_type": "stream",
     "text": [
      "\u001b[1;37mINFO\u001b[0m:tardis.simulation.base:Luminosity emitted = 1.38199e+43 erg / s Luminosity absorbed = 4.54590e+42 erg / s Luminosity requested = 1.05928e+43 erg / s\n"
     ]
    },
    {
     "name": "stdout",
     "output_type": "stream",
     "text": [
      "[\u001b[1mtardis.simulation.base\u001b[0m][\u001b[1;37mINFO\u001b[0m   ]  Plasma stratification:\n",
      "\t              t_rad    next_t_rad         w    next_w\n",
      "\tShell                                                \n",
      "\t0      10477.653343  11608.211738  0.439296  0.506501\n",
      "\t5      10856.518852  11859.259666  0.159058  0.192802\n",
      "\t10     10635.474976  11479.604579  0.100253  0.125779\n",
      "\t15     10290.254692  11149.192411  0.075529  0.094052\n",
      "\n",
      " (\u001b[1mbase.py\u001b[0m:350)\n"
     ]
    },
    {
     "name": "stderr",
     "output_type": "stream",
     "text": [
      "\u001b[1;37mINFO\u001b[0m:tardis.simulation.base:Plasma stratification:\n",
      "\t              t_rad    next_t_rad         w    next_w\n",
      "\tShell                                                \n",
      "\t0      10477.653343  11608.211738  0.439296  0.506501\n",
      "\t5      10856.518852  11859.259666  0.159058  0.192802\n",
      "\t10     10635.474976  11479.604579  0.100253  0.125779\n",
      "\t15     10290.254692  11149.192411  0.075529  0.094052\n",
      "\n",
      "\n"
     ]
    },
    {
     "name": "stdout",
     "output_type": "stream",
     "text": [
      "[\u001b[1mtardis.simulation.base\u001b[0m][\u001b[1;37mINFO\u001b[0m   ]  t_inner 11397.084 K -- next t_inner 9978.058 K (\u001b[1mbase.py\u001b[0m:352)\n"
     ]
    },
    {
     "name": "stderr",
     "output_type": "stream",
     "text": [
      "\u001b[1;37mINFO\u001b[0m:tardis.simulation.base:t_inner 11397.084 K -- next t_inner 9978.058 K\n"
     ]
    },
    {
     "name": "stdout",
     "output_type": "stream",
     "text": [
      "[\u001b[1mtardis.simulation.base\u001b[0m][\u001b[1;37mINFO\u001b[0m   ]  Starting iteration 5/20 (\u001b[1mbase.py\u001b[0m:268)\n"
     ]
    },
    {
     "name": "stderr",
     "output_type": "stream",
     "text": [
      "\u001b[1;37mINFO\u001b[0m:tardis.simulation.base:Starting iteration 5/20\n"
     ]
    },
    {
     "name": "stdout",
     "output_type": "stream",
     "text": [
      "[\u001b[1mtardis.simulation.base\u001b[0m][\u001b[1;37mINFO\u001b[0m   ]  Luminosity emitted = 8.16431e+42 erg / s Luminosity absorbed = 2.62454e+42 erg / s Luminosity requested = 1.05928e+43 erg / s (\u001b[1mbase.py\u001b[0m:359)\n"
     ]
    },
    {
     "name": "stderr",
     "output_type": "stream",
     "text": [
      "\u001b[1;37mINFO\u001b[0m:tardis.simulation.base:Luminosity emitted = 8.16431e+42 erg / s Luminosity absorbed = 2.62454e+42 erg / s Luminosity requested = 1.05928e+43 erg / s\n"
     ]
    },
    {
     "name": "stdout",
     "output_type": "stream",
     "text": [
      "[\u001b[1mtardis.simulation.base\u001b[0m][\u001b[1;37mINFO\u001b[0m   ]  Plasma stratification:\n",
      "\t              t_rad    next_t_rad         w    next_w\n",
      "\tShell                                                \n",
      "\t0      11608.211738  10556.913414  0.506501  0.440229\n",
      "\t5      11859.259666  11021.144022  0.192802  0.153136\n",
      "\t10     11479.604579  10713.104080  0.125779  0.099268\n",
      "\t15     11149.192411  10399.079825  0.094052  0.073482\n",
      "\n",
      " (\u001b[1mbase.py\u001b[0m:350)\n"
     ]
    },
    {
     "name": "stderr",
     "output_type": "stream",
     "text": [
      "\u001b[1;37mINFO\u001b[0m:tardis.simulation.base:Plasma stratification:\n",
      "\t              t_rad    next_t_rad         w    next_w\n",
      "\tShell                                                \n",
      "\t0      11608.211738  10556.913414  0.506501  0.440229\n",
      "\t5      11859.259666  11021.144022  0.192802  0.153136\n",
      "\t10     11479.604579  10713.104080  0.125779  0.099268\n",
      "\t15     11149.192411  10399.079825  0.094052  0.073482\n",
      "\n",
      "\n"
     ]
    },
    {
     "name": "stdout",
     "output_type": "stream",
     "text": [
      "[\u001b[1mtardis.simulation.base\u001b[0m][\u001b[1;37mINFO\u001b[0m   ]  t_inner 9978.058 K -- next t_inner 11365.561 K (\u001b[1mbase.py\u001b[0m:352)\n"
     ]
    },
    {
     "name": "stderr",
     "output_type": "stream",
     "text": [
      "\u001b[1;37mINFO\u001b[0m:tardis.simulation.base:t_inner 9978.058 K -- next t_inner 11365.561 K\n"
     ]
    },
    {
     "name": "stdout",
     "output_type": "stream",
     "text": [
      "[\u001b[1mtardis.simulation.base\u001b[0m][\u001b[1;37mINFO\u001b[0m   ]  Starting iteration 6/20 (\u001b[1mbase.py\u001b[0m:268)\n"
     ]
    },
    {
     "name": "stderr",
     "output_type": "stream",
     "text": [
      "\u001b[1;37mINFO\u001b[0m:tardis.simulation.base:Starting iteration 6/20\n"
     ]
    },
    {
     "name": "stdout",
     "output_type": "stream",
     "text": [
      "[\u001b[1mtardis.simulation.base\u001b[0m][\u001b[1;37mINFO\u001b[0m   ]  Luminosity emitted = 1.36136e+43 erg / s Luminosity absorbed = 4.54590e+42 erg / s Luminosity requested = 1.05928e+43 erg / s (\u001b[1mbase.py\u001b[0m:359)\n"
     ]
    },
    {
     "name": "stderr",
     "output_type": "stream",
     "text": [
      "\u001b[1;37mINFO\u001b[0m:tardis.simulation.base:Luminosity emitted = 1.36136e+43 erg / s Luminosity absorbed = 4.54590e+42 erg / s Luminosity requested = 1.05928e+43 erg / s\n"
     ]
    },
    {
     "name": "stdout",
     "output_type": "stream",
     "text": [
      "[\u001b[1mtardis.simulation.base\u001b[0m][\u001b[1;37mINFO\u001b[0m   ]  Plasma stratification:\n",
      "\t              t_rad    next_t_rad         w    next_w\n",
      "\tShell                                                \n",
      "\t0      10556.913414  11562.006340  0.440229  0.509603\n",
      "\t5      11021.144022  11799.980145  0.153136  0.194437\n",
      "\t10     10713.104080  11482.742597  0.099268  0.124721\n",
      "\t15     10399.079825  11124.799749  0.073482  0.093597\n",
      "\n",
      " (\u001b[1mbase.py\u001b[0m:350)\n"
     ]
    },
    {
     "name": "stderr",
     "output_type": "stream",
     "text": [
      "\u001b[1;37mINFO\u001b[0m:tardis.simulation.base:Plasma stratification:\n",
      "\t              t_rad    next_t_rad         w    next_w\n",
      "\tShell                                                \n",
      "\t0      10556.913414  11562.006340  0.440229  0.509603\n",
      "\t5      11021.144022  11799.980145  0.153136  0.194437\n",
      "\t10     10713.104080  11482.742597  0.099268  0.124721\n",
      "\t15     10399.079825  11124.799749  0.073482  0.093597\n",
      "\n",
      "\n"
     ]
    },
    {
     "name": "stdout",
     "output_type": "stream",
     "text": [
      "[\u001b[1mtardis.simulation.base\u001b[0m][\u001b[1;37mINFO\u001b[0m   ]  t_inner 11365.561 K -- next t_inner 10025.564 K (\u001b[1mbase.py\u001b[0m:352)\n"
     ]
    },
    {
     "name": "stderr",
     "output_type": "stream",
     "text": [
      "\u001b[1;37mINFO\u001b[0m:tardis.simulation.base:t_inner 11365.561 K -- next t_inner 10025.564 K\n"
     ]
    },
    {
     "name": "stdout",
     "output_type": "stream",
     "text": [
      "[\u001b[1mtardis.simulation.base\u001b[0m][\u001b[1;37mINFO\u001b[0m   ]  Starting iteration 7/20 (\u001b[1mbase.py\u001b[0m:268)\n"
     ]
    },
    {
     "name": "stderr",
     "output_type": "stream",
     "text": [
      "\u001b[1;37mINFO\u001b[0m:tardis.simulation.base:Starting iteration 7/20\n"
     ]
    },
    {
     "name": "stdout",
     "output_type": "stream",
     "text": [
      "[\u001b[1mtardis.simulation.base\u001b[0m][\u001b[1;37mINFO\u001b[0m   ]  Luminosity emitted = 8.33278e+42 erg / s Luminosity absorbed = 2.66283e+42 erg / s Luminosity requested = 1.05928e+43 erg / s (\u001b[1mbase.py\u001b[0m:359)\n"
     ]
    },
    {
     "name": "stderr",
     "output_type": "stream",
     "text": [
      "\u001b[1;37mINFO\u001b[0m:tardis.simulation.base:Luminosity emitted = 8.33278e+42 erg / s Luminosity absorbed = 2.66283e+42 erg / s Luminosity requested = 1.05928e+43 erg / s\n"
     ]
    },
    {
     "name": "stdout",
     "output_type": "stream",
     "text": [
      "[\u001b[1mtardis.simulation.base\u001b[0m][\u001b[1;37mINFO\u001b[0m   ]  Plasma stratification:\n",
      "\t              t_rad    next_t_rad         w    next_w\n",
      "\tShell                                                \n",
      "\t0      11562.006340  10655.549804  0.509603  0.430187\n",
      "\t5      11799.980145  11063.665621  0.194437  0.155127\n",
      "\t10     11482.742597  10926.058943  0.124721  0.094642\n",
      "\t15     11124.799749  10477.041314  0.093597  0.072578\n",
      "\n",
      " (\u001b[1mbase.py\u001b[0m:350)\n"
     ]
    },
    {
     "name": "stderr",
     "output_type": "stream",
     "text": [
      "\u001b[1;37mINFO\u001b[0m:tardis.simulation.base:Plasma stratification:\n",
      "\t              t_rad    next_t_rad         w    next_w\n",
      "\tShell                                                \n",
      "\t0      11562.006340  10655.549804  0.509603  0.430187\n",
      "\t5      11799.980145  11063.665621  0.194437  0.155127\n",
      "\t10     11482.742597  10926.058943  0.124721  0.094642\n",
      "\t15     11124.799749  10477.041314  0.093597  0.072578\n",
      "\n",
      "\n"
     ]
    },
    {
     "name": "stdout",
     "output_type": "stream",
     "text": [
      "[\u001b[1mtardis.simulation.base\u001b[0m][\u001b[1;37mINFO\u001b[0m   ]  t_inner 10025.564 K -- next t_inner 11303.643 K (\u001b[1mbase.py\u001b[0m:352)\n"
     ]
    },
    {
     "name": "stderr",
     "output_type": "stream",
     "text": [
      "\u001b[1;37mINFO\u001b[0m:tardis.simulation.base:t_inner 10025.564 K -- next t_inner 11303.643 K\n"
     ]
    },
    {
     "name": "stdout",
     "output_type": "stream",
     "text": [
      "[\u001b[1mtardis.simulation.base\u001b[0m][\u001b[1;37mINFO\u001b[0m   ]  Starting iteration 8/20 (\u001b[1mbase.py\u001b[0m:268)\n"
     ]
    },
    {
     "name": "stderr",
     "output_type": "stream",
     "text": [
      "\u001b[1;37mINFO\u001b[0m:tardis.simulation.base:Starting iteration 8/20\n"
     ]
    },
    {
     "name": "stdout",
     "output_type": "stream",
     "text": [
      "[\u001b[1mtardis.simulation.base\u001b[0m][\u001b[1;37mINFO\u001b[0m   ]  Luminosity emitted = 1.34650e+43 erg / s Luminosity absorbed = 4.30670e+42 erg / s Luminosity requested = 1.05928e+43 erg / s (\u001b[1mbase.py\u001b[0m:359)\n"
     ]
    },
    {
     "name": "stderr",
     "output_type": "stream",
     "text": [
      "\u001b[1;37mINFO\u001b[0m:tardis.simulation.base:Luminosity emitted = 1.34650e+43 erg / s Luminosity absorbed = 4.30670e+42 erg / s Luminosity requested = 1.05928e+43 erg / s\n"
     ]
    },
    {
     "name": "stdout",
     "output_type": "stream",
     "text": [
      "[\u001b[1mtardis.simulation.base\u001b[0m][\u001b[1;37mINFO\u001b[0m   ]  Plasma stratification:\n",
      "\t              t_rad    next_t_rad         w    next_w\n",
      "\tShell                                                \n",
      "\t0      10655.549804  11572.119736  0.430187  0.496558\n",
      "\t5      11063.665621  11696.304249  0.155127  0.198228\n",
      "\t10     10926.058943  11482.609682  0.094642  0.124382\n",
      "\t15     10477.041314  11098.080451  0.072578  0.093537\n",
      "\n",
      " (\u001b[1mbase.py\u001b[0m:350)\n"
     ]
    },
    {
     "name": "stderr",
     "output_type": "stream",
     "text": [
      "\u001b[1;37mINFO\u001b[0m:tardis.simulation.base:Plasma stratification:\n",
      "\t              t_rad    next_t_rad         w    next_w\n",
      "\tShell                                                \n",
      "\t0      10655.549804  11572.119736  0.430187  0.496558\n",
      "\t5      11063.665621  11696.304249  0.155127  0.198228\n",
      "\t10     10926.058943  11482.609682  0.094642  0.124382\n",
      "\t15     10477.041314  11098.080451  0.072578  0.093537\n",
      "\n",
      "\n"
     ]
    },
    {
     "name": "stdout",
     "output_type": "stream",
     "text": [
      "[\u001b[1mtardis.simulation.base\u001b[0m][\u001b[1;37mINFO\u001b[0m   ]  t_inner 11303.643 K -- next t_inner 10025.810 K (\u001b[1mbase.py\u001b[0m:352)\n"
     ]
    },
    {
     "name": "stderr",
     "output_type": "stream",
     "text": [
      "\u001b[1;37mINFO\u001b[0m:tardis.simulation.base:t_inner 11303.643 K -- next t_inner 10025.810 K\n"
     ]
    },
    {
     "name": "stdout",
     "output_type": "stream",
     "text": [
      "[\u001b[1mtardis.simulation.base\u001b[0m][\u001b[1;37mINFO\u001b[0m   ]  Starting iteration 9/20 (\u001b[1mbase.py\u001b[0m:268)\n"
     ]
    },
    {
     "name": "stderr",
     "output_type": "stream",
     "text": [
      "\u001b[1;37mINFO\u001b[0m:tardis.simulation.base:Starting iteration 9/20\n"
     ]
    },
    {
     "name": "stdout",
     "output_type": "stream",
     "text": [
      "[\u001b[1mtardis.simulation.base\u001b[0m][\u001b[1;37mINFO\u001b[0m   ]  Luminosity emitted = 8.36983e+42 erg / s Luminosity absorbed = 2.63049e+42 erg / s Luminosity requested = 1.05928e+43 erg / s (\u001b[1mbase.py\u001b[0m:359)\n"
     ]
    },
    {
     "name": "stderr",
     "output_type": "stream",
     "text": [
      "\u001b[1;37mINFO\u001b[0m:tardis.simulation.base:Luminosity emitted = 8.36983e+42 erg / s Luminosity absorbed = 2.63049e+42 erg / s Luminosity requested = 1.05928e+43 erg / s\n"
     ]
    },
    {
     "name": "stdout",
     "output_type": "stream",
     "text": [
      "[\u001b[1mtardis.simulation.base\u001b[0m][\u001b[1;37mINFO\u001b[0m   ]  Plasma stratification:\n",
      "\t              t_rad    next_t_rad         w    next_w\n",
      "\tShell                                                \n",
      "\t0      11572.119736  10590.775937  0.496558  0.439574\n",
      "\t5      11696.304249  11060.842307  0.198228  0.154917\n",
      "\t10     11482.609682  10761.665022  0.124382  0.099840\n",
      "\t15     11098.080451  10436.629671  0.093537  0.074676\n",
      "\n",
      " (\u001b[1mbase.py\u001b[0m:350)\n"
     ]
    },
    {
     "name": "stderr",
     "output_type": "stream",
     "text": [
      "\u001b[1;37mINFO\u001b[0m:tardis.simulation.base:Plasma stratification:\n",
      "\t              t_rad    next_t_rad         w    next_w\n",
      "\tShell                                                \n",
      "\t0      11572.119736  10590.775937  0.496558  0.439574\n",
      "\t5      11696.304249  11060.842307  0.198228  0.154917\n",
      "\t10     11482.609682  10761.665022  0.124382  0.099840\n",
      "\t15     11098.080451  10436.629671  0.093537  0.074676\n",
      "\n",
      "\n"
     ]
    },
    {
     "name": "stdout",
     "output_type": "stream",
     "text": [
      "[\u001b[1mtardis.simulation.base\u001b[0m][\u001b[1;37mINFO\u001b[0m   ]  t_inner 10025.810 K -- next t_inner 11278.874 K (\u001b[1mbase.py\u001b[0m:352)\n"
     ]
    },
    {
     "name": "stderr",
     "output_type": "stream",
     "text": [
      "\u001b[1;37mINFO\u001b[0m:tardis.simulation.base:t_inner 10025.810 K -- next t_inner 11278.874 K\n"
     ]
    },
    {
     "name": "stdout",
     "output_type": "stream",
     "text": [
      "[\u001b[1mtardis.simulation.base\u001b[0m][\u001b[1;37mINFO\u001b[0m   ]  Starting iteration 10/20 (\u001b[1mbase.py\u001b[0m:268)\n"
     ]
    },
    {
     "name": "stderr",
     "output_type": "stream",
     "text": [
      "\u001b[1;37mINFO\u001b[0m:tardis.simulation.base:Starting iteration 10/20\n"
     ]
    },
    {
     "name": "stdout",
     "output_type": "stream",
     "text": [
      "[\u001b[1mtardis.simulation.base\u001b[0m][\u001b[1;37mINFO\u001b[0m   ]  Luminosity emitted = 1.32624e+43 erg / s Luminosity absorbed = 4.34986e+42 erg / s Luminosity requested = 1.05928e+43 erg / s (\u001b[1mbase.py\u001b[0m:359)\n"
     ]
    },
    {
     "name": "stderr",
     "output_type": "stream",
     "text": [
      "\u001b[1;37mINFO\u001b[0m:tardis.simulation.base:Luminosity emitted = 1.32624e+43 erg / s Luminosity absorbed = 4.34986e+42 erg / s Luminosity requested = 1.05928e+43 erg / s\n"
     ]
    },
    {
     "name": "stdout",
     "output_type": "stream",
     "text": [
      "[\u001b[1mtardis.simulation.base\u001b[0m][\u001b[1;37mINFO\u001b[0m   ]  Plasma stratification:\n",
      "\t              t_rad    next_t_rad         w    next_w\n",
      "\tShell                                                \n",
      "\t0      10590.775937  11489.769556  0.439574  0.511403\n",
      "\t5      11060.842307  11791.517605  0.154917  0.191127\n",
      "\t10     10761.665022  11527.732208  0.099840  0.120106\n",
      "\t15     10436.629671  11111.114390  0.074676  0.091713\n",
      "\n",
      " (\u001b[1mbase.py\u001b[0m:350)\n"
     ]
    },
    {
     "name": "stderr",
     "output_type": "stream",
     "text": [
      "\u001b[1;37mINFO\u001b[0m:tardis.simulation.base:Plasma stratification:\n",
      "\t              t_rad    next_t_rad         w    next_w\n",
      "\tShell                                                \n",
      "\t0      10590.775937  11489.769556  0.439574  0.511403\n",
      "\t5      11060.842307  11791.517605  0.154917  0.191127\n",
      "\t10     10761.665022  11527.732208  0.099840  0.120106\n",
      "\t15     10436.629671  11111.114390  0.074676  0.091713\n",
      "\n",
      "\n"
     ]
    },
    {
     "name": "stdout",
     "output_type": "stream",
     "text": [
      "[\u001b[1mtardis.simulation.base\u001b[0m][\u001b[1;37mINFO\u001b[0m   ]  t_inner 11278.874 K -- next t_inner 10079.967 K (\u001b[1mbase.py\u001b[0m:352)\n"
     ]
    },
    {
     "name": "stderr",
     "output_type": "stream",
     "text": [
      "\u001b[1;37mINFO\u001b[0m:tardis.simulation.base:t_inner 11278.874 K -- next t_inner 10079.967 K\n"
     ]
    },
    {
     "name": "stdout",
     "output_type": "stream",
     "text": [
      "[\u001b[1mtardis.simulation.base\u001b[0m][\u001b[1;37mINFO\u001b[0m   ]  Starting iteration 11/20 (\u001b[1mbase.py\u001b[0m:268)\n"
     ]
    },
    {
     "name": "stderr",
     "output_type": "stream",
     "text": [
      "\u001b[1;37mINFO\u001b[0m:tardis.simulation.base:Starting iteration 11/20\n"
     ]
    },
    {
     "name": "stdout",
     "output_type": "stream",
     "text": [
      "[\u001b[1mtardis.simulation.base\u001b[0m][\u001b[1;37mINFO\u001b[0m   ]  Luminosity emitted = 8.51915e+42 erg / s Luminosity absorbed = 2.72009e+42 erg / s Luminosity requested = 1.05928e+43 erg / s (\u001b[1mbase.py\u001b[0m:359)\n"
     ]
    },
    {
     "name": "stderr",
     "output_type": "stream",
     "text": [
      "\u001b[1;37mINFO\u001b[0m:tardis.simulation.base:Luminosity emitted = 8.51915e+42 erg / s Luminosity absorbed = 2.72009e+42 erg / s Luminosity requested = 1.05928e+43 erg / s\n"
     ]
    },
    {
     "name": "stdout",
     "output_type": "stream",
     "text": [
      "[\u001b[1mtardis.simulation.base\u001b[0m][\u001b[1;37mINFO\u001b[0m   ]  Plasma stratification:\n",
      "\t              t_rad    next_t_rad         w    next_w\n",
      "\tShell                                                \n",
      "\t0      11489.769556  10664.234475  0.511403  0.437272\n",
      "\t5      11791.517605  11091.518839  0.191127  0.156638\n",
      "\t10     11527.732208  10885.771059  0.120106  0.096973\n",
      "\t15     11111.114390  10484.177251  0.091713  0.074261\n",
      "\n",
      " (\u001b[1mbase.py\u001b[0m:350)\n"
     ]
    },
    {
     "name": "stderr",
     "output_type": "stream",
     "text": [
      "\u001b[1;37mINFO\u001b[0m:tardis.simulation.base:Plasma stratification:\n",
      "\t              t_rad    next_t_rad         w    next_w\n",
      "\tShell                                                \n",
      "\t0      11489.769556  10664.234475  0.511403  0.437272\n",
      "\t5      11791.517605  11091.518839  0.191127  0.156638\n",
      "\t10     11527.732208  10885.771059  0.120106  0.096973\n",
      "\t15     11111.114390  10484.177251  0.091713  0.074261\n",
      "\n",
      "\n"
     ]
    },
    {
     "name": "stdout",
     "output_type": "stream",
     "text": [
      "[\u001b[1mtardis.simulation.base\u001b[0m][\u001b[1;37mINFO\u001b[0m   ]  t_inner 10079.967 K -- next t_inner 11239.980 K (\u001b[1mbase.py\u001b[0m:352)\n"
     ]
    },
    {
     "name": "stderr",
     "output_type": "stream",
     "text": [
      "\u001b[1;37mINFO\u001b[0m:tardis.simulation.base:t_inner 10079.967 K -- next t_inner 11239.980 K\n"
     ]
    },
    {
     "name": "stdout",
     "output_type": "stream",
     "text": [
      "[\u001b[1mtardis.simulation.base\u001b[0m][\u001b[1;37mINFO\u001b[0m   ]  Starting iteration 12/20 (\u001b[1mbase.py\u001b[0m:268)\n"
     ]
    },
    {
     "name": "stderr",
     "output_type": "stream",
     "text": [
      "\u001b[1;37mINFO\u001b[0m:tardis.simulation.base:Starting iteration 12/20\n"
     ]
    },
    {
     "name": "stdout",
     "output_type": "stream",
     "text": [
      "[\u001b[1mtardis.simulation.base\u001b[0m][\u001b[1;37mINFO\u001b[0m   ]  Luminosity emitted = 1.30886e+43 erg / s Luminosity absorbed = 4.28617e+42 erg / s Luminosity requested = 1.05928e+43 erg / s (\u001b[1mbase.py\u001b[0m:359)\n"
     ]
    },
    {
     "name": "stderr",
     "output_type": "stream",
     "text": [
      "\u001b[1;37mINFO\u001b[0m:tardis.simulation.base:Luminosity emitted = 1.30886e+43 erg / s Luminosity absorbed = 4.28617e+42 erg / s Luminosity requested = 1.05928e+43 erg / s\n"
     ]
    },
    {
     "name": "stdout",
     "output_type": "stream",
     "text": [
      "[\u001b[1mtardis.simulation.base\u001b[0m][\u001b[1;37mINFO\u001b[0m   ]  Plasma stratification:\n",
      "\t              t_rad    next_t_rad         w    next_w\n",
      "\tShell                                                \n",
      "\t0      10664.234475  11510.842068  0.437272  0.495944\n",
      "\t5      11091.518839  11716.009425  0.156638  0.189856\n",
      "\t10     10885.771059  11479.636914  0.096973  0.120067\n",
      "\t15     10484.177251  11117.963837  0.074261  0.090628\n",
      "\n",
      " (\u001b[1mbase.py\u001b[0m:350)\n"
     ]
    },
    {
     "name": "stderr",
     "output_type": "stream",
     "text": [
      "\u001b[1;37mINFO\u001b[0m:tardis.simulation.base:Plasma stratification:\n",
      "\t              t_rad    next_t_rad         w    next_w\n",
      "\tShell                                                \n",
      "\t0      10664.234475  11510.842068  0.437272  0.495944\n",
      "\t5      11091.518839  11716.009425  0.156638  0.189856\n",
      "\t10     10885.771059  11479.636914  0.096973  0.120067\n",
      "\t15     10484.177251  11117.963837  0.074261  0.090628\n",
      "\n",
      "\n"
     ]
    },
    {
     "name": "stdout",
     "output_type": "stream",
     "text": [
      "[\u001b[1mtardis.simulation.base\u001b[0m][\u001b[1;37mINFO\u001b[0m   ]  t_inner 11239.980 K -- next t_inner 10111.668 K (\u001b[1mbase.py\u001b[0m:352)\n"
     ]
    },
    {
     "name": "stderr",
     "output_type": "stream",
     "text": [
      "\u001b[1;37mINFO\u001b[0m:tardis.simulation.base:t_inner 11239.980 K -- next t_inner 10111.668 K\n"
     ]
    },
    {
     "name": "stdout",
     "output_type": "stream",
     "text": [
      "[\u001b[1mtardis.simulation.base\u001b[0m][\u001b[1;37mINFO\u001b[0m   ]  Starting iteration 13/20 (\u001b[1mbase.py\u001b[0m:268)\n"
     ]
    },
    {
     "name": "stderr",
     "output_type": "stream",
     "text": [
      "\u001b[1;37mINFO\u001b[0m:tardis.simulation.base:Starting iteration 13/20\n"
     ]
    },
    {
     "name": "stdout",
     "output_type": "stream",
     "text": [
      "[\u001b[1mtardis.simulation.base\u001b[0m][\u001b[1;37mINFO\u001b[0m   ]  Luminosity emitted = 8.65047e+42 erg / s Luminosity absorbed = 2.72874e+42 erg / s Luminosity requested = 1.05928e+43 erg / s (\u001b[1mbase.py\u001b[0m:359)\n"
     ]
    },
    {
     "name": "stderr",
     "output_type": "stream",
     "text": [
      "\u001b[1;37mINFO\u001b[0m:tardis.simulation.base:Luminosity emitted = 8.65047e+42 erg / s Luminosity absorbed = 2.72874e+42 erg / s Luminosity requested = 1.05928e+43 erg / s\n"
     ]
    },
    {
     "name": "stdout",
     "output_type": "stream",
     "text": [
      "[\u001b[1mtardis.simulation.base\u001b[0m][\u001b[1;37mINFO\u001b[0m   ]  Plasma stratification:\n",
      "\t              t_rad    next_t_rad         w    next_w\n",
      "\tShell                                                \n",
      "\t0      11510.842068  10636.025493  0.495944  0.446635\n",
      "\t5      11716.009425  11175.711706  0.189856  0.154916\n",
      "\t10     11479.636914  10916.188023  0.120067  0.097843\n",
      "\t15     11117.963837  10431.720831  0.090628  0.077032\n",
      "\n",
      " (\u001b[1mbase.py\u001b[0m:350)\n"
     ]
    },
    {
     "name": "stderr",
     "output_type": "stream",
     "text": [
      "\u001b[1;37mINFO\u001b[0m:tardis.simulation.base:Plasma stratification:\n",
      "\t              t_rad    next_t_rad         w    next_w\n",
      "\tShell                                                \n",
      "\t0      11510.842068  10636.025493  0.495944  0.446635\n",
      "\t5      11716.009425  11175.711706  0.189856  0.154916\n",
      "\t10     11479.636914  10916.188023  0.120067  0.097843\n",
      "\t15     11117.963837  10431.720831  0.090628  0.077032\n",
      "\n",
      "\n"
     ]
    },
    {
     "name": "stdout",
     "output_type": "stream",
     "text": [
      "[\u001b[1mtardis.simulation.base\u001b[0m][\u001b[1;37mINFO\u001b[0m   ]  t_inner 10111.668 K -- next t_inner 11189.420 K (\u001b[1mbase.py\u001b[0m:352)\n"
     ]
    },
    {
     "name": "stderr",
     "output_type": "stream",
     "text": [
      "\u001b[1;37mINFO\u001b[0m:tardis.simulation.base:t_inner 10111.668 K -- next t_inner 11189.420 K\n"
     ]
    },
    {
     "name": "stdout",
     "output_type": "stream",
     "text": [
      "[\u001b[1mtardis.simulation.base\u001b[0m][\u001b[1;37mINFO\u001b[0m   ]  Starting iteration 14/20 (\u001b[1mbase.py\u001b[0m:268)\n"
     ]
    },
    {
     "name": "stderr",
     "output_type": "stream",
     "text": [
      "\u001b[1;37mINFO\u001b[0m:tardis.simulation.base:Starting iteration 14/20\n"
     ]
    },
    {
     "name": "stdout",
     "output_type": "stream",
     "text": [
      "[\u001b[1mtardis.simulation.base\u001b[0m][\u001b[1;37mINFO\u001b[0m   ]  Luminosity emitted = 1.28712e+43 erg / s Luminosity absorbed = 4.19242e+42 erg / s Luminosity requested = 1.05928e+43 erg / s (\u001b[1mbase.py\u001b[0m:359)\n"
     ]
    },
    {
     "name": "stderr",
     "output_type": "stream",
     "text": [
      "\u001b[1;37mINFO\u001b[0m:tardis.simulation.base:Luminosity emitted = 1.28712e+43 erg / s Luminosity absorbed = 4.19242e+42 erg / s Luminosity requested = 1.05928e+43 erg / s\n"
     ]
    },
    {
     "name": "stdout",
     "output_type": "stream",
     "text": [
      "[\u001b[1mtardis.simulation.base\u001b[0m][\u001b[1;37mINFO\u001b[0m   ]  Plasma stratification:\n",
      "\t              t_rad    next_t_rad         w    next_w\n",
      "\tShell                                                \n",
      "\t0      10636.025493  11423.118214  0.446635  0.503706\n",
      "\t5      11175.711706  11682.224028  0.154916  0.189577\n",
      "\t10     10916.188023  11389.994295  0.097843  0.121114\n",
      "\t15     10431.720831  11029.450833  0.077032  0.091350\n",
      "\n",
      " (\u001b[1mbase.py\u001b[0m:350)\n"
     ]
    },
    {
     "name": "stderr",
     "output_type": "stream",
     "text": [
      "\u001b[1;37mINFO\u001b[0m:tardis.simulation.base:Plasma stratification:\n",
      "\t              t_rad    next_t_rad         w    next_w\n",
      "\tShell                                                \n",
      "\t0      10636.025493  11423.118214  0.446635  0.503706\n",
      "\t5      11175.711706  11682.224028  0.154916  0.189577\n",
      "\t10     10916.188023  11389.994295  0.097843  0.121114\n",
      "\t15     10431.720831  11029.450833  0.077032  0.091350\n",
      "\n",
      "\n"
     ]
    },
    {
     "name": "stdout",
     "output_type": "stream",
     "text": [
      "[\u001b[1mtardis.simulation.base\u001b[0m][\u001b[1;37mINFO\u001b[0m   ]  t_inner 11189.420 K -- next t_inner 10150.866 K (\u001b[1mbase.py\u001b[0m:352)\n"
     ]
    },
    {
     "name": "stderr",
     "output_type": "stream",
     "text": [
      "\u001b[1;37mINFO\u001b[0m:tardis.simulation.base:t_inner 11189.420 K -- next t_inner 10150.866 K\n"
     ]
    },
    {
     "name": "stdout",
     "output_type": "stream",
     "text": [
      "[\u001b[1mtardis.simulation.base\u001b[0m][\u001b[1;37mINFO\u001b[0m   ]  Starting iteration 15/20 (\u001b[1mbase.py\u001b[0m:268)\n"
     ]
    },
    {
     "name": "stderr",
     "output_type": "stream",
     "text": [
      "\u001b[1;37mINFO\u001b[0m:tardis.simulation.base:Starting iteration 15/20\n"
     ]
    },
    {
     "name": "stdout",
     "output_type": "stream",
     "text": [
      "[\u001b[1mtardis.simulation.base\u001b[0m][\u001b[1;37mINFO\u001b[0m   ]  Luminosity emitted = 8.76501e+42 erg / s Luminosity absorbed = 2.79433e+42 erg / s Luminosity requested = 1.05928e+43 erg / s (\u001b[1mbase.py\u001b[0m:359)\n"
     ]
    },
    {
     "name": "stderr",
     "output_type": "stream",
     "text": [
      "\u001b[1;37mINFO\u001b[0m:tardis.simulation.base:Luminosity emitted = 8.76501e+42 erg / s Luminosity absorbed = 2.79433e+42 erg / s Luminosity requested = 1.05928e+43 erg / s\n"
     ]
    },
    {
     "name": "stdout",
     "output_type": "stream",
     "text": [
      "[\u001b[1mtardis.simulation.base\u001b[0m][\u001b[1;37mINFO\u001b[0m   ]  Plasma stratification:\n",
      "\t              t_rad    next_t_rad         w    next_w\n",
      "\tShell                                                \n",
      "\t0      11423.118214  10634.831735  0.503706  0.452948\n",
      "\t5      11682.224028  11112.411355  0.189577  0.159316\n",
      "\t10     11389.994295  10831.887277  0.121114  0.101805\n",
      "\t15     11029.450833  10396.372864  0.091350  0.078776\n",
      "\n",
      " (\u001b[1mbase.py\u001b[0m:350)\n"
     ]
    },
    {
     "name": "stderr",
     "output_type": "stream",
     "text": [
      "\u001b[1;37mINFO\u001b[0m:tardis.simulation.base:Plasma stratification:\n",
      "\t              t_rad    next_t_rad         w    next_w\n",
      "\tShell                                                \n",
      "\t0      11423.118214  10634.831735  0.503706  0.452948\n",
      "\t5      11682.224028  11112.411355  0.189577  0.159316\n",
      "\t10     11389.994295  10831.887277  0.121114  0.101805\n",
      "\t15     11029.450833  10396.372864  0.091350  0.078776\n",
      "\n",
      "\n"
     ]
    },
    {
     "name": "stdout",
     "output_type": "stream",
     "text": [
      "[\u001b[1mtardis.simulation.base\u001b[0m][\u001b[1;37mINFO\u001b[0m   ]  t_inner 10150.866 K -- next t_inner 11159.164 K (\u001b[1mbase.py\u001b[0m:352)\n"
     ]
    },
    {
     "name": "stderr",
     "output_type": "stream",
     "text": [
      "\u001b[1;37mINFO\u001b[0m:tardis.simulation.base:t_inner 10150.866 K -- next t_inner 11159.164 K\n"
     ]
    },
    {
     "name": "stdout",
     "output_type": "stream",
     "text": [
      "[\u001b[1mtardis.simulation.base\u001b[0m][\u001b[1;37mINFO\u001b[0m   ]  Starting iteration 16/20 (\u001b[1mbase.py\u001b[0m:268)\n"
     ]
    },
    {
     "name": "stderr",
     "output_type": "stream",
     "text": [
      "\u001b[1;37mINFO\u001b[0m:tardis.simulation.base:Starting iteration 16/20\n"
     ]
    },
    {
     "name": "stdout",
     "output_type": "stream",
     "text": [
      "[\u001b[1mtardis.simulation.base\u001b[0m][\u001b[1;37mINFO\u001b[0m   ]  Luminosity emitted = 1.27462e+43 erg / s Luminosity absorbed = 4.13373e+42 erg / s Luminosity requested = 1.05928e+43 erg / s (\u001b[1mbase.py\u001b[0m:359)\n"
     ]
    },
    {
     "name": "stderr",
     "output_type": "stream",
     "text": [
      "\u001b[1;37mINFO\u001b[0m:tardis.simulation.base:Luminosity emitted = 1.27462e+43 erg / s Luminosity absorbed = 4.13373e+42 erg / s Luminosity requested = 1.05928e+43 erg / s\n"
     ]
    },
    {
     "name": "stdout",
     "output_type": "stream",
     "text": [
      "[\u001b[1mtardis.simulation.base\u001b[0m][\u001b[1;37mINFO\u001b[0m   ]  Plasma stratification:\n",
      "\t              t_rad    next_t_rad         w    next_w\n",
      "\tShell                                                \n",
      "\t0      10634.831735  11415.925493  0.452948  0.501153\n",
      "\t5      11112.411355  11688.667754  0.159316  0.188430\n",
      "\t10     10831.887277  11397.519913  0.101805  0.120134\n",
      "\t15     10396.372864  11045.200458  0.078776  0.090180\n",
      "\n",
      " (\u001b[1mbase.py\u001b[0m:350)\n"
     ]
    },
    {
     "name": "stderr",
     "output_type": "stream",
     "text": [
      "\u001b[1;37mINFO\u001b[0m:tardis.simulation.base:Plasma stratification:\n",
      "\t              t_rad    next_t_rad         w    next_w\n",
      "\tShell                                                \n",
      "\t0      10634.831735  11415.925493  0.452948  0.501153\n",
      "\t5      11112.411355  11688.667754  0.159316  0.188430\n",
      "\t10     10831.887277  11397.519913  0.101805  0.120134\n",
      "\t15     10396.372864  11045.200458  0.078776  0.090180\n",
      "\n",
      "\n"
     ]
    },
    {
     "name": "stdout",
     "output_type": "stream",
     "text": [
      "[\u001b[1mtardis.simulation.base\u001b[0m][\u001b[1;37mINFO\u001b[0m   ]  t_inner 11159.164 K -- next t_inner 10172.913 K (\u001b[1mbase.py\u001b[0m:352)\n"
     ]
    },
    {
     "name": "stderr",
     "output_type": "stream",
     "text": [
      "\u001b[1;37mINFO\u001b[0m:tardis.simulation.base:t_inner 11159.164 K -- next t_inner 10172.913 K\n"
     ]
    },
    {
     "name": "stdout",
     "output_type": "stream",
     "text": [
      "[\u001b[1mtardis.simulation.base\u001b[0m][\u001b[1;37mINFO\u001b[0m   ]  Starting iteration 17/20 (\u001b[1mbase.py\u001b[0m:268)\n"
     ]
    },
    {
     "name": "stderr",
     "output_type": "stream",
     "text": [
      "\u001b[1;37mINFO\u001b[0m:tardis.simulation.base:Starting iteration 17/20\n"
     ]
    },
    {
     "name": "stdout",
     "output_type": "stream",
     "text": [
      "[\u001b[1mtardis.simulation.base\u001b[0m][\u001b[1;37mINFO\u001b[0m   ]  Luminosity emitted = 8.86785e+42 erg / s Luminosity absorbed = 2.79094e+42 erg / s Luminosity requested = 1.05928e+43 erg / s (\u001b[1mbase.py\u001b[0m:359)\n"
     ]
    },
    {
     "name": "stderr",
     "output_type": "stream",
     "text": [
      "\u001b[1;37mINFO\u001b[0m:tardis.simulation.base:Luminosity emitted = 8.86785e+42 erg / s Luminosity absorbed = 2.79094e+42 erg / s Luminosity requested = 1.05928e+43 erg / s\n"
     ]
    },
    {
     "name": "stdout",
     "output_type": "stream",
     "text": [
      "[\u001b[1mtardis.simulation.base\u001b[0m][\u001b[1;37mINFO\u001b[0m   ]  Plasma stratification:\n",
      "\t              t_rad    next_t_rad         w    next_w\n",
      "\tShell                                                \n",
      "\t0      11415.925493  10678.510651  0.501153  0.453127\n",
      "\t5      11688.667754  11152.822099  0.188430  0.159726\n",
      "\t10     11397.519913  10907.112682  0.120134  0.099725\n",
      "\t15     11045.200458  10508.816973  0.090180  0.076667\n",
      "\n",
      " (\u001b[1mbase.py\u001b[0m:350)\n"
     ]
    },
    {
     "name": "stderr",
     "output_type": "stream",
     "text": [
      "\u001b[1;37mINFO\u001b[0m:tardis.simulation.base:Plasma stratification:\n",
      "\t              t_rad    next_t_rad         w    next_w\n",
      "\tShell                                                \n",
      "\t0      11415.925493  10678.510651  0.501153  0.453127\n",
      "\t5      11688.667754  11152.822099  0.188430  0.159726\n",
      "\t10     11397.519913  10907.112682  0.120134  0.099725\n",
      "\t15     11045.200458  10508.816973  0.090180  0.076667\n",
      "\n",
      "\n"
     ]
    },
    {
     "name": "stdout",
     "output_type": "stream",
     "text": [
      "[\u001b[1mtardis.simulation.base\u001b[0m][\u001b[1;37mINFO\u001b[0m   ]  t_inner 10172.913 K -- next t_inner 11118.359 K (\u001b[1mbase.py\u001b[0m:352)\n"
     ]
    },
    {
     "name": "stderr",
     "output_type": "stream",
     "text": [
      "\u001b[1;37mINFO\u001b[0m:tardis.simulation.base:t_inner 10172.913 K -- next t_inner 11118.359 K\n"
     ]
    },
    {
     "name": "stdout",
     "output_type": "stream",
     "text": [
      "[\u001b[1mtardis.simulation.base\u001b[0m][\u001b[1;37mINFO\u001b[0m   ]  Starting iteration 18/20 (\u001b[1mbase.py\u001b[0m:268)\n"
     ]
    },
    {
     "name": "stderr",
     "output_type": "stream",
     "text": [
      "\u001b[1;37mINFO\u001b[0m:tardis.simulation.base:Starting iteration 18/20\n"
     ]
    },
    {
     "name": "stdout",
     "output_type": "stream",
     "text": [
      "[\u001b[1mtardis.simulation.base\u001b[0m][\u001b[1;37mINFO\u001b[0m   ]  Luminosity emitted = 1.24749e+43 erg / s Luminosity absorbed = 4.15445e+42 erg / s Luminosity requested = 1.05928e+43 erg / s (\u001b[1mbase.py\u001b[0m:359)\n"
     ]
    },
    {
     "name": "stderr",
     "output_type": "stream",
     "text": [
      "\u001b[1;37mINFO\u001b[0m:tardis.simulation.base:Luminosity emitted = 1.24749e+43 erg / s Luminosity absorbed = 4.15445e+42 erg / s Luminosity requested = 1.05928e+43 erg / s\n"
     ]
    },
    {
     "name": "stdout",
     "output_type": "stream",
     "text": [
      "[\u001b[1mtardis.simulation.base\u001b[0m][\u001b[1;37mINFO\u001b[0m   ]  Plasma stratification:\n",
      "\t              t_rad    next_t_rad         w    next_w\n",
      "\tShell                                                \n",
      "\t0      10678.510651  11482.446420  0.453127  0.481917\n",
      "\t5      11152.822099  11693.549165  0.159726  0.184456\n",
      "\t10     10907.112682  11472.013555  0.099725  0.115208\n",
      "\t15     10508.816973  10997.309982  0.076667  0.089730\n",
      "\n",
      " (\u001b[1mbase.py\u001b[0m:350)\n"
     ]
    },
    {
     "name": "stderr",
     "output_type": "stream",
     "text": [
      "\u001b[1;37mINFO\u001b[0m:tardis.simulation.base:Plasma stratification:\n",
      "\t              t_rad    next_t_rad         w    next_w\n",
      "\tShell                                                \n",
      "\t0      10678.510651  11482.446420  0.453127  0.481917\n",
      "\t5      11152.822099  11693.549165  0.159726  0.184456\n",
      "\t10     10907.112682  11472.013555  0.099725  0.115208\n",
      "\t15     10508.816973  10997.309982  0.076667  0.089730\n",
      "\n",
      "\n"
     ]
    },
    {
     "name": "stdout",
     "output_type": "stream",
     "text": [
      "[\u001b[1mtardis.simulation.base\u001b[0m][\u001b[1;37mINFO\u001b[0m   ]  t_inner 11118.359 K -- next t_inner 10245.337 K (\u001b[1mbase.py\u001b[0m:352)\n"
     ]
    },
    {
     "name": "stderr",
     "output_type": "stream",
     "text": [
      "\u001b[1;37mINFO\u001b[0m:tardis.simulation.base:t_inner 11118.359 K -- next t_inner 10245.337 K\n"
     ]
    },
    {
     "name": "stdout",
     "output_type": "stream",
     "text": [
      "[\u001b[1mtardis.simulation.base\u001b[0m][\u001b[1;37mINFO\u001b[0m   ]  Starting iteration 19/20 (\u001b[1mbase.py\u001b[0m:268)\n"
     ]
    },
    {
     "name": "stderr",
     "output_type": "stream",
     "text": [
      "\u001b[1;37mINFO\u001b[0m:tardis.simulation.base:Starting iteration 19/20\n"
     ]
    },
    {
     "name": "stdout",
     "output_type": "stream",
     "text": [
      "[\u001b[1mtardis.simulation.base\u001b[0m][\u001b[1;37mINFO\u001b[0m   ]  Luminosity emitted = 9.09476e+42 erg / s Luminosity absorbed = 2.89713e+42 erg / s Luminosity requested = 1.05928e+43 erg / s (\u001b[1mbase.py\u001b[0m:359)\n"
     ]
    },
    {
     "name": "stderr",
     "output_type": "stream",
     "text": [
      "\u001b[1;37mINFO\u001b[0m:tardis.simulation.base:Luminosity emitted = 9.09476e+42 erg / s Luminosity absorbed = 2.89713e+42 erg / s Luminosity requested = 1.05928e+43 erg / s\n"
     ]
    },
    {
     "name": "stdout",
     "output_type": "stream",
     "text": [
      "[\u001b[1mtardis.simulation.base\u001b[0m][\u001b[1;37mINFO\u001b[0m   ]  Plasma stratification:\n",
      "\t              t_rad    next_t_rad         w    next_w\n",
      "\tShell                                                \n",
      "\t0      11482.446420  10834.729769  0.481917  0.438322\n",
      "\t5      11693.549165  11346.133670  0.184456  0.154204\n",
      "\t10     11472.013555  10996.421420  0.115208  0.099677\n",
      "\t15     10997.309982  10625.479432  0.089730  0.075531\n",
      "\n",
      " (\u001b[1mbase.py\u001b[0m:350)\n"
     ]
    },
    {
     "name": "stderr",
     "output_type": "stream",
     "text": [
      "\u001b[1;37mINFO\u001b[0m:tardis.simulation.base:Plasma stratification:\n",
      "\t              t_rad    next_t_rad         w    next_w\n",
      "\tShell                                                \n",
      "\t0      11482.446420  10834.729769  0.481917  0.438322\n",
      "\t5      11693.549165  11346.133670  0.184456  0.154204\n",
      "\t10     11472.013555  10996.421420  0.115208  0.099677\n",
      "\t15     10997.309982  10625.479432  0.089730  0.075531\n",
      "\n",
      "\n"
     ]
    },
    {
     "name": "stdout",
     "output_type": "stream",
     "text": [
      "[\u001b[1mtardis.simulation.base\u001b[0m][\u001b[1;37mINFO\u001b[0m   ]  t_inner 10245.337 K -- next t_inner 11056.949 K (\u001b[1mbase.py\u001b[0m:352)\n"
     ]
    },
    {
     "name": "stderr",
     "output_type": "stream",
     "text": [
      "\u001b[1;37mINFO\u001b[0m:tardis.simulation.base:t_inner 10245.337 K -- next t_inner 11056.949 K\n"
     ]
    },
    {
     "name": "stdout",
     "output_type": "stream",
     "text": [
      "[\u001b[1mtardis.simulation.base\u001b[0m][\u001b[1;37mINFO\u001b[0m   ]  Starting iteration 20/20 (\u001b[1mbase.py\u001b[0m:268)\n"
     ]
    },
    {
     "name": "stderr",
     "output_type": "stream",
     "text": [
      "\u001b[1;37mINFO\u001b[0m:tardis.simulation.base:Starting iteration 20/20\n"
     ]
    },
    {
     "name": "stdout",
     "output_type": "stream",
     "text": [
      "[\u001b[1mtardis.simulation.base\u001b[0m][\u001b[1;37mINFO\u001b[0m   ]  Luminosity emitted = 1.22623e+43 erg / s Luminosity absorbed = 4.00603e+42 erg / s Luminosity requested = 1.05928e+43 erg / s (\u001b[1mbase.py\u001b[0m:359)\n"
     ]
    },
    {
     "name": "stderr",
     "output_type": "stream",
     "text": [
      "\u001b[1;37mINFO\u001b[0m:tardis.simulation.base:Luminosity emitted = 1.22623e+43 erg / s Luminosity absorbed = 4.00603e+42 erg / s Luminosity requested = 1.05928e+43 erg / s\n"
     ]
    },
    {
     "name": "stdout",
     "output_type": "stream",
     "text": [
      "[\u001b[1mtardis.simulation.base\u001b[0m][\u001b[1;37mINFO\u001b[0m   ]  Simulation finished in 20 iterations and took 39.04 s (\u001b[1mbase.py\u001b[0m:308)\n"
     ]
    },
    {
     "name": "stderr",
     "output_type": "stream",
     "text": [
      "\u001b[1;37mINFO\u001b[0m:tardis.simulation.base:Simulation finished in 20 iterations and took 39.04 s\n"
     ]
    }
   ],
   "source": [
    "mdl = run_tardis('tardis_example.yml',\n",
    "                 packet_source=packet_source)\n",
    "mdl_norm = run_tardis('tardis_example.yml')"
   ]
  },
  {
   "cell_type": "code",
   "execution_count": 6,
   "metadata": {},
   "outputs": [
    {
     "data": {
      "text/plain": [
       "<matplotlib.legend.Legend at 0x7fdcd6cd7588>"
      ]
     },
     "execution_count": 6,
     "metadata": {},
     "output_type": "execute_result"
    },
    {
     "data": {
      "image/png": "[encoded data removed]",
      "text/plain": [
       "<Figure size 432x288 with 1 Axes>"
      ]
     },
     "metadata": {
      "needs_background": "light"
     },
     "output_type": "display_data"
    }
   ],
   "source": [
    "%matplotlib inline\n",
    "plt.plot(mdl.runner.spectrum_virtual.wavelength,\n",
    "         mdl.runner.spectrum_virtual.luminosity_density_lambda,\n",
    "         color='red', label='truncated blackbody')\n",
    "plt.plot(mdl_norm.runner.spectrum_virtual.wavelength,\n",
    "         mdl_norm.runner.spectrum_virtual.luminosity_density_lambda,\n",
    "         color='blue', label='normal blackbody')\n",
    "plt.xlabel('$\\lambda [\\AA]$')\n",
    "plt.ylabel('$L_\\lambda$ [erg/s/$\\AA$]')\n",
    "plt.xlim(500, 10000)\n",
    "plt.legend()"
   ]
  }
 ],
 "metadata": {
  "kernelspec": {
   "display_name": "Python 3",
   "language": "python",
   "name": "python3"
  },
  "language_info": {
   "codemirror_mode": {
    "name": "ipython",
    "version": 3
   },
   "file_extension": ".py",
   "mimetype": "text/x-python",
   "name": "python",
   "nbconvert_exporter": "python",
   "pygments_lexer": "ipython3",
   "version": "3.6.10"
  },
  "nbsphinx": {
   "execute": "always",
   "timeout": 600
  },
  "widgets": {
   "application/vnd.jupyter.widget-state+json": {
    "state": {
     "241448b2d89b4ca1b578700563e708f8": {
      "model_module": "@jupyter-widgets/controls",
      "model_module_version": "1.5.0",
      "model_name": "HBoxModel",
      "state": {
       "_dom_classes": [],
       "_model_module": "@jupyter-widgets/controls",
       "_model_module_version": "1.5.0",
       "_model_name": "HBoxModel",
       "_view_count": null,
       "_view_module": "@jupyter-widgets/controls",
       "_view_module_version": "1.5.0",
       "_view_name": "HBoxView",
       "box_style": "",
       "children": [
        "IPY_MODEL_7cd861ad669a448793857138dcd91562",
        "IPY_MODEL_c949947c3b7146d6880058e43e95e5e9"
       ],
       "layout": "IPY_MODEL_d23e1a91978a45e49fd280c675b8ff63"
      }
     },
     "7cd861ad669a448793857138dcd91562": {
      "model_module": "@jupyter-widgets/controls",
      "model_module_version": "1.5.0",
      "model_name": "FloatProgressModel",
      "state": {
       "_dom_classes": [],
       "_model_module": "@jupyter-widgets/controls",
       "_model_module_version": "1.5.0",
       "_model_name": "FloatProgressModel",
       "_view_count": null,
       "_view_module": "@jupyter-widgets/controls",
       "_view_module_version": "1.5.0",
       "_view_name": "ProgressView",
       "bar_style": "success",
       "description": "kurucz_cd23_chianti_H_He.h5: ",
       "description_tooltip": null,
       "layout": "IPY_MODEL_d4a3cafbc198434292f9ad1a66ded70b",
       "max": 73704476.0,
       "min": 0.0,
       "orientation": "horizontal",
       "style": "IPY_MODEL_98704f0e4ad243bcbe820767ca442967",
       "value": 73704476.0
      }
     },
     "876e9d730961423091ad6e14b373948d": {
      "model_module": "@jupyter-widgets/controls",
      "model_module_version": "1.5.0",
      "model_name": "DescriptionStyleModel",
      "state": {
       "_model_module": "@jupyter-widgets/controls",
       "_model_module_version": "1.5.0",
       "_model_name": "DescriptionStyleModel",
       "_view_count": null,
       "_view_module": "@jupyter-widgets/base",
       "_view_module_version": "1.2.0",
       "_view_name": "StyleView",
       "description_width": ""
      }
     },
     "98704f0e4ad243bcbe820767ca442967": {
      "model_module": "@jupyter-widgets/controls",
      "model_module_version": "1.5.0",
      "model_name": "ProgressStyleModel",
      "state": {
       "_model_module": "@jupyter-widgets/controls",
       "_model_module_version": "1.5.0",
       "_model_name": "ProgressStyleModel",
       "_view_count": null,
       "_view_module": "@jupyter-widgets/base",
       "_view_module_version": "1.2.0",
       "_view_name": "StyleView",
       "bar_color": null,
       "description_width": "initial"
      }
     },
     "c949947c3b7146d6880058e43e95e5e9": {
      "model_module": "@jupyter-widgets/controls",
      "model_module_version": "1.5.0",
      "model_name": "HTMLModel",
      "state": {
       "_dom_classes": [],
       "_model_module": "@jupyter-widgets/controls",
       "_model_module_version": "1.5.0",
       "_model_name": "HTMLModel",
       "_view_count": null,
       "_view_module": "@jupyter-widgets/controls",
       "_view_module_version": "1.5.0",
       "_view_name": "HTMLView",
       "description": "",
       "description_tooltip": null,
       "layout": "IPY_MODEL_ca9d092d920545188a6dc4732e0d7b2a",
       "placeholder": "​",
       "style": "IPY_MODEL_876e9d730961423091ad6e14b373948d",
       "value": " 73.7M/? [00:01&lt;00:00, 57.9MB/s]"
      }
     },
     "ca9d092d920545188a6dc4732e0d7b2a": {
      "model_module": "@jupyter-widgets/base",
      "model_module_version": "1.2.0",
      "model_name": "LayoutModel",
      "state": {
       "_model_module": "@jupyter-widgets/base",
       "_model_module_version": "1.2.0",
       "_model_name": "LayoutModel",
       "_view_count": null,
       "_view_module": "@jupyter-widgets/base",
       "_view_module_version": "1.2.0",
       "_view_name": "LayoutView",
       "align_content": null,
       "align_items": null,
       "align_self": null,
       "border": null,
       "bottom": null,
       "display": null,
       "flex": null,
       "flex_flow": null,
       "grid_area": null,
       "grid_auto_columns": null,
       "grid_auto_flow": null,
       "grid_auto_rows": null,
       "grid_column": null,
       "grid_gap": null,
       "grid_row": null,
       "grid_template_areas": null,
       "grid_template_columns": null,
       "grid_template_rows": null,
       "height": null,
       "justify_content": null,
       "justify_items": null,
       "left": null,
       "margin": null,
       "max_height": null,
       "max_width": null,
       "min_height": null,
       "min_width": null,
       "object_fit": null,
       "object_position": null,
       "order": null,
       "overflow": null,
       "overflow_x": null,
       "overflow_y": null,
       "padding": null,
       "right": null,
       "top": null,
       "visibility": null,
       "width": null
      }
     },
     "d23e1a91978a45e49fd280c675b8ff63": {
      "model_module": "@jupyter-widgets/base",
      "model_module_version": "1.2.0",
      "model_name": "LayoutModel",
      "state": {
       "_model_module": "@jupyter-widgets/base",
       "_model_module_version": "1.2.0",
       "_model_name": "LayoutModel",
       "_view_count": null,
       "_view_module": "@jupyter-widgets/base",
       "_view_module_version": "1.2.0",
       "_view_name": "LayoutView",
       "align_content": null,
       "align_items": null,
       "align_self": null,
       "border": null,
       "bottom": null,
       "display": null,
       "flex": null,
       "flex_flow": null,
       "grid_area": null,
       "grid_auto_columns": null,
       "grid_auto_flow": null,
       "grid_auto_rows": null,
       "grid_column": null,
       "grid_gap": null,
       "grid_row": null,
       "grid_template_areas": null,
       "grid_template_columns": null,
       "grid_template_rows": null,
       "height": null,
       "justify_content": null,
       "justify_items": null,
       "left": null,
       "margin": null,
       "max_height": null,
       "max_width": null,
       "min_height": null,
       "min_width": null,
       "object_fit": null,
       "object_position": null,
       "order": null,
       "overflow": null,
       "overflow_x": null,
       "overflow_y": null,
       "padding": null,
       "right": null,
       "top": null,
       "visibility": null,
       "width": null
      }
     },
     "d4a3cafbc198434292f9ad1a66ded70b": {
      "model_module": "@jupyter-widgets/base",
      "model_module_version": "1.2.0",
      "model_name": "LayoutModel",
      "state": {
       "_model_module": "@jupyter-widgets/base",
       "_model_module_version": "1.2.0",
       "_model_name": "LayoutModel",
       "_view_count": null,
       "_view_module": "@jupyter-widgets/base",
       "_view_module_version": "1.2.0",
       "_view_name": "LayoutView",
       "align_content": null,
       "align_items": null,
       "align_self": null,
       "border": null,
       "bottom": null,
       "display": null,
       "flex": null,
       "flex_flow": null,
       "grid_area": null,
       "grid_auto_columns": null,
       "grid_auto_flow": null,
       "grid_auto_rows": null,
       "grid_column": null,
       "grid_gap": null,
       "grid_row": null,
       "grid_template_areas": null,
       "grid_template_columns": null,
       "grid_template_rows": null,
       "height": null,
       "justify_content": null,
       "justify_items": null,
       "left": null,
       "margin": null,
       "max_height": null,
       "max_width": null,
       "min_height": null,
       "min_width": null,
       "object_fit": null,
       "object_position": null,
       "order": null,
       "overflow": null,
       "overflow_x": null,
       "overflow_y": null,
       "padding": null,
       "right": null,
       "top": null,
       "visibility": null,
       "width": null
      }
     }
    },
    "version_major": 2,
    "version_minor": 0
   }
  }
 },
 "nbformat": 4,
 "nbformat_minor": 2
}
