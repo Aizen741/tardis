{
 "cells": [
  {
   "cell_type": "markdown",
   "metadata": {},
   "source": [
    "# Running TARDIS with a custom packet source"
   ]
  },
  {
   "cell_type": "code",
   "execution_count": 1,
   "metadata": {},
   "outputs": [
    {
     "name": "stderr",
     "output_type": "stream",
     "text": [
      "/usr/share/miniconda/envs/tardis/lib/python3.6/importlib/_bootstrap.py:219: QAWarning: pyne.data is not yet QA compliant.\n",
      "  return f(*args, **kwds)\n"
     ]
    },
    {
     "name": "stderr",
     "output_type": "stream",
     "text": [
      "/usr/share/miniconda/envs/tardis/lib/python3.6/site-packages/tardis_sn-3.0.dev3382-py3.6-linux-x86_64.egg/tardis/io/util.py:14: TqdmExperimentalWarning: Using `tqdm.autonotebook.tqdm` in notebook mode. Use `tqdm.tqdm` instead to force console mode (e.g. in jupyter console)\n",
      "  from tqdm.autonotebook import tqdm\n"
     ]
    }
   ],
   "source": [
    "import numpy as np\n",
    "from tardis import constants as const\n",
    "from astropy import units as u\n",
    "from tardis.montecarlo.packet_source import BasePacketSource\n",
    "from tardis import run_tardis\n",
    "import matplotlib.pyplot as plt\n",
    "from tardis.io.atom_data import download_atom_data"
   ]
  },
  {
   "cell_type": "code",
   "execution_count": 2,
   "metadata": {},
   "outputs": [
    {
     "name": "stdout",
     "output_type": "stream",
     "text": [
      "[\u001b[1mtardis.io.config_internal\u001b[0m][\u001b[1;33mWARNING\u001b[0m]  Configuration File /home/vsts/.astropy/config/tardis_internal_config.yml does not exist - creating new one from default (\u001b[1mconfig_internal.py\u001b[0m:16)\n"
     ]
    },
    {
     "name": "stderr",
     "output_type": "stream",
     "text": [
      "CRITICAL:root:\n",
      "********************************************************************************\n",
      "\n",
      "TARDIS will download different kinds of data (e.g. atomic) to its data directory /home/vsts/Downloads/tardis-data\n",
      "\n",
      "TARDIS DATA DIRECTORY not specified in /home/vsts/.astropy/config/tardis_internal_config.yml:\n",
      "\n",
      "ASSUMING DEFAULT DATA DIRECTORY /home/vsts/Downloads/tardis-data\n",
      " YOU CAN CHANGE THIS AT ANY TIME IN /home/vsts/.astropy/config/tardis_internal_config.yml \n",
      "\n",
      "******************************************************************************** \n",
      "\n",
      "\n"
     ]
    },
    {
     "name": "stdout",
     "output_type": "stream",
     "text": [
      "[\u001b[1mtardis.io.atom_data.atom_web_download\u001b[0m][\u001b[1;37mINFO\u001b[0m   ]  Downloading atomic data from https://media.githubusercontent.com/media/tardis-sn/tardis-refdata/master/atom_data/kurucz_cd23_chianti_H_He.h5 to /home/vsts/Downloads/tardis-data/kurucz_cd23_chianti_H_He.h5 (\u001b[1matom_web_download.py\u001b[0m:47)\n"
     ]
    },
    {
     "name": "stderr",
     "output_type": "stream",
     "text": [
      "\u001b[1;37mINFO\u001b[0m:tardis.io.atom_data.atom_web_download:Downloading atomic data from https://media.githubusercontent.com/media/tardis-sn/tardis-refdata/master/atom_data/kurucz_cd23_chianti_H_He.h5 to /home/vsts/Downloads/tardis-data/kurucz_cd23_chianti_H_He.h5\n"
     ]
    },
    {
     "data": {
      "application/vnd.jupyter.widget-view+json": {
       "model_id": "9279a09fa9474934984511b5d495d525",
       "version_major": 2,
       "version_minor": 0
      },
      "text/plain": [
       "HBox(children=(FloatProgress(value=0.0, description='kurucz_cd23_chianti_H_He.h5', max=73704476.0, style=Progr…"
      ]
     },
     "metadata": {},
     "output_type": "display_data"
    },
    {
     "name": "stdout",
     "output_type": "stream",
     "text": [
      "\n"
     ]
    }
   ],
   "source": [
    "download_atom_data('kurucz_cd23_chianti_H_He')"
   ]
  },
  {
   "cell_type": "markdown",
   "metadata": {},
   "source": [
    "Custom packet source class that is derived from BasePacketSource. The method create_packets (which returns ```nus, mus, energies```) has to be defined."
   ]
  },
  {
   "cell_type": "code",
   "execution_count": 3,
   "metadata": {},
   "outputs": [],
   "source": [
    "class TruncBlackbodySource(BasePacketSource):\n",
    "    \"\"\"\n",
    "        Custom inner boundary source class to replace the Blackbody source\n",
    "        with a truncated Blackbody source.\n",
    "    \"\"\"\n",
    "    \n",
    "    def __init__(self, seed, truncation_wavelength):\n",
    "        super().__init__(seed)\n",
    "        self.truncation_wavelength = truncation_wavelength\n",
    "    \n",
    "    def create_packets(self, T, no_of_packets,\n",
    "                       drawing_sample_size=None):\n",
    "        \"\"\"\n",
    "        Packet source that generates a truncated Blackbody source.\n",
    "        \n",
    "        Parameters\n",
    "        ----------\n",
    "        T : float\n",
    "            Blackbody temperature\n",
    "        no_of_packets : int\n",
    "            number of packets to be created\n",
    "        truncation_wavelength : float\n",
    "            truncation wavelength in Angstrom. \n",
    "            Only wavelengths higher than the truncation wavelength\n",
    "            will be sampled.\n",
    "        \"\"\"\n",
    "        \n",
    "        \n",
    "        # Use mus and energies from normal blackbody source.\n",
    "        mus = self.create_zero_limb_darkening_packet_mus(no_of_packets)\n",
    "        energies = self.create_uniform_packet_energies(no_of_packets)\n",
    "\n",
    "        # If not specified, draw 2 times as many packets and reject any beyond no_of_packets.\n",
    "        if drawing_sample_size is None:\n",
    "            drawing_sample_size = 2 * no_of_packets\n",
    "\n",
    "        # Blackbody will be truncated below truncation_wavelength / above truncation_frequency.\n",
    "        truncation_frequency = u.Quantity(self.truncation_wavelength, u.Angstrom).to(\n",
    "                                          u.Hz, equivalencies=u.spectral()).value\n",
    "        \n",
    "        # Draw nus from blackbody distribution and reject based on truncation_frequency.\n",
    "        # If more nus.shape[0] > no_of_packets use only the first no_of_packets.\n",
    "        nus = self.create_blackbody_packet_nus(T, drawing_sample_size)\n",
    "        nus = nus[nus<truncation_frequency][:no_of_packets]\n",
    "        \n",
    "        \n",
    "        # Only required if the truncation wavelength is too big compared to the maximum \n",
    "        # of the blackbody distribution. Keep sampling until nus.shape[0] > no_of_packets.\n",
    "        while nus.shape[0] < no_of_packets:\n",
    "            additional_nus = self.create_blackbody_packet_nus(\n",
    "                T, drawing_sample_size\n",
    "            )\n",
    "            mask = additional_nus < truncation_frequency\n",
    "            additional_nus = additional_nus[mask][:no_of_packets]\n",
    "            nus = np.hstack([nus, additional_nus])[:no_of_packets]\n",
    "            \n",
    "        return nus, mus, energies"
   ]
  },
  {
   "cell_type": "code",
   "execution_count": 4,
   "metadata": {},
   "outputs": [],
   "source": [
    "packet_source = TruncBlackbodySource(\n",
    "    53253, truncation_wavelength=2000\n",
    ")"
   ]
  },
  {
   "cell_type": "code",
   "execution_count": 5,
   "metadata": {},
   "outputs": [
    {
     "name": "stdout",
     "output_type": "stream",
     "text": [
      "[\u001b[1mtardis.plasma.standard_plasmas\u001b[0m][\u001b[1;37mINFO\u001b[0m   ]  Reading Atomic Data from kurucz_cd23_chianti_H_He.h5 (\u001b[1mstandard_plasmas.py\u001b[0m:74)\n"
     ]
    },
    {
     "name": "stderr",
     "output_type": "stream",
     "text": [
      "\u001b[1;37mINFO\u001b[0m:tardis.plasma.standard_plasmas:Reading Atomic Data from kurucz_cd23_chianti_H_He.h5\n"
     ]
    },
    {
     "name": "stdout",
     "output_type": "stream",
     "text": [
      "[\u001b[1mtardis.io.atom_data.util\u001b[0m][\u001b[1;37mINFO\u001b[0m   ]  Atom Data kurucz_cd23_chianti_H_He.h5 not found in local path. Exists in TARDIS Data repo /home/vsts/Downloads/tardis-data/kurucz_cd23_chianti_H_He.h5 (\u001b[1mutil.py\u001b[0m:29)\n"
     ]
    },
    {
     "name": "stderr",
     "output_type": "stream",
     "text": [
      "\u001b[1;37mINFO\u001b[0m:tardis.io.atom_data.util:Atom Data kurucz_cd23_chianti_H_He.h5 not found in local path. Exists in TARDIS Data repo /home/vsts/Downloads/tardis-data/kurucz_cd23_chianti_H_He.h5\n"
     ]
    },
    {
     "name": "stdout",
     "output_type": "stream",
     "text": [
      "[\u001b[1mpy.warnings         \u001b[0m][\u001b[1;33mWARNING\u001b[0m]  /usr/share/miniconda/envs/tardis/lib/python3.6/site-packages/IPython/core/interactiveshell.py:3331: PerformanceWarning: indexing past lexsort depth may impact performance.\n",
      "  exec(code_obj, self.user_global_ns, self.user_ns)\n",
      " (\u001b[1mwarnings.py\u001b[0m:99)\n"
     ]
    },
    {
     "name": "stderr",
     "output_type": "stream",
     "text": [
      "\u001b[1;33mWARNING\u001b[0m:py.warnings:/usr/share/miniconda/envs/tardis/lib/python3.6/site-packages/IPython/core/interactiveshell.py:3331: PerformanceWarning: indexing past lexsort depth may impact performance.\n",
      "  exec(code_obj, self.user_global_ns, self.user_ns)\n",
      "\n"
     ]
    },
    {
     "name": "stdout",
     "output_type": "stream",
     "text": [
      "[\u001b[1mtardis.io.atom_data.base\u001b[0m][\u001b[1;37mINFO\u001b[0m   ]  Read Atom Data with UUID=6f7b09e887a311e7a06b246e96350010 and MD5=864f1753714343c41f99cb065710cace. (\u001b[1mbase.py\u001b[0m:184)\n"
     ]
    },
    {
     "name": "stderr",
     "output_type": "stream",
     "text": [
      "\u001b[1;37mINFO\u001b[0m:tardis.io.atom_data.base:Read Atom Data with UUID=6f7b09e887a311e7a06b246e96350010 and MD5=864f1753714343c41f99cb065710cace.\n"
     ]
    },
    {
     "name": "stdout",
     "output_type": "stream",
     "text": [
      "[\u001b[1mtardis.io.atom_data.base\u001b[0m][\u001b[1;37mINFO\u001b[0m   ]  Non provided atomic data: synpp_refs, photoionization_data (\u001b[1mbase.py\u001b[0m:187)\n"
     ]
    },
    {
     "name": "stderr",
     "output_type": "stream",
     "text": [
      "\u001b[1;37mINFO\u001b[0m:tardis.io.atom_data.base:Non provided atomic data: synpp_refs, photoionization_data\n"
     ]
    },
    {
     "name": "stdout",
     "output_type": "stream",
     "text": [
      "[\u001b[1mtardis.simulation.base\u001b[0m][\u001b[1;37mINFO\u001b[0m   ]  Starting iteration 1/20 (\u001b[1mbase.py\u001b[0m:268)\n"
     ]
    },
    {
     "name": "stderr",
     "output_type": "stream",
     "text": [
      "\u001b[1;37mINFO\u001b[0m:tardis.simulation.base:Starting iteration 1/20\n"
     ]
    },
    {
     "name": "stdout",
     "output_type": "stream",
     "text": [
      "[\u001b[1mtardis.simulation.base\u001b[0m][\u001b[1;37mINFO\u001b[0m   ]  Luminosity emitted = 8.01654e+42 erg / s Luminosity absorbed = 2.59302e+42 erg / s Luminosity requested = 1.05928e+43 erg / s (\u001b[1mbase.py\u001b[0m:359)\n"
     ]
    },
    {
     "name": "stderr",
     "output_type": "stream",
     "text": [
      "\u001b[1;37mINFO\u001b[0m:tardis.simulation.base:Luminosity emitted = 8.01654e+42 erg / s Luminosity absorbed = 2.59302e+42 erg / s Luminosity requested = 1.05928e+43 erg / s\n"
     ]
    },
    {
     "name": "stdout",
     "output_type": "stream",
     "text": [
      "[\u001b[1mtardis.simulation.base\u001b[0m][\u001b[1;37mINFO\u001b[0m   ]  Plasma stratification:\n",
      "\t             t_rad   next_t_rad         w    next_w\n",
      "\tShell                                              \n",
      "\t0      9926.501965  9415.064544  0.400392  0.676142\n",
      "\t5      9852.611678  9680.145245  0.211205  0.246877\n",
      "\t10     9779.813302  9545.076336  0.142695  0.149216\n",
      "\t15     9708.082813  9332.585303  0.104556  0.109091\n",
      "\n",
      " (\u001b[1mbase.py\u001b[0m:350)\n"
     ]
    },
    {
     "name": "stderr",
     "output_type": "stream",
     "text": [
      "\u001b[1;37mINFO\u001b[0m:tardis.simulation.base:Plasma stratification:\n",
      "\t             t_rad   next_t_rad         w    next_w\n",
      "\tShell                                              \n",
      "\t0      9926.501965  9415.064544  0.400392  0.676142\n",
      "\t5      9852.611678  9680.145245  0.211205  0.246877\n",
      "\t10     9779.813302  9545.076336  0.142695  0.149216\n",
      "\t15     9708.082813  9332.585303  0.104556  0.109091\n",
      "\n",
      "\n"
     ]
    },
    {
     "name": "stdout",
     "output_type": "stream",
     "text": [
      "[\u001b[1mtardis.simulation.base\u001b[0m][\u001b[1;37mINFO\u001b[0m   ]  t_inner 9933.952 K -- next t_inner 11419.135 K (\u001b[1mbase.py\u001b[0m:352)\n"
     ]
    },
    {
     "name": "stderr",
     "output_type": "stream",
     "text": [
      "\u001b[1;37mINFO\u001b[0m:tardis.simulation.base:t_inner 9933.952 K -- next t_inner 11419.135 K\n"
     ]
    },
    {
     "name": "stdout",
     "output_type": "stream",
     "text": [
      "[\u001b[1mtardis.simulation.base\u001b[0m][\u001b[1;37mINFO\u001b[0m   ]  Starting iteration 2/20 (\u001b[1mbase.py\u001b[0m:268)\n"
     ]
    },
    {
     "name": "stderr",
     "output_type": "stream",
     "text": [
      "\u001b[1;37mINFO\u001b[0m:tardis.simulation.base:Starting iteration 2/20\n"
     ]
    },
    {
     "name": "stdout",
     "output_type": "stream",
     "text": [
      "[\u001b[1mtardis.simulation.base\u001b[0m][\u001b[1;37mINFO\u001b[0m   ]  Luminosity emitted = 1.39454e+43 erg / s Luminosity absorbed = 4.56926e+42 erg / s Luminosity requested = 1.05928e+43 erg / s (\u001b[1mbase.py\u001b[0m:359)\n"
     ]
    },
    {
     "name": "stderr",
     "output_type": "stream",
     "text": [
      "\u001b[1;37mINFO\u001b[0m:tardis.simulation.base:Luminosity emitted = 1.39454e+43 erg / s Luminosity absorbed = 4.56926e+42 erg / s Luminosity requested = 1.05928e+43 erg / s\n"
     ]
    },
    {
     "name": "stdout",
     "output_type": "stream",
     "text": [
      "[\u001b[1mtardis.simulation.base\u001b[0m][\u001b[1;37mINFO\u001b[0m   ]  Plasma stratification:\n",
      "\t             t_rad    next_t_rad         w    next_w\n",
      "\tShell                                               \n",
      "\t0      9415.064544   9970.812960  0.676142  0.940442\n",
      "\t5      9680.145245  10279.136485  0.246877  0.341337\n",
      "\t10     9545.076336  10219.670653  0.149216  0.200740\n",
      "\t15     9332.585303   9973.073546  0.109091  0.146664\n",
      "\n",
      " (\u001b[1mbase.py\u001b[0m:350)\n"
     ]
    },
    {
     "name": "stderr",
     "output_type": "stream",
     "text": [
      "\u001b[1;37mINFO\u001b[0m:tardis.simulation.base:Plasma stratification:\n",
      "\t             t_rad    next_t_rad         w    next_w\n",
      "\tShell                                               \n",
      "\t0      9415.064544   9970.812960  0.676142  0.940442\n",
      "\t5      9680.145245  10279.136485  0.246877  0.341337\n",
      "\t10     9545.076336  10219.670653  0.149216  0.200740\n",
      "\t15     9332.585303   9973.073546  0.109091  0.146664\n",
      "\n",
      "\n"
     ]
    },
    {
     "name": "stdout",
     "output_type": "stream",
     "text": [
      "[\u001b[1mtardis.simulation.base\u001b[0m][\u001b[1;37mINFO\u001b[0m   ]  t_inner 11419.135 K -- next t_inner 9952.280 K (\u001b[1mbase.py\u001b[0m:352)\n"
     ]
    },
    {
     "name": "stderr",
     "output_type": "stream",
     "text": [
      "\u001b[1;37mINFO\u001b[0m:tardis.simulation.base:t_inner 11419.135 K -- next t_inner 9952.280 K\n"
     ]
    },
    {
     "name": "stdout",
     "output_type": "stream",
     "text": [
      "[\u001b[1mtardis.simulation.base\u001b[0m][\u001b[1;37mINFO\u001b[0m   ]  Starting iteration 3/20 (\u001b[1mbase.py\u001b[0m:268)\n"
     ]
    },
    {
     "name": "stderr",
     "output_type": "stream",
     "text": [
      "\u001b[1;37mINFO\u001b[0m:tardis.simulation.base:Starting iteration 3/20\n"
     ]
    },
    {
     "name": "stdout",
     "output_type": "stream",
     "text": [
      "[\u001b[1mtardis.simulation.base\u001b[0m][\u001b[1;37mINFO\u001b[0m   ]  Luminosity emitted = 8.16237e+42 erg / s Luminosity absorbed = 2.53255e+42 erg / s Luminosity requested = 1.05928e+43 erg / s (\u001b[1mbase.py\u001b[0m:359)\n"
     ]
    },
    {
     "name": "stderr",
     "output_type": "stream",
     "text": [
      "\u001b[1;37mINFO\u001b[0m:tardis.simulation.base:Luminosity emitted = 8.16237e+42 erg / s Luminosity absorbed = 2.53255e+42 erg / s Luminosity requested = 1.05928e+43 erg / s\n"
     ]
    },
    {
     "name": "stdout",
     "output_type": "stream",
     "text": [
      "[\u001b[1mtardis.simulation.base\u001b[0m][\u001b[1;37mINFO\u001b[0m   ]  Plasma stratification:\n",
      "\t              t_rad   next_t_rad         w    next_w\n",
      "\tShell                                               \n",
      "\t0       9970.812960  9417.889347  0.940442  0.675257\n",
      "\t5      10279.136485  9709.399575  0.341337  0.243531\n",
      "\t10     10219.670653  9613.131035  0.200740  0.146685\n",
      "\t15      9973.073546  9345.735761  0.146664  0.110670\n",
      "\n",
      " (\u001b[1mbase.py\u001b[0m:350)\n"
     ]
    },
    {
     "name": "stderr",
     "output_type": "stream",
     "text": [
      "\u001b[1;37mINFO\u001b[0m:tardis.simulation.base:Plasma stratification:\n",
      "\t              t_rad   next_t_rad         w    next_w\n",
      "\tShell                                               \n",
      "\t0       9970.812960  9417.889347  0.940442  0.675257\n",
      "\t5      10279.136485  9709.399575  0.341337  0.243531\n",
      "\t10     10219.670653  9613.131035  0.200740  0.146685\n",
      "\t15      9973.073546  9345.735761  0.146664  0.110670\n",
      "\n",
      "\n"
     ]
    },
    {
     "name": "stdout",
     "output_type": "stream",
     "text": [
      "[\u001b[1mtardis.simulation.base\u001b[0m][\u001b[1;37mINFO\u001b[0m   ]  t_inner 9952.280 K -- next t_inner 11337.549 K (\u001b[1mbase.py\u001b[0m:352)\n"
     ]
    },
    {
     "name": "stderr",
     "output_type": "stream",
     "text": [
      "\u001b[1;37mINFO\u001b[0m:tardis.simulation.base:t_inner 9952.280 K -- next t_inner 11337.549 K\n"
     ]
    },
    {
     "name": "stdout",
     "output_type": "stream",
     "text": [
      "[\u001b[1mtardis.simulation.base\u001b[0m][\u001b[1;37mINFO\u001b[0m   ]  Starting iteration 4/20 (\u001b[1mbase.py\u001b[0m:268)\n"
     ]
    },
    {
     "name": "stderr",
     "output_type": "stream",
     "text": [
      "\u001b[1;37mINFO\u001b[0m:tardis.simulation.base:Starting iteration 4/20\n"
     ]
    },
    {
     "name": "stdout",
     "output_type": "stream",
     "text": [
      "[\u001b[1mtardis.simulation.base\u001b[0m][\u001b[1;37mINFO\u001b[0m   ]  Luminosity emitted = 1.35049e+43 erg / s Luminosity absorbed = 4.48494e+42 erg / s Luminosity requested = 1.05928e+43 erg / s (\u001b[1mbase.py\u001b[0m:359)\n"
     ]
    },
    {
     "name": "stderr",
     "output_type": "stream",
     "text": [
      "\u001b[1;37mINFO\u001b[0m:tardis.simulation.base:Luminosity emitted = 1.35049e+43 erg / s Luminosity absorbed = 4.48494e+42 erg / s Luminosity requested = 1.05928e+43 erg / s\n"
     ]
    },
    {
     "name": "stdout",
     "output_type": "stream",
     "text": [
      "[\u001b[1mtardis.simulation.base\u001b[0m][\u001b[1;37mINFO\u001b[0m   ]  Plasma stratification:\n",
      "\t             t_rad    next_t_rad         w    next_w\n",
      "\tShell                                               \n",
      "\t0      9417.889347   9922.176827  0.675257  0.931303\n",
      "\t5      9709.399575  10215.117227  0.243531  0.337169\n",
      "\t10     9613.131035  10138.347429  0.146685  0.199124\n",
      "\t15     9345.735761   9901.525879  0.110670  0.145942\n",
      "\n",
      " (\u001b[1mbase.py\u001b[0m:350)\n"
     ]
    },
    {
     "name": "stderr",
     "output_type": "stream",
     "text": [
      "\u001b[1;37mINFO\u001b[0m:tardis.simulation.base:Plasma stratification:\n",
      "\t             t_rad    next_t_rad         w    next_w\n",
      "\tShell                                               \n",
      "\t0      9417.889347   9922.176827  0.675257  0.931303\n",
      "\t5      9709.399575  10215.117227  0.243531  0.337169\n",
      "\t10     9613.131035  10138.347429  0.146685  0.199124\n",
      "\t15     9345.735761   9901.525879  0.110670  0.145942\n",
      "\n",
      "\n"
     ]
    },
    {
     "name": "stdout",
     "output_type": "stream",
     "text": [
      "[\u001b[1mtardis.simulation.base\u001b[0m][\u001b[1;37mINFO\u001b[0m   ]  t_inner 11337.549 K -- next t_inner 10041.030 K (\u001b[1mbase.py\u001b[0m:352)\n"
     ]
    },
    {
     "name": "stderr",
     "output_type": "stream",
     "text": [
      "\u001b[1;37mINFO\u001b[0m:tardis.simulation.base:t_inner 11337.549 K -- next t_inner 10041.030 K\n"
     ]
    },
    {
     "name": "stdout",
     "output_type": "stream",
     "text": [
      "[\u001b[1mtardis.simulation.base\u001b[0m][\u001b[1;37mINFO\u001b[0m   ]  Starting iteration 5/20 (\u001b[1mbase.py\u001b[0m:268)\n"
     ]
    },
    {
     "name": "stderr",
     "output_type": "stream",
     "text": [
      "\u001b[1;37mINFO\u001b[0m:tardis.simulation.base:Starting iteration 5/20\n"
     ]
    },
    {
     "name": "stdout",
     "output_type": "stream",
     "text": [
      "[\u001b[1mtardis.simulation.base\u001b[0m][\u001b[1;37mINFO\u001b[0m   ]  Luminosity emitted = 8.42074e+42 erg / s Luminosity absorbed = 2.65685e+42 erg / s Luminosity requested = 1.05928e+43 erg / s (\u001b[1mbase.py\u001b[0m:359)\n"
     ]
    },
    {
     "name": "stderr",
     "output_type": "stream",
     "text": [
      "\u001b[1;37mINFO\u001b[0m:tardis.simulation.base:Luminosity emitted = 8.42074e+42 erg / s Luminosity absorbed = 2.65685e+42 erg / s Luminosity requested = 1.05928e+43 erg / s\n"
     ]
    },
    {
     "name": "stdout",
     "output_type": "stream",
     "text": [
      "[\u001b[1mtardis.simulation.base\u001b[0m][\u001b[1;37mINFO\u001b[0m   ]  Plasma stratification:\n",
      "\t              t_rad   next_t_rad         w    next_w\n",
      "\tShell                                               \n",
      "\t0       9922.176827  9359.082979  0.931303  0.723854\n",
      "\t5      10215.117227  9704.019148  0.337169  0.252366\n",
      "\t10     10138.347429  9640.144472  0.199124  0.152209\n",
      "\t15      9901.525879  9393.413611  0.145942  0.112247\n",
      "\n",
      " (\u001b[1mbase.py\u001b[0m:350)\n"
     ]
    },
    {
     "name": "stderr",
     "output_type": "stream",
     "text": [
      "\u001b[1;37mINFO\u001b[0m:tardis.simulation.base:Plasma stratification:\n",
      "\t              t_rad   next_t_rad         w    next_w\n",
      "\tShell                                               \n",
      "\t0       9922.176827  9359.082979  0.931303  0.723854\n",
      "\t5      10215.117227  9704.019148  0.337169  0.252366\n",
      "\t10     10138.347429  9640.144472  0.199124  0.152209\n",
      "\t15      9901.525879  9393.413611  0.145942  0.112247\n",
      "\n",
      "\n"
     ]
    },
    {
     "name": "stdout",
     "output_type": "stream",
     "text": [
      "[\u001b[1mtardis.simulation.base\u001b[0m][\u001b[1;37mINFO\u001b[0m   ]  t_inner 10041.030 K -- next t_inner 11261.801 K (\u001b[1mbase.py\u001b[0m:352)\n"
     ]
    },
    {
     "name": "stderr",
     "output_type": "stream",
     "text": [
      "\u001b[1;37mINFO\u001b[0m:tardis.simulation.base:t_inner 10041.030 K -- next t_inner 11261.801 K\n"
     ]
    },
    {
     "name": "stdout",
     "output_type": "stream",
     "text": [
      "[\u001b[1mtardis.simulation.base\u001b[0m][\u001b[1;37mINFO\u001b[0m   ]  Starting iteration 6/20 (\u001b[1mbase.py\u001b[0m:268)\n"
     ]
    },
    {
     "name": "stderr",
     "output_type": "stream",
     "text": [
      "\u001b[1;37mINFO\u001b[0m:tardis.simulation.base:Starting iteration 6/20\n"
     ]
    },
    {
     "name": "stdout",
     "output_type": "stream",
     "text": [
      "[\u001b[1mtardis.simulation.base\u001b[0m][\u001b[1;37mINFO\u001b[0m   ]  Luminosity emitted = 1.32318e+43 erg / s Luminosity absorbed = 4.28524e+42 erg / s Luminosity requested = 1.05928e+43 erg / s (\u001b[1mbase.py\u001b[0m:359)\n"
     ]
    },
    {
     "name": "stderr",
     "output_type": "stream",
     "text": [
      "\u001b[1;37mINFO\u001b[0m:tardis.simulation.base:Luminosity emitted = 1.32318e+43 erg / s Luminosity absorbed = 4.28524e+42 erg / s Luminosity requested = 1.05928e+43 erg / s\n"
     ]
    },
    {
     "name": "stdout",
     "output_type": "stream",
     "text": [
      "[\u001b[1mtardis.simulation.base\u001b[0m][\u001b[1;37mINFO\u001b[0m   ]  Plasma stratification:\n",
      "\t             t_rad    next_t_rad         w    next_w\n",
      "\tShell                                               \n",
      "\t0      9359.082979   9896.296746  0.723854  0.914484\n",
      "\t5      9704.019148  10163.629122  0.252366  0.337554\n",
      "\t10     9640.144472  10025.549681  0.152209  0.204060\n",
      "\t15     9393.413611   9883.249505  0.112247  0.144352\n",
      "\n",
      " (\u001b[1mbase.py\u001b[0m:350)\n"
     ]
    },
    {
     "name": "stderr",
     "output_type": "stream",
     "text": [
      "\u001b[1;37mINFO\u001b[0m:tardis.simulation.base:Plasma stratification:\n",
      "\t             t_rad    next_t_rad         w    next_w\n",
      "\tShell                                               \n",
      "\t0      9359.082979   9896.296746  0.723854  0.914484\n",
      "\t5      9704.019148  10163.629122  0.252366  0.337554\n",
      "\t10     9640.144472  10025.549681  0.152209  0.204060\n",
      "\t15     9393.413611   9883.249505  0.112247  0.144352\n",
      "\n",
      "\n"
     ]
    },
    {
     "name": "stdout",
     "output_type": "stream",
     "text": [
      "[\u001b[1mtardis.simulation.base\u001b[0m][\u001b[1;37mINFO\u001b[0m   ]  t_inner 11261.801 K -- next t_inner 10076.331 K (\u001b[1mbase.py\u001b[0m:352)\n"
     ]
    },
    {
     "name": "stderr",
     "output_type": "stream",
     "text": [
      "\u001b[1;37mINFO\u001b[0m:tardis.simulation.base:t_inner 11261.801 K -- next t_inner 10076.331 K\n"
     ]
    },
    {
     "name": "stdout",
     "output_type": "stream",
     "text": [
      "[\u001b[1mtardis.simulation.base\u001b[0m][\u001b[1;37mINFO\u001b[0m   ]  Starting iteration 7/20 (\u001b[1mbase.py\u001b[0m:268)\n"
     ]
    },
    {
     "name": "stderr",
     "output_type": "stream",
     "text": [
      "\u001b[1;37mINFO\u001b[0m:tardis.simulation.base:Starting iteration 7/20\n"
     ]
    },
    {
     "name": "stdout",
     "output_type": "stream",
     "text": [
      "[\u001b[1mtardis.simulation.base\u001b[0m][\u001b[1;37mINFO\u001b[0m   ]  Luminosity emitted = 8.52844e+42 erg / s Luminosity absorbed = 2.70310e+42 erg / s Luminosity requested = 1.05928e+43 erg / s (\u001b[1mbase.py\u001b[0m:359)\n"
     ]
    },
    {
     "name": "stderr",
     "output_type": "stream",
     "text": [
      "\u001b[1;37mINFO\u001b[0m:tardis.simulation.base:Luminosity emitted = 8.52844e+42 erg / s Luminosity absorbed = 2.70310e+42 erg / s Luminosity requested = 1.05928e+43 erg / s\n"
     ]
    },
    {
     "name": "stdout",
     "output_type": "stream",
     "text": [
      "[\u001b[1mtardis.simulation.base\u001b[0m][\u001b[1;37mINFO\u001b[0m   ]  Plasma stratification:\n",
      "\t              t_rad   next_t_rad         w    next_w\n",
      "\tShell                                               \n",
      "\t0       9896.296746  9376.389179  0.914484  0.729442\n",
      "\t5      10163.629122  9681.313214  0.337554  0.262445\n",
      "\t10     10025.549681  9606.852512  0.204060  0.155523\n",
      "\t15      9883.249505  9330.649031  0.144352  0.116486\n",
      "\n",
      " (\u001b[1mbase.py\u001b[0m:350)\n"
     ]
    },
    {
     "name": "stderr",
     "output_type": "stream",
     "text": [
      "\u001b[1;37mINFO\u001b[0m:tardis.simulation.base:Plasma stratification:\n",
      "\t              t_rad   next_t_rad         w    next_w\n",
      "\tShell                                               \n",
      "\t0       9896.296746  9376.389179  0.914484  0.729442\n",
      "\t5      10163.629122  9681.313214  0.337554  0.262445\n",
      "\t10     10025.549681  9606.852512  0.204060  0.155523\n",
      "\t15      9883.249505  9330.649031  0.144352  0.116486\n",
      "\n",
      "\n"
     ]
    },
    {
     "name": "stdout",
     "output_type": "stream",
     "text": [
      "[\u001b[1mtardis.simulation.base\u001b[0m][\u001b[1;37mINFO\u001b[0m   ]  t_inner 10076.331 K -- next t_inner 11229.806 K (\u001b[1mbase.py\u001b[0m:352)\n"
     ]
    },
    {
     "name": "stderr",
     "output_type": "stream",
     "text": [
      "\u001b[1;37mINFO\u001b[0m:tardis.simulation.base:t_inner 10076.331 K -- next t_inner 11229.806 K\n"
     ]
    },
    {
     "name": "stdout",
     "output_type": "stream",
     "text": [
      "[\u001b[1mtardis.simulation.base\u001b[0m][\u001b[1;37mINFO\u001b[0m   ]  Starting iteration 8/20 (\u001b[1mbase.py\u001b[0m:268)\n"
     ]
    },
    {
     "name": "stderr",
     "output_type": "stream",
     "text": [
      "\u001b[1;37mINFO\u001b[0m:tardis.simulation.base:Starting iteration 8/20\n"
     ]
    },
    {
     "name": "stdout",
     "output_type": "stream",
     "text": [
      "[\u001b[1mtardis.simulation.base\u001b[0m][\u001b[1;37mINFO\u001b[0m   ]  Luminosity emitted = 1.29885e+43 erg / s Luminosity absorbed = 4.32563e+42 erg / s Luminosity requested = 1.05928e+43 erg / s (\u001b[1mbase.py\u001b[0m:359)\n"
     ]
    },
    {
     "name": "stderr",
     "output_type": "stream",
     "text": [
      "\u001b[1;37mINFO\u001b[0m:tardis.simulation.base:Luminosity emitted = 1.29885e+43 erg / s Luminosity absorbed = 4.32563e+42 erg / s Luminosity requested = 1.05928e+43 erg / s\n"
     ]
    },
    {
     "name": "stdout",
     "output_type": "stream",
     "text": [
      "[\u001b[1mtardis.simulation.base\u001b[0m][\u001b[1;37mINFO\u001b[0m   ]  Plasma stratification:\n",
      "\t             t_rad    next_t_rad         w    next_w\n",
      "\tShell                                               \n",
      "\t0      9376.389179   9862.040389  0.729442  0.925375\n",
      "\t5      9681.313214  10147.368588  0.262445  0.333664\n",
      "\t10     9606.852512  10076.910700  0.155523  0.197614\n",
      "\t15     9330.649031   9825.343233  0.116486  0.144842\n",
      "\n",
      " (\u001b[1mbase.py\u001b[0m:350)\n"
     ]
    },
    {
     "name": "stderr",
     "output_type": "stream",
     "text": [
      "\u001b[1;37mINFO\u001b[0m:tardis.simulation.base:Plasma stratification:\n",
      "\t             t_rad    next_t_rad         w    next_w\n",
      "\tShell                                               \n",
      "\t0      9376.389179   9862.040389  0.729442  0.925375\n",
      "\t5      9681.313214  10147.368588  0.262445  0.333664\n",
      "\t10     9606.852512  10076.910700  0.155523  0.197614\n",
      "\t15     9330.649031   9825.343233  0.116486  0.144842\n",
      "\n",
      "\n"
     ]
    },
    {
     "name": "stdout",
     "output_type": "stream",
     "text": [
      "[\u001b[1mtardis.simulation.base\u001b[0m][\u001b[1;37mINFO\u001b[0m   ]  t_inner 11229.806 K -- next t_inner 10141.394 K (\u001b[1mbase.py\u001b[0m:352)\n"
     ]
    },
    {
     "name": "stderr",
     "output_type": "stream",
     "text": [
      "\u001b[1;37mINFO\u001b[0m:tardis.simulation.base:t_inner 11229.806 K -- next t_inner 10141.394 K\n"
     ]
    },
    {
     "name": "stdout",
     "output_type": "stream",
     "text": [
      "[\u001b[1mtardis.simulation.base\u001b[0m][\u001b[1;37mINFO\u001b[0m   ]  Starting iteration 9/20 (\u001b[1mbase.py\u001b[0m:268)\n"
     ]
    },
    {
     "name": "stderr",
     "output_type": "stream",
     "text": [
      "\u001b[1;37mINFO\u001b[0m:tardis.simulation.base:Starting iteration 9/20\n"
     ]
    },
    {
     "name": "stdout",
     "output_type": "stream",
     "text": [
      "[\u001b[1mtardis.simulation.base\u001b[0m][\u001b[1;37mINFO\u001b[0m   ]  Luminosity emitted = 8.76008e+42 erg / s Luminosity absorbed = 2.76840e+42 erg / s Luminosity requested = 1.05928e+43 erg / s (\u001b[1mbase.py\u001b[0m:359)\n"
     ]
    },
    {
     "name": "stderr",
     "output_type": "stream",
     "text": [
      "\u001b[1;37mINFO\u001b[0m:tardis.simulation.base:Luminosity emitted = 8.76008e+42 erg / s Luminosity absorbed = 2.76840e+42 erg / s Luminosity requested = 1.05928e+43 erg / s\n"
     ]
    },
    {
     "name": "stdout",
     "output_type": "stream",
     "text": [
      "[\u001b[1mtardis.simulation.base\u001b[0m][\u001b[1;37mINFO\u001b[0m   ]  Plasma stratification:\n",
      "\t              t_rad   next_t_rad         w    next_w\n",
      "\tShell                                               \n",
      "\t0       9862.040389  9400.831296  0.925375  0.733678\n",
      "\t5      10147.368588  9651.431039  0.333664  0.267756\n",
      "\t10     10076.910700  9563.516709  0.197614  0.161475\n",
      "\t15      9825.343233  9393.136901  0.144842  0.116708\n",
      "\n",
      " (\u001b[1mbase.py\u001b[0m:350)\n"
     ]
    },
    {
     "name": "stderr",
     "output_type": "stream",
     "text": [
      "\u001b[1;37mINFO\u001b[0m:tardis.simulation.base:Plasma stratification:\n",
      "\t              t_rad   next_t_rad         w    next_w\n",
      "\tShell                                               \n",
      "\t0       9862.040389  9400.831296  0.925375  0.733678\n",
      "\t5      10147.368588  9651.431039  0.333664  0.267756\n",
      "\t10     10076.910700  9563.516709  0.197614  0.161475\n",
      "\t15      9825.343233  9393.136901  0.144842  0.116708\n",
      "\n",
      "\n"
     ]
    },
    {
     "name": "stdout",
     "output_type": "stream",
     "text": [
      "[\u001b[1mtardis.simulation.base\u001b[0m][\u001b[1;37mINFO\u001b[0m   ]  t_inner 10141.394 K -- next t_inner 11151.887 K (\u001b[1mbase.py\u001b[0m:352)\n"
     ]
    },
    {
     "name": "stderr",
     "output_type": "stream",
     "text": [
      "\u001b[1;37mINFO\u001b[0m:tardis.simulation.base:t_inner 10141.394 K -- next t_inner 11151.887 K\n"
     ]
    },
    {
     "name": "stdout",
     "output_type": "stream",
     "text": [
      "[\u001b[1mtardis.simulation.base\u001b[0m][\u001b[1;37mINFO\u001b[0m   ]  Starting iteration 10/20 (\u001b[1mbase.py\u001b[0m:268)\n"
     ]
    },
    {
     "name": "stderr",
     "output_type": "stream",
     "text": [
      "\u001b[1;37mINFO\u001b[0m:tardis.simulation.base:Starting iteration 10/20\n"
     ]
    },
    {
     "name": "stdout",
     "output_type": "stream",
     "text": [
      "[\u001b[1mtardis.simulation.base\u001b[0m][\u001b[1;37mINFO\u001b[0m   ]  Luminosity emitted = 1.27114e+43 erg / s Luminosity absorbed = 4.12858e+42 erg / s Luminosity requested = 1.05928e+43 erg / s (\u001b[1mbase.py\u001b[0m:359)\n"
     ]
    },
    {
     "name": "stderr",
     "output_type": "stream",
     "text": [
      "\u001b[1;37mINFO\u001b[0m:tardis.simulation.base:Luminosity emitted = 1.27114e+43 erg / s Luminosity absorbed = 4.12858e+42 erg / s Luminosity requested = 1.05928e+43 erg / s\n"
     ]
    },
    {
     "name": "stdout",
     "output_type": "stream",
     "text": [
      "[\u001b[1mtardis.simulation.base\u001b[0m][\u001b[1;37mINFO\u001b[0m   ]  Plasma stratification:\n",
      "\t             t_rad    next_t_rad         w    next_w\n",
      "\tShell                                               \n",
      "\t0      9400.831296   9886.109086  0.733678  0.883930\n",
      "\t5      9651.431039  10163.780122  0.267756  0.324578\n",
      "\t10     9563.516709  10103.547384  0.161475  0.190547\n",
      "\t15     9393.136901   9923.824236  0.116708  0.136391\n",
      "\n",
      " (\u001b[1mbase.py\u001b[0m:350)\n"
     ]
    },
    {
     "name": "stderr",
     "output_type": "stream",
     "text": [
      "\u001b[1;37mINFO\u001b[0m:tardis.simulation.base:Plasma stratification:\n",
      "\t             t_rad    next_t_rad         w    next_w\n",
      "\tShell                                               \n",
      "\t0      9400.831296   9886.109086  0.733678  0.883930\n",
      "\t5      9651.431039  10163.780122  0.267756  0.324578\n",
      "\t10     9563.516709  10103.547384  0.161475  0.190547\n",
      "\t15     9393.136901   9923.824236  0.116708  0.136391\n",
      "\n",
      "\n"
     ]
    },
    {
     "name": "stdout",
     "output_type": "stream",
     "text": [
      "[\u001b[1mtardis.simulation.base\u001b[0m][\u001b[1;37mINFO\u001b[0m   ]  t_inner 11151.887 K -- next t_inner 10180.214 K (\u001b[1mbase.py\u001b[0m:352)\n"
     ]
    },
    {
     "name": "stderr",
     "output_type": "stream",
     "text": [
      "\u001b[1;37mINFO\u001b[0m:tardis.simulation.base:t_inner 11151.887 K -- next t_inner 10180.214 K\n"
     ]
    },
    {
     "name": "stdout",
     "output_type": "stream",
     "text": [
      "[\u001b[1mtardis.simulation.base\u001b[0m][\u001b[1;37mINFO\u001b[0m   ]  Starting iteration 11/20 (\u001b[1mbase.py\u001b[0m:268)\n"
     ]
    },
    {
     "name": "stderr",
     "output_type": "stream",
     "text": [
      "\u001b[1;37mINFO\u001b[0m:tardis.simulation.base:Starting iteration 11/20\n"
     ]
    },
    {
     "name": "stdout",
     "output_type": "stream",
     "text": [
      "[\u001b[1mtardis.simulation.base\u001b[0m][\u001b[1;37mINFO\u001b[0m   ]  Luminosity emitted = 8.89633e+42 erg / s Luminosity absorbed = 2.80790e+42 erg / s Luminosity requested = 1.05928e+43 erg / s (\u001b[1mbase.py\u001b[0m:359)\n"
     ]
    },
    {
     "name": "stderr",
     "output_type": "stream",
     "text": [
      "\u001b[1;37mINFO\u001b[0m:tardis.simulation.base:Luminosity emitted = 8.89633e+42 erg / s Luminosity absorbed = 2.80790e+42 erg / s Luminosity requested = 1.05928e+43 erg / s\n"
     ]
    },
    {
     "name": "stdout",
     "output_type": "stream",
     "text": [
      "[\u001b[1mtardis.simulation.base\u001b[0m][\u001b[1;37mINFO\u001b[0m   ]  Plasma stratification:\n",
      "\t              t_rad   next_t_rad         w    next_w\n",
      "\tShell                                               \n",
      "\t0       9886.109086  9447.744250  0.883930  0.731489\n",
      "\t5      10163.780122  9778.639583  0.324578  0.260343\n",
      "\t10     10103.547384  9625.614085  0.190547  0.160368\n",
      "\t15      9923.824236  9472.038340  0.136391  0.114829\n",
      "\n",
      " (\u001b[1mbase.py\u001b[0m:350)\n"
     ]
    },
    {
     "name": "stderr",
     "output_type": "stream",
     "text": [
      "\u001b[1;37mINFO\u001b[0m:tardis.simulation.base:Plasma stratification:\n",
      "\t              t_rad   next_t_rad         w    next_w\n",
      "\tShell                                               \n",
      "\t0       9886.109086  9447.744250  0.883930  0.731489\n",
      "\t5      10163.780122  9778.639583  0.324578  0.260343\n",
      "\t10     10103.547384  9625.614085  0.190547  0.160368\n",
      "\t15      9923.824236  9472.038340  0.136391  0.114829\n",
      "\n",
      "\n"
     ]
    },
    {
     "name": "stdout",
     "output_type": "stream",
     "text": [
      "[\u001b[1mtardis.simulation.base\u001b[0m][\u001b[1;37mINFO\u001b[0m   ]  t_inner 10180.214 K -- next t_inner 11108.516 K (\u001b[1mbase.py\u001b[0m:352)\n"
     ]
    },
    {
     "name": "stderr",
     "output_type": "stream",
     "text": [
      "\u001b[1;37mINFO\u001b[0m:tardis.simulation.base:t_inner 10180.214 K -- next t_inner 11108.516 K\n"
     ]
    },
    {
     "name": "stdout",
     "output_type": "stream",
     "text": [
      "[\u001b[1mtardis.simulation.base\u001b[0m][\u001b[1;37mINFO\u001b[0m   ]  Starting iteration 12/20 (\u001b[1mbase.py\u001b[0m:268)\n"
     ]
    },
    {
     "name": "stderr",
     "output_type": "stream",
     "text": [
      "\u001b[1;37mINFO\u001b[0m:tardis.simulation.base:Starting iteration 12/20\n"
     ]
    },
    {
     "name": "stdout",
     "output_type": "stream",
     "text": [
      "[\u001b[1mtardis.simulation.base\u001b[0m][\u001b[1;37mINFO\u001b[0m   ]  Luminosity emitted = 1.24888e+43 erg / s Luminosity absorbed = 4.08951e+42 erg / s Luminosity requested = 1.05928e+43 erg / s (\u001b[1mbase.py\u001b[0m:359)\n"
     ]
    },
    {
     "name": "stderr",
     "output_type": "stream",
     "text": [
      "\u001b[1;37mINFO\u001b[0m:tardis.simulation.base:Luminosity emitted = 1.24888e+43 erg / s Luminosity absorbed = 4.08951e+42 erg / s Luminosity requested = 1.05928e+43 erg / s\n"
     ]
    },
    {
     "name": "stdout",
     "output_type": "stream",
     "text": [
      "[\u001b[1mtardis.simulation.base\u001b[0m][\u001b[1;37mINFO\u001b[0m   ]  Plasma stratification:\n",
      "\t             t_rad    next_t_rad         w    next_w\n",
      "\tShell                                               \n",
      "\t0      9447.744250   9878.427673  0.731489  0.877515\n",
      "\t5      9778.639583  10155.600887  0.260343  0.318893\n",
      "\t10     9625.614085  10051.580970  0.160368  0.192144\n",
      "\t15     9472.038340   9826.991580  0.114829  0.138521\n",
      "\n",
      " (\u001b[1mbase.py\u001b[0m:350)\n"
     ]
    },
    {
     "name": "stderr",
     "output_type": "stream",
     "text": [
      "\u001b[1;37mINFO\u001b[0m:tardis.simulation.base:Plasma stratification:\n",
      "\t             t_rad    next_t_rad         w    next_w\n",
      "\tShell                                               \n",
      "\t0      9447.744250   9878.427673  0.731489  0.877515\n",
      "\t5      9778.639583  10155.600887  0.260343  0.318893\n",
      "\t10     9625.614085  10051.580970  0.160368  0.192144\n",
      "\t15     9472.038340   9826.991580  0.114829  0.138521\n",
      "\n",
      "\n"
     ]
    },
    {
     "name": "stdout",
     "output_type": "stream",
     "text": [
      "[\u001b[1mtardis.simulation.base\u001b[0m][\u001b[1;37mINFO\u001b[0m   ]  t_inner 11108.516 K -- next t_inner 10230.583 K (\u001b[1mbase.py\u001b[0m:352)\n"
     ]
    },
    {
     "name": "stderr",
     "output_type": "stream",
     "text": [
      "\u001b[1;37mINFO\u001b[0m:tardis.simulation.base:t_inner 11108.516 K -- next t_inner 10230.583 K\n"
     ]
    },
    {
     "name": "stdout",
     "output_type": "stream",
     "text": [
      "[\u001b[1mtardis.simulation.base\u001b[0m][\u001b[1;37mINFO\u001b[0m   ]  Starting iteration 13/20 (\u001b[1mbase.py\u001b[0m:268)\n"
     ]
    },
    {
     "name": "stderr",
     "output_type": "stream",
     "text": [
      "\u001b[1;37mINFO\u001b[0m:tardis.simulation.base:Starting iteration 13/20\n"
     ]
    },
    {
     "name": "stdout",
     "output_type": "stream",
     "text": [
      "[\u001b[1mtardis.simulation.base\u001b[0m][\u001b[1;37mINFO\u001b[0m   ]  Luminosity emitted = 9.03073e+42 erg / s Luminosity absorbed = 2.90452e+42 erg / s Luminosity requested = 1.05928e+43 erg / s (\u001b[1mbase.py\u001b[0m:359)\n"
     ]
    },
    {
     "name": "stderr",
     "output_type": "stream",
     "text": [
      "\u001b[1;37mINFO\u001b[0m:tardis.simulation.base:Luminosity emitted = 9.03073e+42 erg / s Luminosity absorbed = 2.90452e+42 erg / s Luminosity requested = 1.05928e+43 erg / s\n"
     ]
    },
    {
     "name": "stdout",
     "output_type": "stream",
     "text": [
      "[\u001b[1mtardis.simulation.base\u001b[0m][\u001b[1;37mINFO\u001b[0m   ]  Plasma stratification:\n",
      "\t              t_rad   next_t_rad         w    next_w\n",
      "\tShell                                               \n",
      "\t0       9878.427673  9433.315452  0.877515  0.755534\n",
      "\t5      10155.600887  9720.880708  0.318893  0.270945\n",
      "\t10     10051.580970  9640.261926  0.192144  0.161599\n",
      "\t15      9826.991580  9449.035777  0.138521  0.117640\n",
      "\n",
      " (\u001b[1mbase.py\u001b[0m:350)\n"
     ]
    },
    {
     "name": "stderr",
     "output_type": "stream",
     "text": [
      "\u001b[1;37mINFO\u001b[0m:tardis.simulation.base:Plasma stratification:\n",
      "\t              t_rad   next_t_rad         w    next_w\n",
      "\tShell                                               \n",
      "\t0       9878.427673  9433.315452  0.877515  0.755534\n",
      "\t5      10155.600887  9720.880708  0.318893  0.270945\n",
      "\t10     10051.580970  9640.261926  0.192144  0.161599\n",
      "\t15      9826.991580  9449.035777  0.138521  0.117640\n",
      "\n",
      "\n"
     ]
    },
    {
     "name": "stdout",
     "output_type": "stream",
     "text": [
      "[\u001b[1mtardis.simulation.base\u001b[0m][\u001b[1;37mINFO\u001b[0m   ]  t_inner 10230.583 K -- next t_inner 11080.099 K (\u001b[1mbase.py\u001b[0m:352)\n"
     ]
    },
    {
     "name": "stderr",
     "output_type": "stream",
     "text": [
      "\u001b[1;37mINFO\u001b[0m:tardis.simulation.base:t_inner 10230.583 K -- next t_inner 11080.099 K\n"
     ]
    },
    {
     "name": "stdout",
     "output_type": "stream",
     "text": [
      "[\u001b[1mtardis.simulation.base\u001b[0m][\u001b[1;37mINFO\u001b[0m   ]  Starting iteration 14/20 (\u001b[1mbase.py\u001b[0m:268)\n"
     ]
    },
    {
     "name": "stderr",
     "output_type": "stream",
     "text": [
      "\u001b[1;37mINFO\u001b[0m:tardis.simulation.base:Starting iteration 14/20\n"
     ]
    },
    {
     "name": "stdout",
     "output_type": "stream",
     "text": [
      "[\u001b[1mtardis.simulation.base\u001b[0m][\u001b[1;37mINFO\u001b[0m   ]  Luminosity emitted = 1.23189e+43 erg / s Luminosity absorbed = 4.08841e+42 erg / s Luminosity requested = 1.05928e+43 erg / s (\u001b[1mbase.py\u001b[0m:359)\n"
     ]
    },
    {
     "name": "stderr",
     "output_type": "stream",
     "text": [
      "\u001b[1;37mINFO\u001b[0m:tardis.simulation.base:Luminosity emitted = 1.23189e+43 erg / s Luminosity absorbed = 4.08841e+42 erg / s Luminosity requested = 1.05928e+43 erg / s\n"
     ]
    },
    {
     "name": "stdout",
     "output_type": "stream",
     "text": [
      "[\u001b[1mtardis.simulation.base\u001b[0m][\u001b[1;37mINFO\u001b[0m   ]  Plasma stratification:\n",
      "\t             t_rad    next_t_rad         w    next_w\n",
      "\tShell                                               \n",
      "\t0      9433.315452   9819.442378  0.755534  0.897622\n",
      "\t5      9720.880708  10138.383589  0.270945  0.317168\n",
      "\t10     9640.261926  10089.042415  0.161599  0.186716\n",
      "\t15     9449.035777   9892.294467  0.117640  0.134247\n",
      "\n",
      " (\u001b[1mbase.py\u001b[0m:350)\n"
     ]
    },
    {
     "name": "stderr",
     "output_type": "stream",
     "text": [
      "\u001b[1;37mINFO\u001b[0m:tardis.simulation.base:Plasma stratification:\n",
      "\t             t_rad    next_t_rad         w    next_w\n",
      "\tShell                                               \n",
      "\t0      9433.315452   9819.442378  0.755534  0.897622\n",
      "\t5      9720.880708  10138.383589  0.270945  0.317168\n",
      "\t10     9640.261926  10089.042415  0.161599  0.186716\n",
      "\t15     9449.035777   9892.294467  0.117640  0.134247\n",
      "\n",
      "\n"
     ]
    },
    {
     "name": "stdout",
     "output_type": "stream",
     "text": [
      "[\u001b[1mtardis.simulation.base\u001b[0m][\u001b[1;37mINFO\u001b[0m   ]  t_inner 11080.099 K -- next t_inner 10274.554 K (\u001b[1mbase.py\u001b[0m:352)\n"
     ]
    },
    {
     "name": "stderr",
     "output_type": "stream",
     "text": [
      "\u001b[1;37mINFO\u001b[0m:tardis.simulation.base:t_inner 11080.099 K -- next t_inner 10274.554 K\n"
     ]
    },
    {
     "name": "stdout",
     "output_type": "stream",
     "text": [
      "[\u001b[1mtardis.simulation.base\u001b[0m][\u001b[1;37mINFO\u001b[0m   ]  Starting iteration 15/20 (\u001b[1mbase.py\u001b[0m:268)\n"
     ]
    },
    {
     "name": "stderr",
     "output_type": "stream",
     "text": [
      "\u001b[1;37mINFO\u001b[0m:tardis.simulation.base:Starting iteration 15/20\n"
     ]
    },
    {
     "name": "stdout",
     "output_type": "stream",
     "text": [
      "[\u001b[1mtardis.simulation.base\u001b[0m][\u001b[1;37mINFO\u001b[0m   ]  Luminosity emitted = 9.20594e+42 erg / s Luminosity absorbed = 2.93529e+42 erg / s Luminosity requested = 1.05928e+43 erg / s (\u001b[1mbase.py\u001b[0m:359)\n"
     ]
    },
    {
     "name": "stderr",
     "output_type": "stream",
     "text": [
      "\u001b[1;37mINFO\u001b[0m:tardis.simulation.base:Luminosity emitted = 9.20594e+42 erg / s Luminosity absorbed = 2.93529e+42 erg / s Luminosity requested = 1.05928e+43 erg / s\n"
     ]
    },
    {
     "name": "stdout",
     "output_type": "stream",
     "text": [
      "[\u001b[1mtardis.simulation.base\u001b[0m][\u001b[1;37mINFO\u001b[0m   ]  Plasma stratification:\n",
      "\t              t_rad   next_t_rad         w    next_w\n",
      "\tShell                                               \n",
      "\t0       9819.442378  9509.931824  0.897622  0.739878\n",
      "\t5      10138.383589  9702.698363  0.317168  0.276278\n",
      "\t10     10089.042415  9682.781589  0.186716  0.162854\n",
      "\t15      9892.294467  9481.368860  0.134247  0.119423\n",
      "\n",
      " (\u001b[1mbase.py\u001b[0m:350)\n"
     ]
    },
    {
     "name": "stderr",
     "output_type": "stream",
     "text": [
      "\u001b[1;37mINFO\u001b[0m:tardis.simulation.base:Plasma stratification:\n",
      "\t              t_rad   next_t_rad         w    next_w\n",
      "\tShell                                               \n",
      "\t0       9819.442378  9509.931824  0.897622  0.739878\n",
      "\t5      10138.383589  9702.698363  0.317168  0.276278\n",
      "\t10     10089.042415  9682.781589  0.186716  0.162854\n",
      "\t15      9892.294467  9481.368860  0.134247  0.119423\n",
      "\n",
      "\n"
     ]
    },
    {
     "name": "stdout",
     "output_type": "stream",
     "text": [
      "[\u001b[1mtardis.simulation.base\u001b[0m][\u001b[1;37mINFO\u001b[0m   ]  t_inner 10274.554 K -- next t_inner 11021.320 K (\u001b[1mbase.py\u001b[0m:352)\n"
     ]
    },
    {
     "name": "stderr",
     "output_type": "stream",
     "text": [
      "\u001b[1;37mINFO\u001b[0m:tardis.simulation.base:t_inner 10274.554 K -- next t_inner 11021.320 K\n"
     ]
    },
    {
     "name": "stdout",
     "output_type": "stream",
     "text": [
      "[\u001b[1mtardis.simulation.base\u001b[0m][\u001b[1;37mINFO\u001b[0m   ]  Starting iteration 16/20 (\u001b[1mbase.py\u001b[0m:268)\n"
     ]
    },
    {
     "name": "stderr",
     "output_type": "stream",
     "text": [
      "\u001b[1;37mINFO\u001b[0m:tardis.simulation.base:Starting iteration 16/20\n"
     ]
    },
    {
     "name": "stdout",
     "output_type": "stream",
     "text": [
      "[\u001b[1mtardis.simulation.base\u001b[0m][\u001b[1;37mINFO\u001b[0m   ]  Luminosity emitted = 1.20786e+43 erg / s Luminosity absorbed = 3.98754e+42 erg / s Luminosity requested = 1.05928e+43 erg / s (\u001b[1mbase.py\u001b[0m:359)\n"
     ]
    },
    {
     "name": "stderr",
     "output_type": "stream",
     "text": [
      "\u001b[1;37mINFO\u001b[0m:tardis.simulation.base:Luminosity emitted = 1.20786e+43 erg / s Luminosity absorbed = 3.98754e+42 erg / s Luminosity requested = 1.05928e+43 erg / s\n"
     ]
    },
    {
     "name": "stdout",
     "output_type": "stream",
     "text": [
      "[\u001b[1mtardis.simulation.base\u001b[0m][\u001b[1;37mINFO\u001b[0m   ]  Plasma stratification:\n",
      "\t             t_rad    next_t_rad         w    next_w\n",
      "\tShell                                               \n",
      "\t0      9509.931824   9786.973709  0.739878  0.884296\n",
      "\t5      9702.698363  10019.560208  0.276278  0.326831\n",
      "\t10     9682.781589   9933.282564  0.162854  0.193954\n",
      "\t15     9481.368860   9722.614495  0.119423  0.140501\n",
      "\n",
      " (\u001b[1mbase.py\u001b[0m:350)\n"
     ]
    },
    {
     "name": "stderr",
     "output_type": "stream",
     "text": [
      "\u001b[1;37mINFO\u001b[0m:tardis.simulation.base:Plasma stratification:\n",
      "\t             t_rad    next_t_rad         w    next_w\n",
      "\tShell                                               \n",
      "\t0      9509.931824   9786.973709  0.739878  0.884296\n",
      "\t5      9702.698363  10019.560208  0.276278  0.326831\n",
      "\t10     9682.781589   9933.282564  0.162854  0.193954\n",
      "\t15     9481.368860   9722.614495  0.119423  0.140501\n",
      "\n",
      "\n"
     ]
    },
    {
     "name": "stdout",
     "output_type": "stream",
     "text": [
      "[\u001b[1mtardis.simulation.base\u001b[0m][\u001b[1;37mINFO\u001b[0m   ]  t_inner 11021.320 K -- next t_inner 10321.203 K (\u001b[1mbase.py\u001b[0m:352)\n"
     ]
    },
    {
     "name": "stderr",
     "output_type": "stream",
     "text": [
      "\u001b[1;37mINFO\u001b[0m:tardis.simulation.base:t_inner 11021.320 K -- next t_inner 10321.203 K\n"
     ]
    },
    {
     "name": "stdout",
     "output_type": "stream",
     "text": [
      "[\u001b[1mtardis.simulation.base\u001b[0m][\u001b[1;37mINFO\u001b[0m   ]  Starting iteration 17/20 (\u001b[1mbase.py\u001b[0m:268)\n"
     ]
    },
    {
     "name": "stderr",
     "output_type": "stream",
     "text": [
      "\u001b[1;37mINFO\u001b[0m:tardis.simulation.base:Starting iteration 17/20\n"
     ]
    },
    {
     "name": "stdout",
     "output_type": "stream",
     "text": [
      "[\u001b[1mtardis.simulation.base\u001b[0m][\u001b[1;37mINFO\u001b[0m   ]  Luminosity emitted = 9.35180e+42 erg / s Luminosity absorbed = 3.00810e+42 erg / s Luminosity requested = 1.05928e+43 erg / s (\u001b[1mbase.py\u001b[0m:359)\n"
     ]
    },
    {
     "name": "stderr",
     "output_type": "stream",
     "text": [
      "\u001b[1;37mINFO\u001b[0m:tardis.simulation.base:Luminosity emitted = 9.35180e+42 erg / s Luminosity absorbed = 3.00810e+42 erg / s Luminosity requested = 1.05928e+43 erg / s\n"
     ]
    },
    {
     "name": "stdout",
     "output_type": "stream",
     "text": [
      "[\u001b[1mtardis.simulation.base\u001b[0m][\u001b[1;37mINFO\u001b[0m   ]  Plasma stratification:\n",
      "\t              t_rad   next_t_rad         w    next_w\n",
      "\tShell                                               \n",
      "\t0       9786.973709  9529.410632  0.884296  0.754263\n",
      "\t5      10019.560208  9817.837911  0.326831  0.270679\n",
      "\t10      9933.282564  9743.407316  0.193954  0.162481\n",
      "\t15      9722.614495  9504.601719  0.140501  0.119547\n",
      "\n",
      " (\u001b[1mbase.py\u001b[0m:350)\n"
     ]
    },
    {
     "name": "stderr",
     "output_type": "stream",
     "text": [
      "\u001b[1;37mINFO\u001b[0m:tardis.simulation.base:Plasma stratification:\n",
      "\t              t_rad   next_t_rad         w    next_w\n",
      "\tShell                                               \n",
      "\t0       9786.973709  9529.410632  0.884296  0.754263\n",
      "\t5      10019.560208  9817.837911  0.326831  0.270679\n",
      "\t10      9933.282564  9743.407316  0.193954  0.162481\n",
      "\t15      9722.614495  9504.601719  0.140501  0.119547\n",
      "\n",
      "\n"
     ]
    },
    {
     "name": "stdout",
     "output_type": "stream",
     "text": [
      "[\u001b[1mtardis.simulation.base\u001b[0m][\u001b[1;37mINFO\u001b[0m   ]  t_inner 10321.203 K -- next t_inner 10984.681 K (\u001b[1mbase.py\u001b[0m:352)\n"
     ]
    },
    {
     "name": "stderr",
     "output_type": "stream",
     "text": [
      "\u001b[1;37mINFO\u001b[0m:tardis.simulation.base:t_inner 10321.203 K -- next t_inner 10984.681 K\n"
     ]
    },
    {
     "name": "stdout",
     "output_type": "stream",
     "text": [
      "[\u001b[1mtardis.simulation.base\u001b[0m][\u001b[1;37mINFO\u001b[0m   ]  Starting iteration 18/20 (\u001b[1mbase.py\u001b[0m:268)\n"
     ]
    },
    {
     "name": "stderr",
     "output_type": "stream",
     "text": [
      "\u001b[1;37mINFO\u001b[0m:tardis.simulation.base:Starting iteration 18/20\n"
     ]
    },
    {
     "name": "stdout",
     "output_type": "stream",
     "text": [
      "[\u001b[1mtardis.simulation.base\u001b[0m][\u001b[1;37mINFO\u001b[0m   ]  Luminosity emitted = 1.19508e+43 erg / s Luminosity absorbed = 3.90940e+42 erg / s Luminosity requested = 1.05928e+43 erg / s (\u001b[1mbase.py\u001b[0m:359)\n"
     ]
    },
    {
     "name": "stderr",
     "output_type": "stream",
     "text": [
      "\u001b[1;37mINFO\u001b[0m:tardis.simulation.base:Luminosity emitted = 1.19508e+43 erg / s Luminosity absorbed = 3.90940e+42 erg / s Luminosity requested = 1.05928e+43 erg / s\n"
     ]
    },
    {
     "name": "stdout",
     "output_type": "stream",
     "text": [
      "[\u001b[1mtardis.simulation.base\u001b[0m][\u001b[1;37mINFO\u001b[0m   ]  Plasma stratification:\n",
      "\t             t_rad    next_t_rad         w    next_w\n",
      "\tShell                                               \n",
      "\t0      9529.410632   9728.077548  0.754263  0.882123\n",
      "\t5      9817.837911   9996.107673  0.270679  0.321617\n",
      "\t10     9743.407316  10009.664332  0.162481  0.185913\n",
      "\t15     9504.601719   9770.541671  0.119547  0.136599\n",
      "\n",
      " (\u001b[1mbase.py\u001b[0m:350)\n"
     ]
    },
    {
     "name": "stderr",
     "output_type": "stream",
     "text": [
      "\u001b[1;37mINFO\u001b[0m:tardis.simulation.base:Plasma stratification:\n",
      "\t             t_rad    next_t_rad         w    next_w\n",
      "\tShell                                               \n",
      "\t0      9529.410632   9728.077548  0.754263  0.882123\n",
      "\t5      9817.837911   9996.107673  0.270679  0.321617\n",
      "\t10     9743.407316  10009.664332  0.162481  0.185913\n",
      "\t15     9504.601719   9770.541671  0.119547  0.136599\n",
      "\n",
      "\n"
     ]
    },
    {
     "name": "stdout",
     "output_type": "stream",
     "text": [
      "[\u001b[1mtardis.simulation.base\u001b[0m][\u001b[1;37mINFO\u001b[0m   ]  t_inner 10984.681 K -- next t_inner 10341.740 K (\u001b[1mbase.py\u001b[0m:352)\n"
     ]
    },
    {
     "name": "stderr",
     "output_type": "stream",
     "text": [
      "\u001b[1;37mINFO\u001b[0m:tardis.simulation.base:t_inner 10984.681 K -- next t_inner 10341.740 K\n"
     ]
    },
    {
     "name": "stdout",
     "output_type": "stream",
     "text": [
      "[\u001b[1mtardis.simulation.base\u001b[0m][\u001b[1;37mINFO\u001b[0m   ]  Starting iteration 19/20 (\u001b[1mbase.py\u001b[0m:268)\n"
     ]
    },
    {
     "name": "stderr",
     "output_type": "stream",
     "text": [
      "\u001b[1;37mINFO\u001b[0m:tardis.simulation.base:Starting iteration 19/20\n"
     ]
    },
    {
     "name": "stdout",
     "output_type": "stream",
     "text": [
      "[\u001b[1mtardis.simulation.base\u001b[0m][\u001b[1;37mINFO\u001b[0m   ]  Luminosity emitted = 9.45988e+42 erg / s Luminosity absorbed = 3.00355e+42 erg / s Luminosity requested = 1.05928e+43 erg / s (\u001b[1mbase.py\u001b[0m:359)\n"
     ]
    },
    {
     "name": "stderr",
     "output_type": "stream",
     "text": [
      "\u001b[1;37mINFO\u001b[0m:tardis.simulation.base:Luminosity emitted = 9.45988e+42 erg / s Luminosity absorbed = 3.00355e+42 erg / s Luminosity requested = 1.05928e+43 erg / s\n"
     ]
    },
    {
     "name": "stdout",
     "output_type": "stream",
     "text": [
      "[\u001b[1mtardis.simulation.base\u001b[0m][\u001b[1;37mINFO\u001b[0m   ]  Plasma stratification:\n",
      "\t              t_rad   next_t_rad         w    next_w\n",
      "\tShell                                               \n",
      "\t0       9728.077548  9523.469674  0.882123  0.763011\n",
      "\t5       9996.107673  9795.641081  0.321617  0.274433\n",
      "\t10     10009.664332  9743.486891  0.185913  0.162947\n",
      "\t15      9770.541671  9515.421119  0.136599  0.119628\n",
      "\n",
      " (\u001b[1mbase.py\u001b[0m:350)\n"
     ]
    },
    {
     "name": "stderr",
     "output_type": "stream",
     "text": [
      "\u001b[1;37mINFO\u001b[0m:tardis.simulation.base:Plasma stratification:\n",
      "\t              t_rad   next_t_rad         w    next_w\n",
      "\tShell                                               \n",
      "\t0       9728.077548  9523.469674  0.882123  0.763011\n",
      "\t5       9996.107673  9795.641081  0.321617  0.274433\n",
      "\t10     10009.664332  9743.486891  0.185913  0.162947\n",
      "\t15      9770.541671  9515.421119  0.136599  0.119628\n",
      "\n",
      "\n"
     ]
    },
    {
     "name": "stdout",
     "output_type": "stream",
     "text": [
      "[\u001b[1mtardis.simulation.base\u001b[0m][\u001b[1;37mINFO\u001b[0m   ]  t_inner 10341.740 K -- next t_inner 10943.480 K (\u001b[1mbase.py\u001b[0m:352)\n"
     ]
    },
    {
     "name": "stderr",
     "output_type": "stream",
     "text": [
      "\u001b[1;37mINFO\u001b[0m:tardis.simulation.base:t_inner 10341.740 K -- next t_inner 10943.480 K\n"
     ]
    },
    {
     "name": "stdout",
     "output_type": "stream",
     "text": [
      "[\u001b[1mtardis.simulation.base\u001b[0m][\u001b[1;37mINFO\u001b[0m   ]  Starting iteration 20/20 (\u001b[1mbase.py\u001b[0m:268)\n"
     ]
    },
    {
     "name": "stderr",
     "output_type": "stream",
     "text": [
      "\u001b[1;37mINFO\u001b[0m:tardis.simulation.base:Starting iteration 20/20\n"
     ]
    },
    {
     "name": "stdout",
     "output_type": "stream",
     "text": [
      "[\u001b[1mtardis.simulation.base\u001b[0m][\u001b[1;37mINFO\u001b[0m   ]  Luminosity emitted = 1.17641e+43 erg / s Luminosity absorbed = 3.85385e+42 erg / s Luminosity requested = 1.05928e+43 erg / s (\u001b[1mbase.py\u001b[0m:359)\n"
     ]
    },
    {
     "name": "stderr",
     "output_type": "stream",
     "text": [
      "\u001b[1;37mINFO\u001b[0m:tardis.simulation.base:Luminosity emitted = 1.17641e+43 erg / s Luminosity absorbed = 3.85385e+42 erg / s Luminosity requested = 1.05928e+43 erg / s\n"
     ]
    },
    {
     "name": "stdout",
     "output_type": "stream",
     "text": [
      "[\u001b[1mtardis.simulation.base\u001b[0m][\u001b[1;37mINFO\u001b[0m   ]  Simulation finished in 20 iterations and took 40.02 s (\u001b[1mbase.py\u001b[0m:308)\n"
     ]
    },
    {
     "name": "stderr",
     "output_type": "stream",
     "text": [
      "\u001b[1;37mINFO\u001b[0m:tardis.simulation.base:Simulation finished in 20 iterations and took 40.02 s\n"
     ]
    },
    {
     "name": "stdout",
     "output_type": "stream",
     "text": [
      "[\u001b[1mtardis.plasma.standard_plasmas\u001b[0m][\u001b[1;37mINFO\u001b[0m   ]  Reading Atomic Data from kurucz_cd23_chianti_H_He.h5 (\u001b[1mstandard_plasmas.py\u001b[0m:74)\n"
     ]
    },
    {
     "name": "stderr",
     "output_type": "stream",
     "text": [
      "\u001b[1;37mINFO\u001b[0m:tardis.plasma.standard_plasmas:Reading Atomic Data from kurucz_cd23_chianti_H_He.h5\n"
     ]
    },
    {
     "name": "stdout",
     "output_type": "stream",
     "text": [
      "[\u001b[1mtardis.io.atom_data.util\u001b[0m][\u001b[1;37mINFO\u001b[0m   ]  Atom Data kurucz_cd23_chianti_H_He.h5 not found in local path. Exists in TARDIS Data repo /home/vsts/Downloads/tardis-data/kurucz_cd23_chianti_H_He.h5 (\u001b[1mutil.py\u001b[0m:29)\n"
     ]
    },
    {
     "name": "stderr",
     "output_type": "stream",
     "text": [
      "\u001b[1;37mINFO\u001b[0m:tardis.io.atom_data.util:Atom Data kurucz_cd23_chianti_H_He.h5 not found in local path. Exists in TARDIS Data repo /home/vsts/Downloads/tardis-data/kurucz_cd23_chianti_H_He.h5\n"
     ]
    },
    {
     "name": "stdout",
     "output_type": "stream",
     "text": [
      "[\u001b[1mpy.warnings         \u001b[0m][\u001b[1;33mWARNING\u001b[0m]  /usr/share/miniconda/envs/tardis/lib/python3.6/site-packages/IPython/core/interactiveshell.py:3331: PerformanceWarning: indexing past lexsort depth may impact performance.\n",
      "  exec(code_obj, self.user_global_ns, self.user_ns)\n",
      " (\u001b[1mwarnings.py\u001b[0m:99)\n"
     ]
    },
    {
     "name": "stderr",
     "output_type": "stream",
     "text": [
      "\u001b[1;33mWARNING\u001b[0m:py.warnings:/usr/share/miniconda/envs/tardis/lib/python3.6/site-packages/IPython/core/interactiveshell.py:3331: PerformanceWarning: indexing past lexsort depth may impact performance.\n",
      "  exec(code_obj, self.user_global_ns, self.user_ns)\n",
      "\n"
     ]
    },
    {
     "name": "stdout",
     "output_type": "stream",
     "text": [
      "[\u001b[1mtardis.io.atom_data.base\u001b[0m][\u001b[1;37mINFO\u001b[0m   ]  Read Atom Data with UUID=6f7b09e887a311e7a06b246e96350010 and MD5=864f1753714343c41f99cb065710cace. (\u001b[1mbase.py\u001b[0m:184)\n"
     ]
    },
    {
     "name": "stderr",
     "output_type": "stream",
     "text": [
      "\u001b[1;37mINFO\u001b[0m:tardis.io.atom_data.base:Read Atom Data with UUID=6f7b09e887a311e7a06b246e96350010 and MD5=864f1753714343c41f99cb065710cace.\n"
     ]
    },
    {
     "name": "stdout",
     "output_type": "stream",
     "text": [
      "[\u001b[1mtardis.io.atom_data.base\u001b[0m][\u001b[1;37mINFO\u001b[0m   ]  Non provided atomic data: synpp_refs, photoionization_data (\u001b[1mbase.py\u001b[0m:187)\n"
     ]
    },
    {
     "name": "stderr",
     "output_type": "stream",
     "text": [
      "\u001b[1;37mINFO\u001b[0m:tardis.io.atom_data.base:Non provided atomic data: synpp_refs, photoionization_data\n"
     ]
    },
    {
     "name": "stdout",
     "output_type": "stream",
     "text": [
      "[\u001b[1mtardis.simulation.base\u001b[0m][\u001b[1;37mINFO\u001b[0m   ]  Starting iteration 1/20 (\u001b[1mbase.py\u001b[0m:268)\n"
     ]
    },
    {
     "name": "stderr",
     "output_type": "stream",
     "text": [
      "\u001b[1;37mINFO\u001b[0m:tardis.simulation.base:Starting iteration 1/20\n"
     ]
    },
    {
     "name": "stdout",
     "output_type": "stream",
     "text": [
      "[\u001b[1mtardis.simulation.base\u001b[0m][\u001b[1;37mINFO\u001b[0m   ]  Luminosity emitted = 7.96915e+42 erg / s Luminosity absorbed = 2.63370e+42 erg / s Luminosity requested = 1.05928e+43 erg / s (\u001b[1mbase.py\u001b[0m:359)\n"
     ]
    },
    {
     "name": "stderr",
     "output_type": "stream",
     "text": [
      "\u001b[1;37mINFO\u001b[0m:tardis.simulation.base:Luminosity emitted = 7.96915e+42 erg / s Luminosity absorbed = 2.63370e+42 erg / s Luminosity requested = 1.05928e+43 erg / s\n"
     ]
    },
    {
     "name": "stdout",
     "output_type": "stream",
     "text": [
      "[\u001b[1mtardis.simulation.base\u001b[0m][\u001b[1;37mINFO\u001b[0m   ]  Plasma stratification:\n",
      "\t             t_rad    next_t_rad         w    next_w\n",
      "\tShell                                               \n",
      "\t0      9926.501965  10171.209103  0.400392  0.500372\n",
      "\t5      9852.611678  10306.111379  0.211205  0.191331\n",
      "\t10     9779.813302  10174.379204  0.142695  0.116864\n",
      "\t15     9708.082813   9910.442275  0.104556  0.085962\n",
      "\n",
      " (\u001b[1mbase.py\u001b[0m:350)\n"
     ]
    },
    {
     "name": "stderr",
     "output_type": "stream",
     "text": [
      "\u001b[1;37mINFO\u001b[0m:tardis.simulation.base:Plasma stratification:\n",
      "\t             t_rad    next_t_rad         w    next_w\n",
      "\tShell                                               \n",
      "\t0      9926.501965  10171.209103  0.400392  0.500372\n",
      "\t5      9852.611678  10306.111379  0.211205  0.191331\n",
      "\t10     9779.813302  10174.379204  0.142695  0.116864\n",
      "\t15     9708.082813   9910.442275  0.104556  0.085962\n",
      "\n",
      "\n"
     ]
    },
    {
     "name": "stdout",
     "output_type": "stream",
     "text": [
      "[\u001b[1mtardis.simulation.base\u001b[0m][\u001b[1;37mINFO\u001b[0m   ]  t_inner 9933.952 K -- next t_inner 11453.040 K (\u001b[1mbase.py\u001b[0m:352)\n"
     ]
    },
    {
     "name": "stderr",
     "output_type": "stream",
     "text": [
      "\u001b[1;37mINFO\u001b[0m:tardis.simulation.base:t_inner 9933.952 K -- next t_inner 11453.040 K\n"
     ]
    },
    {
     "name": "stdout",
     "output_type": "stream",
     "text": [
      "[\u001b[1mtardis.simulation.base\u001b[0m][\u001b[1;37mINFO\u001b[0m   ]  Starting iteration 2/20 (\u001b[1mbase.py\u001b[0m:268)\n"
     ]
    },
    {
     "name": "stderr",
     "output_type": "stream",
     "text": [
      "\u001b[1;37mINFO\u001b[0m:tardis.simulation.base:Starting iteration 2/20\n"
     ]
    },
    {
     "name": "stdout",
     "output_type": "stream",
     "text": [
      "[\u001b[1mtardis.simulation.base\u001b[0m][\u001b[1;37mINFO\u001b[0m   ]  Luminosity emitted = 1.40398e+43 erg / s Luminosity absorbed = 4.68639e+42 erg / s Luminosity requested = 1.05928e+43 erg / s (\u001b[1mbase.py\u001b[0m:359)\n"
     ]
    },
    {
     "name": "stderr",
     "output_type": "stream",
     "text": [
      "\u001b[1;37mINFO\u001b[0m:tardis.simulation.base:Luminosity emitted = 1.40398e+43 erg / s Luminosity absorbed = 4.68639e+42 erg / s Luminosity requested = 1.05928e+43 erg / s\n"
     ]
    },
    {
     "name": "stdout",
     "output_type": "stream",
     "text": [
      "[\u001b[1mtardis.simulation.base\u001b[0m][\u001b[1;37mINFO\u001b[0m   ]  Plasma stratification:\n",
      "\t              t_rad    next_t_rad         w    next_w\n",
      "\tShell                                                \n",
      "\t0      10171.209103  11518.516702  0.500372  0.538298\n",
      "\t5      10306.111379  11554.412119  0.191331  0.217946\n",
      "\t10     10174.379204  11373.574056  0.116864  0.132935\n",
      "\t15      9910.442275  11040.788763  0.085962  0.099700\n",
      "\n",
      " (\u001b[1mbase.py\u001b[0m:350)\n"
     ]
    },
    {
     "name": "stderr",
     "output_type": "stream",
     "text": [
      "\u001b[1;37mINFO\u001b[0m:tardis.simulation.base:Plasma stratification:\n",
      "\t              t_rad    next_t_rad         w    next_w\n",
      "\tShell                                                \n",
      "\t0      10171.209103  11518.516702  0.500372  0.538298\n",
      "\t5      10306.111379  11554.412119  0.191331  0.217946\n",
      "\t10     10174.379204  11373.574056  0.116864  0.132935\n",
      "\t15      9910.442275  11040.788763  0.085962  0.099700\n",
      "\n",
      "\n"
     ]
    },
    {
     "name": "stdout",
     "output_type": "stream",
     "text": [
      "[\u001b[1mtardis.simulation.base\u001b[0m][\u001b[1;37mINFO\u001b[0m   ]  t_inner 11453.040 K -- next t_inner 9948.201 K (\u001b[1mbase.py\u001b[0m:352)\n"
     ]
    },
    {
     "name": "stderr",
     "output_type": "stream",
     "text": [
      "\u001b[1;37mINFO\u001b[0m:tardis.simulation.base:t_inner 11453.040 K -- next t_inner 9948.201 K\n"
     ]
    },
    {
     "name": "stdout",
     "output_type": "stream",
     "text": [
      "[\u001b[1mtardis.simulation.base\u001b[0m][\u001b[1;37mINFO\u001b[0m   ]  Starting iteration 3/20 (\u001b[1mbase.py\u001b[0m:268)\n"
     ]
    },
    {
     "name": "stderr",
     "output_type": "stream",
     "text": [
      "\u001b[1;37mINFO\u001b[0m:tardis.simulation.base:Starting iteration 3/20\n"
     ]
    },
    {
     "name": "stdout",
     "output_type": "stream",
     "text": [
      "[\u001b[1mtardis.simulation.base\u001b[0m][\u001b[1;37mINFO\u001b[0m   ]  Luminosity emitted = 8.16814e+42 erg / s Luminosity absorbed = 2.50161e+42 erg / s Luminosity requested = 1.05928e+43 erg / s (\u001b[1mbase.py\u001b[0m:359)\n"
     ]
    },
    {
     "name": "stderr",
     "output_type": "stream",
     "text": [
      "\u001b[1;37mINFO\u001b[0m:tardis.simulation.base:Luminosity emitted = 8.16814e+42 erg / s Luminosity absorbed = 2.50161e+42 erg / s Luminosity requested = 1.05928e+43 erg / s\n"
     ]
    },
    {
     "name": "stdout",
     "output_type": "stream",
     "text": [
      "[\u001b[1mtardis.simulation.base\u001b[0m][\u001b[1;37mINFO\u001b[0m   ]  Plasma stratification:\n",
      "\t              t_rad    next_t_rad         w    next_w\n",
      "\tShell                                                \n",
      "\t0      11518.516702  10501.129902  0.538298  0.438591\n",
      "\t5      11554.412119  10869.940791  0.217946  0.160809\n",
      "\t10     11373.574056  10558.269547  0.132935  0.103807\n",
      "\t15     11040.788763  10185.648701  0.099700  0.079165\n",
      "\n",
      " (\u001b[1mbase.py\u001b[0m:350)\n"
     ]
    },
    {
     "name": "stderr",
     "output_type": "stream",
     "text": [
      "\u001b[1;37mINFO\u001b[0m:tardis.simulation.base:Plasma stratification:\n",
      "\t              t_rad    next_t_rad         w    next_w\n",
      "\tShell                                                \n",
      "\t0      11518.516702  10501.129902  0.538298  0.438591\n",
      "\t5      11554.412119  10869.940791  0.217946  0.160809\n",
      "\t10     11373.574056  10558.269547  0.132935  0.103807\n",
      "\t15     11040.788763  10185.648701  0.099700  0.079165\n",
      "\n",
      "\n"
     ]
    },
    {
     "name": "stdout",
     "output_type": "stream",
     "text": [
      "[\u001b[1mtardis.simulation.base\u001b[0m][\u001b[1;37mINFO\u001b[0m   ]  t_inner 9948.201 K -- next t_inner 11328.896 K (\u001b[1mbase.py\u001b[0m:352)\n"
     ]
    },
    {
     "name": "stderr",
     "output_type": "stream",
     "text": [
      "\u001b[1;37mINFO\u001b[0m:tardis.simulation.base:t_inner 9948.201 K -- next t_inner 11328.896 K\n"
     ]
    },
    {
     "name": "stdout",
     "output_type": "stream",
     "text": [
      "[\u001b[1mtardis.simulation.base\u001b[0m][\u001b[1;37mINFO\u001b[0m   ]  Starting iteration 4/20 (\u001b[1mbase.py\u001b[0m:268)\n"
     ]
    },
    {
     "name": "stderr",
     "output_type": "stream",
     "text": [
      "\u001b[1;37mINFO\u001b[0m:tardis.simulation.base:Starting iteration 4/20\n"
     ]
    },
    {
     "name": "stdout",
     "output_type": "stream",
     "text": [
      "[\u001b[1mtardis.simulation.base\u001b[0m][\u001b[1;37mINFO\u001b[0m   ]  Luminosity emitted = 1.34487e+43 erg / s Luminosity absorbed = 4.47931e+42 erg / s Luminosity requested = 1.05928e+43 erg / s (\u001b[1mbase.py\u001b[0m:359)\n"
     ]
    },
    {
     "name": "stderr",
     "output_type": "stream",
     "text": [
      "\u001b[1;37mINFO\u001b[0m:tardis.simulation.base:Luminosity emitted = 1.34487e+43 erg / s Luminosity absorbed = 4.47931e+42 erg / s Luminosity requested = 1.05928e+43 erg / s\n"
     ]
    },
    {
     "name": "stdout",
     "output_type": "stream",
     "text": [
      "[\u001b[1mtardis.simulation.base\u001b[0m][\u001b[1;37mINFO\u001b[0m   ]  Plasma stratification:\n",
      "\t              t_rad    next_t_rad         w    next_w\n",
      "\tShell                                                \n",
      "\t0      10501.129902  11527.008679  0.438591  0.512509\n",
      "\t5      10869.940791  11706.138980  0.160809  0.196458\n",
      "\t10     10558.269547  11444.208532  0.103807  0.124092\n",
      "\t15     10185.648701  11085.857161  0.079165  0.093694\n",
      "\n",
      " (\u001b[1mbase.py\u001b[0m:350)\n"
     ]
    },
    {
     "name": "stderr",
     "output_type": "stream",
     "text": [
      "\u001b[1;37mINFO\u001b[0m:tardis.simulation.base:Plasma stratification:\n",
      "\t              t_rad    next_t_rad         w    next_w\n",
      "\tShell                                                \n",
      "\t0      10501.129902  11527.008679  0.438591  0.512509\n",
      "\t5      10869.940791  11706.138980  0.160809  0.196458\n",
      "\t10     10558.269547  11444.208532  0.103807  0.124092\n",
      "\t15     10185.648701  11085.857161  0.079165  0.093694\n",
      "\n",
      "\n"
     ]
    },
    {
     "name": "stdout",
     "output_type": "stream",
     "text": [
      "[\u001b[1mtardis.simulation.base\u001b[0m][\u001b[1;37mINFO\u001b[0m   ]  t_inner 11328.896 K -- next t_inner 10054.300 K (\u001b[1mbase.py\u001b[0m:352)\n"
     ]
    },
    {
     "name": "stderr",
     "output_type": "stream",
     "text": [
      "\u001b[1;37mINFO\u001b[0m:tardis.simulation.base:t_inner 11328.896 K -- next t_inner 10054.300 K\n"
     ]
    },
    {
     "name": "stdout",
     "output_type": "stream",
     "text": [
      "[\u001b[1mtardis.simulation.base\u001b[0m][\u001b[1;37mINFO\u001b[0m   ]  Starting iteration 5/20 (\u001b[1mbase.py\u001b[0m:268)\n"
     ]
    },
    {
     "name": "stderr",
     "output_type": "stream",
     "text": [
      "\u001b[1;37mINFO\u001b[0m:tardis.simulation.base:Starting iteration 5/20\n"
     ]
    },
    {
     "name": "stdout",
     "output_type": "stream",
     "text": [
      "[\u001b[1mtardis.simulation.base\u001b[0m][\u001b[1;37mINFO\u001b[0m   ]  Luminosity emitted = 8.44348e+42 erg / s Luminosity absorbed = 2.68000e+42 erg / s Luminosity requested = 1.05928e+43 erg / s (\u001b[1mbase.py\u001b[0m:359)\n"
     ]
    },
    {
     "name": "stderr",
     "output_type": "stream",
     "text": [
      "\u001b[1;37mINFO\u001b[0m:tardis.simulation.base:Luminosity emitted = 8.44348e+42 erg / s Luminosity absorbed = 2.68000e+42 erg / s Luminosity requested = 1.05928e+43 erg / s\n"
     ]
    },
    {
     "name": "stdout",
     "output_type": "stream",
     "text": [
      "[\u001b[1mtardis.simulation.base\u001b[0m][\u001b[1;37mINFO\u001b[0m   ]  Plasma stratification:\n",
      "\t              t_rad    next_t_rad         w    next_w\n",
      "\tShell                                                \n",
      "\t0      11527.008679  10659.382763  0.512509  0.433573\n",
      "\t5      11706.138980  11038.244897  0.196458  0.158494\n",
      "\t10     11444.208532  10790.696726  0.124092  0.099660\n",
      "\t15     11085.857161  10450.666394  0.093694  0.074550\n",
      "\n",
      " (\u001b[1mbase.py\u001b[0m:350)\n"
     ]
    },
    {
     "name": "stderr",
     "output_type": "stream",
     "text": [
      "\u001b[1;37mINFO\u001b[0m:tardis.simulation.base:Plasma stratification:\n",
      "\t              t_rad    next_t_rad         w    next_w\n",
      "\tShell                                                \n",
      "\t0      11527.008679  10659.382763  0.512509  0.433573\n",
      "\t5      11706.138980  11038.244897  0.196458  0.158494\n",
      "\t10     11444.208532  10790.696726  0.124092  0.099660\n",
      "\t15     11085.857161  10450.666394  0.093694  0.074550\n",
      "\n",
      "\n"
     ]
    },
    {
     "name": "stdout",
     "output_type": "stream",
     "text": [
      "[\u001b[1mtardis.simulation.base\u001b[0m][\u001b[1;37mINFO\u001b[0m   ]  t_inner 10054.300 K -- next t_inner 11261.489 K (\u001b[1mbase.py\u001b[0m:352)\n"
     ]
    },
    {
     "name": "stderr",
     "output_type": "stream",
     "text": [
      "\u001b[1;37mINFO\u001b[0m:tardis.simulation.base:t_inner 10054.300 K -- next t_inner 11261.489 K\n"
     ]
    },
    {
     "name": "stdout",
     "output_type": "stream",
     "text": [
      "[\u001b[1mtardis.simulation.base\u001b[0m][\u001b[1;37mINFO\u001b[0m   ]  Starting iteration 6/20 (\u001b[1mbase.py\u001b[0m:268)\n"
     ]
    },
    {
     "name": "stderr",
     "output_type": "stream",
     "text": [
      "\u001b[1;37mINFO\u001b[0m:tardis.simulation.base:Starting iteration 6/20\n"
     ]
    },
    {
     "name": "stdout",
     "output_type": "stream",
     "text": [
      "[\u001b[1mtardis.simulation.base\u001b[0m][\u001b[1;37mINFO\u001b[0m   ]  Luminosity emitted = 1.32492e+43 erg / s Luminosity absorbed = 4.26229e+42 erg / s Luminosity requested = 1.05928e+43 erg / s (\u001b[1mbase.py\u001b[0m:359)\n"
     ]
    },
    {
     "name": "stderr",
     "output_type": "stream",
     "text": [
      "\u001b[1;37mINFO\u001b[0m:tardis.simulation.base:Luminosity emitted = 1.32492e+43 erg / s Luminosity absorbed = 4.26229e+42 erg / s Luminosity requested = 1.05928e+43 erg / s\n"
     ]
    },
    {
     "name": "stdout",
     "output_type": "stream",
     "text": [
      "[\u001b[1mtardis.simulation.base\u001b[0m][\u001b[1;37mINFO\u001b[0m   ]  Plasma stratification:\n",
      "\t              t_rad    next_t_rad         w    next_w\n",
      "\tShell                                                \n",
      "\t0      10659.382763  11507.437689  0.433573  0.499441\n",
      "\t5      11038.244897  11634.568776  0.158494  0.197953\n",
      "\t10     10790.696726  11418.594559  0.099660  0.124085\n",
      "\t15     10450.666394  10999.619473  0.074550  0.094676\n",
      "\n",
      " (\u001b[1mbase.py\u001b[0m:350)\n"
     ]
    },
    {
     "name": "stderr",
     "output_type": "stream",
     "text": [
      "\u001b[1;37mINFO\u001b[0m:tardis.simulation.base:Plasma stratification:\n",
      "\t              t_rad    next_t_rad         w    next_w\n",
      "\tShell                                                \n",
      "\t0      10659.382763  11507.437689  0.433573  0.499441\n",
      "\t5      11038.244897  11634.568776  0.158494  0.197953\n",
      "\t10     10790.696726  11418.594559  0.099660  0.124085\n",
      "\t15     10450.666394  10999.619473  0.074550  0.094676\n",
      "\n",
      "\n"
     ]
    },
    {
     "name": "stdout",
     "output_type": "stream",
     "text": [
      "[\u001b[1mtardis.simulation.base\u001b[0m][\u001b[1;37mINFO\u001b[0m   ]  t_inner 11261.489 K -- next t_inner 10069.444 K (\u001b[1mbase.py\u001b[0m:352)\n"
     ]
    },
    {
     "name": "stderr",
     "output_type": "stream",
     "text": [
      "\u001b[1;37mINFO\u001b[0m:tardis.simulation.base:t_inner 11261.489 K -- next t_inner 10069.444 K\n"
     ]
    },
    {
     "name": "stdout",
     "output_type": "stream",
     "text": [
      "[\u001b[1mtardis.simulation.base\u001b[0m][\u001b[1;37mINFO\u001b[0m   ]  Starting iteration 7/20 (\u001b[1mbase.py\u001b[0m:268)\n"
     ]
    },
    {
     "name": "stderr",
     "output_type": "stream",
     "text": [
      "\u001b[1;37mINFO\u001b[0m:tardis.simulation.base:Starting iteration 7/20\n"
     ]
    },
    {
     "name": "stdout",
     "output_type": "stream",
     "text": [
      "[\u001b[1mtardis.simulation.base\u001b[0m][\u001b[1;37mINFO\u001b[0m   ]  Luminosity emitted = 8.49858e+42 erg / s Luminosity absorbed = 2.69247e+42 erg / s Luminosity requested = 1.05928e+43 erg / s (\u001b[1mbase.py\u001b[0m:359)\n"
     ]
    },
    {
     "name": "stderr",
     "output_type": "stream",
     "text": [
      "\u001b[1;37mINFO\u001b[0m:tardis.simulation.base:Luminosity emitted = 8.49858e+42 erg / s Luminosity absorbed = 2.69247e+42 erg / s Luminosity requested = 1.05928e+43 erg / s\n"
     ]
    },
    {
     "name": "stdout",
     "output_type": "stream",
     "text": [
      "[\u001b[1mtardis.simulation.base\u001b[0m][\u001b[1;37mINFO\u001b[0m   ]  Plasma stratification:\n",
      "\t              t_rad    next_t_rad         w    next_w\n",
      "\tShell                                                \n",
      "\t0      11507.437689  10679.650246  0.499441  0.431088\n",
      "\t5      11634.568776  11048.266431  0.197953  0.157179\n",
      "\t10     11418.594559  10825.714870  0.124085  0.098608\n",
      "\t15     10999.619473  10506.321595  0.094676  0.073794\n",
      "\n",
      " (\u001b[1mbase.py\u001b[0m:350)\n"
     ]
    },
    {
     "name": "stderr",
     "output_type": "stream",
     "text": [
      "\u001b[1;37mINFO\u001b[0m:tardis.simulation.base:Plasma stratification:\n",
      "\t              t_rad    next_t_rad         w    next_w\n",
      "\tShell                                                \n",
      "\t0      11507.437689  10679.650246  0.499441  0.431088\n",
      "\t5      11634.568776  11048.266431  0.197953  0.157179\n",
      "\t10     11418.594559  10825.714870  0.124085  0.098608\n",
      "\t15     10999.619473  10506.321595  0.094676  0.073794\n",
      "\n",
      "\n"
     ]
    },
    {
     "name": "stdout",
     "output_type": "stream",
     "text": [
      "[\u001b[1mtardis.simulation.base\u001b[0m][\u001b[1;37mINFO\u001b[0m   ]  t_inner 10069.444 K -- next t_inner 11241.826 K (\u001b[1mbase.py\u001b[0m:352)\n"
     ]
    },
    {
     "name": "stderr",
     "output_type": "stream",
     "text": [
      "\u001b[1;37mINFO\u001b[0m:tardis.simulation.base:t_inner 10069.444 K -- next t_inner 11241.826 K\n"
     ]
    },
    {
     "name": "stdout",
     "output_type": "stream",
     "text": [
      "[\u001b[1mtardis.simulation.base\u001b[0m][\u001b[1;37mINFO\u001b[0m   ]  Starting iteration 8/20 (\u001b[1mbase.py\u001b[0m:268)\n"
     ]
    },
    {
     "name": "stderr",
     "output_type": "stream",
     "text": [
      "\u001b[1;37mINFO\u001b[0m:tardis.simulation.base:Starting iteration 8/20\n"
     ]
    },
    {
     "name": "stdout",
     "output_type": "stream",
     "text": [
      "[\u001b[1mtardis.simulation.base\u001b[0m][\u001b[1;37mINFO\u001b[0m   ]  Luminosity emitted = 1.30632e+43 erg / s Luminosity absorbed = 4.31719e+42 erg / s Luminosity requested = 1.05928e+43 erg / s (\u001b[1mbase.py\u001b[0m:359)\n"
     ]
    },
    {
     "name": "stderr",
     "output_type": "stream",
     "text": [
      "\u001b[1;37mINFO\u001b[0m:tardis.simulation.base:Luminosity emitted = 1.30632e+43 erg / s Luminosity absorbed = 4.31719e+42 erg / s Luminosity requested = 1.05928e+43 erg / s\n"
     ]
    },
    {
     "name": "stdout",
     "output_type": "stream",
     "text": [
      "[\u001b[1mtardis.simulation.base\u001b[0m][\u001b[1;37mINFO\u001b[0m   ]  Plasma stratification:\n",
      "\t              t_rad    next_t_rad         w    next_w\n",
      "\tShell                                                \n",
      "\t0      10679.650246  11459.828312  0.431088  0.506176\n",
      "\t5      11048.266431  11688.139012  0.157179  0.193468\n",
      "\t10     10825.714870  11441.768967  0.098608  0.122412\n",
      "\t15     10506.321595  11099.449886  0.073794  0.090915\n",
      "\n",
      " (\u001b[1mbase.py\u001b[0m:350)\n"
     ]
    },
    {
     "name": "stderr",
     "output_type": "stream",
     "text": [
      "\u001b[1;37mINFO\u001b[0m:tardis.simulation.base:Plasma stratification:\n",
      "\t              t_rad    next_t_rad         w    next_w\n",
      "\tShell                                                \n",
      "\t0      10679.650246  11459.828312  0.431088  0.506176\n",
      "\t5      11048.266431  11688.139012  0.157179  0.193468\n",
      "\t10     10825.714870  11441.768967  0.098608  0.122412\n",
      "\t15     10506.321595  11099.449886  0.073794  0.090915\n",
      "\n",
      "\n"
     ]
    },
    {
     "name": "stdout",
     "output_type": "stream",
     "text": [
      "[\u001b[1mtardis.simulation.base\u001b[0m][\u001b[1;37mINFO\u001b[0m   ]  t_inner 11241.826 K -- next t_inner 10123.177 K (\u001b[1mbase.py\u001b[0m:352)\n"
     ]
    },
    {
     "name": "stderr",
     "output_type": "stream",
     "text": [
      "\u001b[1;37mINFO\u001b[0m:tardis.simulation.base:t_inner 11241.826 K -- next t_inner 10123.177 K\n"
     ]
    },
    {
     "name": "stdout",
     "output_type": "stream",
     "text": [
      "[\u001b[1mtardis.simulation.base\u001b[0m][\u001b[1;37mINFO\u001b[0m   ]  Starting iteration 9/20 (\u001b[1mbase.py\u001b[0m:268)\n"
     ]
    },
    {
     "name": "stderr",
     "output_type": "stream",
     "text": [
      "\u001b[1;37mINFO\u001b[0m:tardis.simulation.base:Starting iteration 9/20\n"
     ]
    },
    {
     "name": "stdout",
     "output_type": "stream",
     "text": [
      "[\u001b[1mtardis.simulation.base\u001b[0m][\u001b[1;37mINFO\u001b[0m   ]  Luminosity emitted = 8.68357e+42 erg / s Luminosity absorbed = 2.75015e+42 erg / s Luminosity requested = 1.05928e+43 erg / s (\u001b[1mbase.py\u001b[0m:359)\n"
     ]
    },
    {
     "name": "stderr",
     "output_type": "stream",
     "text": [
      "\u001b[1;37mINFO\u001b[0m:tardis.simulation.base:Luminosity emitted = 8.68357e+42 erg / s Luminosity absorbed = 2.75015e+42 erg / s Luminosity requested = 1.05928e+43 erg / s\n"
     ]
    },
    {
     "name": "stdout",
     "output_type": "stream",
     "text": [
      "[\u001b[1mtardis.simulation.base\u001b[0m][\u001b[1;37mINFO\u001b[0m   ]  Plasma stratification:\n",
      "\t              t_rad    next_t_rad         w    next_w\n",
      "\tShell                                                \n",
      "\t0      11459.828312  10666.223660  0.506176  0.445097\n",
      "\t5      11688.139012  11000.288585  0.193468  0.163424\n",
      "\t10     11441.768967  10822.884326  0.122412  0.101641\n",
      "\t15     11099.449886  10384.181273  0.090915  0.078432\n",
      "\n",
      " (\u001b[1mbase.py\u001b[0m:350)\n"
     ]
    },
    {
     "name": "stderr",
     "output_type": "stream",
     "text": [
      "\u001b[1;37mINFO\u001b[0m:tardis.simulation.base:Plasma stratification:\n",
      "\t              t_rad    next_t_rad         w    next_w\n",
      "\tShell                                                \n",
      "\t0      11459.828312  10666.223660  0.506176  0.445097\n",
      "\t5      11688.139012  11000.288585  0.193468  0.163424\n",
      "\t10     11441.768967  10822.884326  0.122412  0.101641\n",
      "\t15     11099.449886  10384.181273  0.090915  0.078432\n",
      "\n",
      "\n"
     ]
    },
    {
     "name": "stdout",
     "output_type": "stream",
     "text": [
      "[\u001b[1mtardis.simulation.base\u001b[0m][\u001b[1;37mINFO\u001b[0m   ]  t_inner 10123.177 K -- next t_inner 11180.783 K (\u001b[1mbase.py\u001b[0m:352)\n"
     ]
    },
    {
     "name": "stderr",
     "output_type": "stream",
     "text": [
      "\u001b[1;37mINFO\u001b[0m:tardis.simulation.base:t_inner 10123.177 K -- next t_inner 11180.783 K\n"
     ]
    },
    {
     "name": "stdout",
     "output_type": "stream",
     "text": [
      "[\u001b[1mtardis.simulation.base\u001b[0m][\u001b[1;37mINFO\u001b[0m   ]  Starting iteration 10/20 (\u001b[1mbase.py\u001b[0m:268)\n"
     ]
    },
    {
     "name": "stderr",
     "output_type": "stream",
     "text": [
      "\u001b[1;37mINFO\u001b[0m:tardis.simulation.base:Starting iteration 10/20\n"
     ]
    },
    {
     "name": "stdout",
     "output_type": "stream",
     "text": [
      "[\u001b[1mtardis.simulation.base\u001b[0m][\u001b[1;37mINFO\u001b[0m   ]  Luminosity emitted = 1.28170e+43 erg / s Luminosity absorbed = 4.19511e+42 erg / s Luminosity requested = 1.05928e+43 erg / s (\u001b[1mbase.py\u001b[0m:359)\n"
     ]
    },
    {
     "name": "stderr",
     "output_type": "stream",
     "text": [
      "\u001b[1;37mINFO\u001b[0m:tardis.simulation.base:Luminosity emitted = 1.28170e+43 erg / s Luminosity absorbed = 4.19511e+42 erg / s Luminosity requested = 1.05928e+43 erg / s\n"
     ]
    },
    {
     "name": "stdout",
     "output_type": "stream",
     "text": [
      "[\u001b[1mtardis.simulation.base\u001b[0m][\u001b[1;37mINFO\u001b[0m   ]  Plasma stratification:\n",
      "\t              t_rad    next_t_rad         w    next_w\n",
      "\tShell                                                \n",
      "\t0      10666.223660  11427.410445  0.445097  0.500788\n",
      "\t5      11000.288585  11612.349822  0.163424  0.193129\n",
      "\t10     10822.884326  11373.245169  0.101641  0.121622\n",
      "\t15     10384.181273  11047.955461  0.078432  0.090937\n",
      "\n",
      " (\u001b[1mbase.py\u001b[0m:350)\n"
     ]
    },
    {
     "name": "stderr",
     "output_type": "stream",
     "text": [
      "\u001b[1;37mINFO\u001b[0m:tardis.simulation.base:Plasma stratification:\n",
      "\t              t_rad    next_t_rad         w    next_w\n",
      "\tShell                                                \n",
      "\t0      10666.223660  11427.410445  0.445097  0.500788\n",
      "\t5      11000.288585  11612.349822  0.163424  0.193129\n",
      "\t10     10822.884326  11373.245169  0.101641  0.121622\n",
      "\t15     10384.181273  11047.955461  0.078432  0.090937\n",
      "\n",
      "\n"
     ]
    },
    {
     "name": "stdout",
     "output_type": "stream",
     "text": [
      "[\u001b[1mtardis.simulation.base\u001b[0m][\u001b[1;37mINFO\u001b[0m   ]  t_inner 11180.783 K -- next t_inner 10164.432 K (\u001b[1mbase.py\u001b[0m:352)\n"
     ]
    },
    {
     "name": "stderr",
     "output_type": "stream",
     "text": [
      "\u001b[1;37mINFO\u001b[0m:tardis.simulation.base:t_inner 11180.783 K -- next t_inner 10164.432 K\n"
     ]
    },
    {
     "name": "stdout",
     "output_type": "stream",
     "text": [
      "[\u001b[1mtardis.simulation.base\u001b[0m][\u001b[1;37mINFO\u001b[0m   ]  Starting iteration 11/20 (\u001b[1mbase.py\u001b[0m:268)\n"
     ]
    },
    {
     "name": "stderr",
     "output_type": "stream",
     "text": [
      "\u001b[1;37mINFO\u001b[0m:tardis.simulation.base:Starting iteration 11/20\n"
     ]
    },
    {
     "name": "stdout",
     "output_type": "stream",
     "text": [
      "[\u001b[1mtardis.simulation.base\u001b[0m][\u001b[1;37mINFO\u001b[0m   ]  Luminosity emitted = 8.79074e+42 erg / s Luminosity absorbed = 2.82804e+42 erg / s Luminosity requested = 1.05928e+43 erg / s (\u001b[1mbase.py\u001b[0m:359)\n"
     ]
    },
    {
     "name": "stderr",
     "output_type": "stream",
     "text": [
      "\u001b[1;37mINFO\u001b[0m:tardis.simulation.base:Luminosity emitted = 8.79074e+42 erg / s Luminosity absorbed = 2.82804e+42 erg / s Luminosity requested = 1.05928e+43 erg / s\n"
     ]
    },
    {
     "name": "stdout",
     "output_type": "stream",
     "text": [
      "[\u001b[1mtardis.simulation.base\u001b[0m][\u001b[1;37mINFO\u001b[0m   ]  Plasma stratification:\n",
      "\t              t_rad    next_t_rad         w    next_w\n",
      "\tShell                                                \n",
      "\t0      11427.410445  10741.337822  0.500788  0.439938\n",
      "\t5      11612.349822  11230.515356  0.193129  0.153637\n",
      "\t10     11373.245169  10870.696315  0.121622  0.101050\n",
      "\t15     11047.955461  10538.170159  0.090937  0.074680\n",
      "\n",
      " (\u001b[1mbase.py\u001b[0m:350)\n"
     ]
    },
    {
     "name": "stderr",
     "output_type": "stream",
     "text": [
      "\u001b[1;37mINFO\u001b[0m:tardis.simulation.base:Plasma stratification:\n",
      "\t              t_rad    next_t_rad         w    next_w\n",
      "\tShell                                                \n",
      "\t0      11427.410445  10741.337822  0.500788  0.439938\n",
      "\t5      11612.349822  11230.515356  0.193129  0.153637\n",
      "\t10     11373.245169  10870.696315  0.121622  0.101050\n",
      "\t15     11047.955461  10538.170159  0.090937  0.074680\n",
      "\n",
      "\n"
     ]
    },
    {
     "name": "stdout",
     "output_type": "stream",
     "text": [
      "[\u001b[1mtardis.simulation.base\u001b[0m][\u001b[1;37mINFO\u001b[0m   ]  t_inner 10164.432 K -- next t_inner 11157.711 K (\u001b[1mbase.py\u001b[0m:352)\n"
     ]
    },
    {
     "name": "stderr",
     "output_type": "stream",
     "text": [
      "\u001b[1;37mINFO\u001b[0m:tardis.simulation.base:t_inner 10164.432 K -- next t_inner 11157.711 K\n"
     ]
    },
    {
     "name": "stdout",
     "output_type": "stream",
     "text": [
      "[\u001b[1mtardis.simulation.base\u001b[0m][\u001b[1;37mINFO\u001b[0m   ]  Starting iteration 12/20 (\u001b[1mbase.py\u001b[0m:268)\n"
     ]
    },
    {
     "name": "stderr",
     "output_type": "stream",
     "text": [
      "\u001b[1;37mINFO\u001b[0m:tardis.simulation.base:Starting iteration 12/20\n"
     ]
    },
    {
     "name": "stdout",
     "output_type": "stream",
     "text": [
      "[\u001b[1mtardis.simulation.base\u001b[0m][\u001b[1;37mINFO\u001b[0m   ]  Luminosity emitted = 1.27128e+43 erg / s Luminosity absorbed = 4.15415e+42 erg / s Luminosity requested = 1.05928e+43 erg / s (\u001b[1mbase.py\u001b[0m:359)\n"
     ]
    },
    {
     "name": "stderr",
     "output_type": "stream",
     "text": [
      "\u001b[1;37mINFO\u001b[0m:tardis.simulation.base:Luminosity emitted = 1.27128e+43 erg / s Luminosity absorbed = 4.15415e+42 erg / s Luminosity requested = 1.05928e+43 erg / s\n"
     ]
    },
    {
     "name": "stdout",
     "output_type": "stream",
     "text": [
      "[\u001b[1mtardis.simulation.base\u001b[0m][\u001b[1;37mINFO\u001b[0m   ]  Plasma stratification:\n",
      "\t              t_rad    next_t_rad         w    next_w\n",
      "\tShell                                                \n",
      "\t0      10741.337822  11507.877578  0.439938  0.483114\n",
      "\t5      11230.515356  11808.852053  0.153637  0.181826\n",
      "\t10     10870.696315  11557.412757  0.101050  0.113563\n",
      "\t15     10538.170159  11117.762050  0.074680  0.087418\n",
      "\n",
      " (\u001b[1mbase.py\u001b[0m:350)\n"
     ]
    },
    {
     "name": "stderr",
     "output_type": "stream",
     "text": [
      "\u001b[1;37mINFO\u001b[0m:tardis.simulation.base:Plasma stratification:\n",
      "\t              t_rad    next_t_rad         w    next_w\n",
      "\tShell                                                \n",
      "\t0      10741.337822  11507.877578  0.439938  0.483114\n",
      "\t5      11230.515356  11808.852053  0.153637  0.181826\n",
      "\t10     10870.696315  11557.412757  0.101050  0.113563\n",
      "\t15     10538.170159  11117.762050  0.074680  0.087418\n",
      "\n",
      "\n"
     ]
    },
    {
     "name": "stdout",
     "output_type": "stream",
     "text": [
      "[\u001b[1mtardis.simulation.base\u001b[0m][\u001b[1;37mINFO\u001b[0m   ]  t_inner 11157.711 K -- next t_inner 10184.966 K (\u001b[1mbase.py\u001b[0m:352)\n"
     ]
    },
    {
     "name": "stderr",
     "output_type": "stream",
     "text": [
      "\u001b[1;37mINFO\u001b[0m:tardis.simulation.base:t_inner 11157.711 K -- next t_inner 10184.966 K\n"
     ]
    },
    {
     "name": "stdout",
     "output_type": "stream",
     "text": [
      "[\u001b[1mtardis.simulation.base\u001b[0m][\u001b[1;37mINFO\u001b[0m   ]  Starting iteration 13/20 (\u001b[1mbase.py\u001b[0m:268)\n"
     ]
    },
    {
     "name": "stderr",
     "output_type": "stream",
     "text": [
      "\u001b[1;37mINFO\u001b[0m:tardis.simulation.base:Starting iteration 13/20\n"
     ]
    },
    {
     "name": "stdout",
     "output_type": "stream",
     "text": [
      "[\u001b[1mtardis.simulation.base\u001b[0m][\u001b[1;37mINFO\u001b[0m   ]  Luminosity emitted = 8.90399e+42 erg / s Luminosity absorbed = 2.80864e+42 erg / s Luminosity requested = 1.05928e+43 erg / s (\u001b[1mbase.py\u001b[0m:359)\n"
     ]
    },
    {
     "name": "stderr",
     "output_type": "stream",
     "text": [
      "\u001b[1;37mINFO\u001b[0m:tardis.simulation.base:Luminosity emitted = 8.90399e+42 erg / s Luminosity absorbed = 2.80864e+42 erg / s Luminosity requested = 1.05928e+43 erg / s\n"
     ]
    },
    {
     "name": "stdout",
     "output_type": "stream",
     "text": [
      "[\u001b[1mtardis.simulation.base\u001b[0m][\u001b[1;37mINFO\u001b[0m   ]  Plasma stratification:\n",
      "\t              t_rad    next_t_rad         w    next_w\n",
      "\tShell                                                \n",
      "\t0      11507.877578  10727.217531  0.483114  0.443706\n",
      "\t5      11808.852053  11171.758889  0.181826  0.160824\n",
      "\t10     11557.412757  10971.722637  0.113563  0.098588\n",
      "\t15     11117.762050  10574.916600  0.087418  0.075266\n",
      "\n",
      " (\u001b[1mbase.py\u001b[0m:350)\n"
     ]
    },
    {
     "name": "stderr",
     "output_type": "stream",
     "text": [
      "\u001b[1;37mINFO\u001b[0m:tardis.simulation.base:Plasma stratification:\n",
      "\t              t_rad    next_t_rad         w    next_w\n",
      "\tShell                                                \n",
      "\t0      11507.877578  10727.217531  0.483114  0.443706\n",
      "\t5      11808.852053  11171.758889  0.181826  0.160824\n",
      "\t10     11557.412757  10971.722637  0.113563  0.098588\n",
      "\t15     11117.762050  10574.916600  0.087418  0.075266\n",
      "\n",
      "\n"
     ]
    },
    {
     "name": "stdout",
     "output_type": "stream",
     "text": [
      "[\u001b[1mtardis.simulation.base\u001b[0m][\u001b[1;37mINFO\u001b[0m   ]  t_inner 10184.966 K -- next t_inner 11108.923 K (\u001b[1mbase.py\u001b[0m:352)\n"
     ]
    },
    {
     "name": "stderr",
     "output_type": "stream",
     "text": [
      "\u001b[1;37mINFO\u001b[0m:tardis.simulation.base:t_inner 10184.966 K -- next t_inner 11108.923 K\n"
     ]
    },
    {
     "name": "stdout",
     "output_type": "stream",
     "text": [
      "[\u001b[1mtardis.simulation.base\u001b[0m][\u001b[1;37mINFO\u001b[0m   ]  Starting iteration 14/20 (\u001b[1mbase.py\u001b[0m:268)\n"
     ]
    },
    {
     "name": "stderr",
     "output_type": "stream",
     "text": [
      "\u001b[1;37mINFO\u001b[0m:tardis.simulation.base:Starting iteration 14/20\n"
     ]
    },
    {
     "name": "stdout",
     "output_type": "stream",
     "text": [
      "[\u001b[1mtardis.simulation.base\u001b[0m][\u001b[1;37mINFO\u001b[0m   ]  Luminosity emitted = 1.25052e+43 erg / s Luminosity absorbed = 4.07335e+42 erg / s Luminosity requested = 1.05928e+43 erg / s (\u001b[1mbase.py\u001b[0m:359)\n"
     ]
    },
    {
     "name": "stderr",
     "output_type": "stream",
     "text": [
      "\u001b[1;37mINFO\u001b[0m:tardis.simulation.base:Luminosity emitted = 1.25052e+43 erg / s Luminosity absorbed = 4.07335e+42 erg / s Luminosity requested = 1.05928e+43 erg / s\n"
     ]
    },
    {
     "name": "stdout",
     "output_type": "stream",
     "text": [
      "[\u001b[1mtardis.simulation.base\u001b[0m][\u001b[1;37mINFO\u001b[0m   ]  Plasma stratification:\n",
      "\t              t_rad    next_t_rad         w    next_w\n",
      "\tShell                                                \n",
      "\t0      10727.217531  11413.626870  0.443706  0.489526\n",
      "\t5      11171.758889  11697.006992  0.160824  0.184795\n",
      "\t10     10971.722637  11424.445844  0.098588  0.116722\n",
      "\t15     10574.916600  11047.434163  0.075266  0.088067\n",
      "\n",
      " (\u001b[1mbase.py\u001b[0m:350)\n"
     ]
    },
    {
     "name": "stderr",
     "output_type": "stream",
     "text": [
      "\u001b[1;37mINFO\u001b[0m:tardis.simulation.base:Plasma stratification:\n",
      "\t              t_rad    next_t_rad         w    next_w\n",
      "\tShell                                                \n",
      "\t0      10727.217531  11413.626870  0.443706  0.489526\n",
      "\t5      11171.758889  11697.006992  0.160824  0.184795\n",
      "\t10     10971.722637  11424.445844  0.098588  0.116722\n",
      "\t15     10574.916600  11047.434163  0.075266  0.088067\n",
      "\n",
      "\n"
     ]
    },
    {
     "name": "stdout",
     "output_type": "stream",
     "text": [
      "[\u001b[1mtardis.simulation.base\u001b[0m][\u001b[1;37mINFO\u001b[0m   ]  t_inner 11108.923 K -- next t_inner 10224.266 K (\u001b[1mbase.py\u001b[0m:352)\n"
     ]
    },
    {
     "name": "stderr",
     "output_type": "stream",
     "text": [
      "\u001b[1;37mINFO\u001b[0m:tardis.simulation.base:t_inner 11108.923 K -- next t_inner 10224.266 K\n"
     ]
    },
    {
     "name": "stdout",
     "output_type": "stream",
     "text": [
      "[\u001b[1mtardis.simulation.base\u001b[0m][\u001b[1;37mINFO\u001b[0m   ]  Starting iteration 15/20 (\u001b[1mbase.py\u001b[0m:268)\n"
     ]
    },
    {
     "name": "stderr",
     "output_type": "stream",
     "text": [
      "\u001b[1;37mINFO\u001b[0m:tardis.simulation.base:Starting iteration 15/20\n"
     ]
    },
    {
     "name": "stdout",
     "output_type": "stream",
     "text": [
      "[\u001b[1mtardis.simulation.base\u001b[0m][\u001b[1;37mINFO\u001b[0m   ]  Luminosity emitted = 9.00727e+42 erg / s Luminosity absorbed = 2.88724e+42 erg / s Luminosity requested = 1.05928e+43 erg / s (\u001b[1mbase.py\u001b[0m:359)\n"
     ]
    },
    {
     "name": "stderr",
     "output_type": "stream",
     "text": [
      "\u001b[1;37mINFO\u001b[0m:tardis.simulation.base:Luminosity emitted = 9.00727e+42 erg / s Luminosity absorbed = 2.88724e+42 erg / s Luminosity requested = 1.05928e+43 erg / s\n"
     ]
    },
    {
     "name": "stdout",
     "output_type": "stream",
     "text": [
      "[\u001b[1mtardis.simulation.base\u001b[0m][\u001b[1;37mINFO\u001b[0m   ]  Plasma stratification:\n",
      "\t              t_rad    next_t_rad         w    next_w\n",
      "\tShell                                                \n",
      "\t0      11413.626870  10712.622749  0.489526  0.455660\n",
      "\t5      11697.006992  11125.894032  0.184795  0.164091\n",
      "\t10     11424.445844  10816.390451  0.116722  0.104037\n",
      "\t15     11047.434163  10421.687097  0.088067  0.080401\n",
      "\n",
      " (\u001b[1mbase.py\u001b[0m:350)\n"
     ]
    },
    {
     "name": "stderr",
     "output_type": "stream",
     "text": [
      "\u001b[1;37mINFO\u001b[0m:tardis.simulation.base:Plasma stratification:\n",
      "\t              t_rad    next_t_rad         w    next_w\n",
      "\tShell                                                \n",
      "\t0      11413.626870  10712.622749  0.489526  0.455660\n",
      "\t5      11697.006992  11125.894032  0.184795  0.164091\n",
      "\t10     11424.445844  10816.390451  0.116722  0.104037\n",
      "\t15     11047.434163  10421.687097  0.088067  0.080401\n",
      "\n",
      "\n"
     ]
    },
    {
     "name": "stdout",
     "output_type": "stream",
     "text": [
      "[\u001b[1mtardis.simulation.base\u001b[0m][\u001b[1;37mINFO\u001b[0m   ]  t_inner 10224.266 K -- next t_inner 11087.666 K (\u001b[1mbase.py\u001b[0m:352)\n"
     ]
    },
    {
     "name": "stderr",
     "output_type": "stream",
     "text": [
      "\u001b[1;37mINFO\u001b[0m:tardis.simulation.base:t_inner 10224.266 K -- next t_inner 11087.666 K\n"
     ]
    },
    {
     "name": "stdout",
     "output_type": "stream",
     "text": [
      "[\u001b[1mtardis.simulation.base\u001b[0m][\u001b[1;37mINFO\u001b[0m   ]  Starting iteration 16/20 (\u001b[1mbase.py\u001b[0m:268)\n"
     ]
    },
    {
     "name": "stderr",
     "output_type": "stream",
     "text": [
      "\u001b[1;37mINFO\u001b[0m:tardis.simulation.base:Starting iteration 16/20\n"
     ]
    },
    {
     "name": "stdout",
     "output_type": "stream",
     "text": [
      "[\u001b[1mtardis.simulation.base\u001b[0m][\u001b[1;37mINFO\u001b[0m   ]  Luminosity emitted = 1.23781e+43 erg / s Luminosity absorbed = 4.07435e+42 erg / s Luminosity requested = 1.05928e+43 erg / s (\u001b[1mbase.py\u001b[0m:359)\n"
     ]
    },
    {
     "name": "stderr",
     "output_type": "stream",
     "text": [
      "\u001b[1;37mINFO\u001b[0m:tardis.simulation.base:Luminosity emitted = 1.23781e+43 erg / s Luminosity absorbed = 4.07435e+42 erg / s Luminosity requested = 1.05928e+43 erg / s\n"
     ]
    },
    {
     "name": "stdout",
     "output_type": "stream",
     "text": [
      "[\u001b[1mtardis.simulation.base\u001b[0m][\u001b[1;37mINFO\u001b[0m   ]  Plasma stratification:\n",
      "\t              t_rad    next_t_rad         w    next_w\n",
      "\tShell                                                \n",
      "\t0      10712.622749  11352.158138  0.455660  0.500754\n",
      "\t5      11125.894032  11644.968350  0.164091  0.185289\n",
      "\t10     10816.390451  11320.695930  0.104037  0.119195\n",
      "\t15     10421.687097  10965.228363  0.080401  0.089940\n",
      "\n",
      " (\u001b[1mbase.py\u001b[0m:350)\n"
     ]
    },
    {
     "name": "stderr",
     "output_type": "stream",
     "text": [
      "\u001b[1;37mINFO\u001b[0m:tardis.simulation.base:Plasma stratification:\n",
      "\t              t_rad    next_t_rad         w    next_w\n",
      "\tShell                                                \n",
      "\t0      10712.622749  11352.158138  0.455660  0.500754\n",
      "\t5      11125.894032  11644.968350  0.164091  0.185289\n",
      "\t10     10816.390451  11320.695930  0.104037  0.119195\n",
      "\t15     10421.687097  10965.228363  0.080401  0.089940\n",
      "\n",
      "\n"
     ]
    },
    {
     "name": "stdout",
     "output_type": "stream",
     "text": [
      "[\u001b[1mtardis.simulation.base\u001b[0m][\u001b[1;37mINFO\u001b[0m   ]  t_inner 11087.666 K -- next t_inner 10256.946 K (\u001b[1mbase.py\u001b[0m:352)\n"
     ]
    },
    {
     "name": "stderr",
     "output_type": "stream",
     "text": [
      "\u001b[1;37mINFO\u001b[0m:tardis.simulation.base:t_inner 11087.666 K -- next t_inner 10256.946 K\n"
     ]
    },
    {
     "name": "stdout",
     "output_type": "stream",
     "text": [
      "[\u001b[1mtardis.simulation.base\u001b[0m][\u001b[1;37mINFO\u001b[0m   ]  Starting iteration 17/20 (\u001b[1mbase.py\u001b[0m:268)\n"
     ]
    },
    {
     "name": "stderr",
     "output_type": "stream",
     "text": [
      "\u001b[1;37mINFO\u001b[0m:tardis.simulation.base:Starting iteration 17/20\n"
     ]
    },
    {
     "name": "stdout",
     "output_type": "stream",
     "text": [
      "[\u001b[1mtardis.simulation.base\u001b[0m][\u001b[1;37mINFO\u001b[0m   ]  Luminosity emitted = 9.18956e+42 erg / s Luminosity absorbed = 2.86249e+42 erg / s Luminosity requested = 1.05928e+43 erg / s (\u001b[1mbase.py\u001b[0m:359)\n"
     ]
    },
    {
     "name": "stderr",
     "output_type": "stream",
     "text": [
      "\u001b[1;37mINFO\u001b[0m:tardis.simulation.base:Luminosity emitted = 9.18956e+42 erg / s Luminosity absorbed = 2.86249e+42 erg / s Luminosity requested = 1.05928e+43 erg / s\n"
     ]
    },
    {
     "name": "stdout",
     "output_type": "stream",
     "text": [
      "[\u001b[1mtardis.simulation.base\u001b[0m][\u001b[1;37mINFO\u001b[0m   ]  Plasma stratification:\n",
      "\t              t_rad    next_t_rad         w    next_w\n",
      "\tShell                                                \n",
      "\t0      11352.158138  10738.799194  0.500754  0.452965\n",
      "\t5      11644.968350  11210.269586  0.185289  0.160945\n",
      "\t10     11320.695930  10911.463205  0.119195  0.103910\n",
      "\t15     10965.228363  10545.065525  0.089940  0.078433\n",
      "\n",
      " (\u001b[1mbase.py\u001b[0m:350)\n"
     ]
    },
    {
     "name": "stderr",
     "output_type": "stream",
     "text": [
      "\u001b[1;37mINFO\u001b[0m:tardis.simulation.base:Plasma stratification:\n",
      "\t              t_rad    next_t_rad         w    next_w\n",
      "\tShell                                                \n",
      "\t0      11352.158138  10738.799194  0.500754  0.452965\n",
      "\t5      11644.968350  11210.269586  0.185289  0.160945\n",
      "\t10     11320.695930  10911.463205  0.119195  0.103910\n",
      "\t15     10965.228363  10545.065525  0.089940  0.078433\n",
      "\n",
      "\n"
     ]
    },
    {
     "name": "stdout",
     "output_type": "stream",
     "text": [
      "[\u001b[1mtardis.simulation.base\u001b[0m][\u001b[1;37mINFO\u001b[0m   ]  t_inner 10256.946 K -- next t_inner 11012.230 K (\u001b[1mbase.py\u001b[0m:352)\n"
     ]
    },
    {
     "name": "stderr",
     "output_type": "stream",
     "text": [
      "\u001b[1;37mINFO\u001b[0m:tardis.simulation.base:t_inner 10256.946 K -- next t_inner 11012.230 K\n"
     ]
    },
    {
     "name": "stdout",
     "output_type": "stream",
     "text": [
      "[\u001b[1mtardis.simulation.base\u001b[0m][\u001b[1;37mINFO\u001b[0m   ]  Starting iteration 18/20 (\u001b[1mbase.py\u001b[0m:268)\n"
     ]
    },
    {
     "name": "stderr",
     "output_type": "stream",
     "text": [
      "\u001b[1;37mINFO\u001b[0m:tardis.simulation.base:Starting iteration 18/20\n"
     ]
    },
    {
     "name": "stdout",
     "output_type": "stream",
     "text": [
      "[\u001b[1mtardis.simulation.base\u001b[0m][\u001b[1;37mINFO\u001b[0m   ]  Luminosity emitted = 1.20741e+43 erg / s Luminosity absorbed = 3.93375e+42 erg / s Luminosity requested = 1.05928e+43 erg / s (\u001b[1mbase.py\u001b[0m:359)\n"
     ]
    },
    {
     "name": "stderr",
     "output_type": "stream",
     "text": [
      "\u001b[1;37mINFO\u001b[0m:tardis.simulation.base:Luminosity emitted = 1.20741e+43 erg / s Luminosity absorbed = 3.93375e+42 erg / s Luminosity requested = 1.05928e+43 erg / s\n"
     ]
    },
    {
     "name": "stdout",
     "output_type": "stream",
     "text": [
      "[\u001b[1mtardis.simulation.base\u001b[0m][\u001b[1;37mINFO\u001b[0m   ]  Plasma stratification:\n",
      "\t              t_rad    next_t_rad         w    next_w\n",
      "\tShell                                                \n",
      "\t0      10738.799194  11316.665617  0.452965  0.492135\n",
      "\t5      11210.269586  11599.094127  0.160945  0.183929\n",
      "\t10     10911.463205  11403.508986  0.103910  0.114400\n",
      "\t15     10545.065525  10958.974248  0.078433  0.087415\n",
      "\n",
      " (\u001b[1mbase.py\u001b[0m:350)\n"
     ]
    },
    {
     "name": "stderr",
     "output_type": "stream",
     "text": [
      "\u001b[1;37mINFO\u001b[0m:tardis.simulation.base:Plasma stratification:\n",
      "\t              t_rad    next_t_rad         w    next_w\n",
      "\tShell                                                \n",
      "\t0      10738.799194  11316.665617  0.452965  0.492135\n",
      "\t5      11210.269586  11599.094127  0.160945  0.183929\n",
      "\t10     10911.463205  11403.508986  0.103910  0.114400\n",
      "\t15     10545.065525  10958.974248  0.078433  0.087415\n",
      "\n",
      "\n"
     ]
    },
    {
     "name": "stdout",
     "output_type": "stream",
     "text": [
      "[\u001b[1mtardis.simulation.base\u001b[0m][\u001b[1;37mINFO\u001b[0m   ]  t_inner 11012.230 K -- next t_inner 10314.623 K (\u001b[1mbase.py\u001b[0m:352)\n"
     ]
    },
    {
     "name": "stderr",
     "output_type": "stream",
     "text": [
      "\u001b[1;37mINFO\u001b[0m:tardis.simulation.base:t_inner 11012.230 K -- next t_inner 10314.623 K\n"
     ]
    },
    {
     "name": "stdout",
     "output_type": "stream",
     "text": [
      "[\u001b[1mtardis.simulation.base\u001b[0m][\u001b[1;37mINFO\u001b[0m   ]  Starting iteration 19/20 (\u001b[1mbase.py\u001b[0m:268)\n"
     ]
    },
    {
     "name": "stderr",
     "output_type": "stream",
     "text": [
      "\u001b[1;37mINFO\u001b[0m:tardis.simulation.base:Starting iteration 19/20\n"
     ]
    },
    {
     "name": "stdout",
     "output_type": "stream",
     "text": [
      "[\u001b[1mtardis.simulation.base\u001b[0m][\u001b[1;37mINFO\u001b[0m   ]  Luminosity emitted = 9.29848e+42 erg / s Luminosity absorbed = 3.02011e+42 erg / s Luminosity requested = 1.05928e+43 erg / s (\u001b[1mbase.py\u001b[0m:359)\n"
     ]
    },
    {
     "name": "stderr",
     "output_type": "stream",
     "text": [
      "\u001b[1;37mINFO\u001b[0m:tardis.simulation.base:Luminosity emitted = 9.29848e+42 erg / s Luminosity absorbed = 3.02011e+42 erg / s Luminosity requested = 1.05928e+43 erg / s\n"
     ]
    },
    {
     "name": "stdout",
     "output_type": "stream",
     "text": [
      "[\u001b[1mtardis.simulation.base\u001b[0m][\u001b[1;37mINFO\u001b[0m   ]  Plasma stratification:\n",
      "\t              t_rad    next_t_rad         w    next_w\n",
      "\tShell                                                \n",
      "\t0      11316.665617  10862.505720  0.492135  0.444495\n",
      "\t5      11599.094127  11194.462074  0.183929  0.162842\n",
      "\t10     11403.508986  11065.620645  0.114400  0.099372\n",
      "\t15     10958.974248  10599.851144  0.087415  0.077690\n",
      "\n",
      " (\u001b[1mbase.py\u001b[0m:350)\n"
     ]
    },
    {
     "name": "stderr",
     "output_type": "stream",
     "text": [
      "\u001b[1;37mINFO\u001b[0m:tardis.simulation.base:Plasma stratification:\n",
      "\t              t_rad    next_t_rad         w    next_w\n",
      "\tShell                                                \n",
      "\t0      11316.665617  10862.505720  0.492135  0.444495\n",
      "\t5      11599.094127  11194.462074  0.183929  0.162842\n",
      "\t10     11403.508986  11065.620645  0.114400  0.099372\n",
      "\t15     10958.974248  10599.851144  0.087415  0.077690\n",
      "\n",
      "\n"
     ]
    },
    {
     "name": "stdout",
     "output_type": "stream",
     "text": [
      "[\u001b[1mtardis.simulation.base\u001b[0m][\u001b[1;37mINFO\u001b[0m   ]  t_inner 10314.623 K -- next t_inner 11009.102 K (\u001b[1mbase.py\u001b[0m:352)\n"
     ]
    },
    {
     "name": "stderr",
     "output_type": "stream",
     "text": [
      "\u001b[1;37mINFO\u001b[0m:tardis.simulation.base:t_inner 10314.623 K -- next t_inner 11009.102 K\n"
     ]
    },
    {
     "name": "stdout",
     "output_type": "stream",
     "text": [
      "[\u001b[1mtardis.simulation.base\u001b[0m][\u001b[1;37mINFO\u001b[0m   ]  Starting iteration 20/20 (\u001b[1mbase.py\u001b[0m:268)\n"
     ]
    },
    {
     "name": "stderr",
     "output_type": "stream",
     "text": [
      "\u001b[1;37mINFO\u001b[0m:tardis.simulation.base:Starting iteration 20/20\n"
     ]
    },
    {
     "name": "stdout",
     "output_type": "stream",
     "text": [
      "[\u001b[1mtardis.simulation.base\u001b[0m][\u001b[1;37mINFO\u001b[0m   ]  Luminosity emitted = 1.21062e+43 erg / s Luminosity absorbed = 3.88405e+42 erg / s Luminosity requested = 1.05928e+43 erg / s (\u001b[1mbase.py\u001b[0m:359)\n"
     ]
    },
    {
     "name": "stderr",
     "output_type": "stream",
     "text": [
      "\u001b[1;37mINFO\u001b[0m:tardis.simulation.base:Luminosity emitted = 1.21062e+43 erg / s Luminosity absorbed = 3.88405e+42 erg / s Luminosity requested = 1.05928e+43 erg / s\n"
     ]
    },
    {
     "name": "stdout",
     "output_type": "stream",
     "text": [
      "[\u001b[1mtardis.simulation.base\u001b[0m][\u001b[1;37mINFO\u001b[0m   ]  Simulation finished in 20 iterations and took 39.02 s (\u001b[1mbase.py\u001b[0m:308)\n"
     ]
    },
    {
     "name": "stderr",
     "output_type": "stream",
     "text": [
      "\u001b[1;37mINFO\u001b[0m:tardis.simulation.base:Simulation finished in 20 iterations and took 39.02 s\n"
     ]
    }
   ],
   "source": [
    "mdl = run_tardis('tardis_example.yml',\n",
    "                 packet_source=packet_source)\n",
    "mdl_norm = run_tardis('tardis_example.yml')"
   ]
  },
  {
   "cell_type": "code",
   "execution_count": 6,
   "metadata": {},
   "outputs": [
    {
     "data": {
      "text/plain": [
       "<matplotlib.legend.Legend at 0x7f2157100a58>"
      ]
     },
     "execution_count": 6,
     "metadata": {},
     "output_type": "execute_result"
    },
    {
     "data": {
      "image/png": "[encoded data removed]",
      "text/plain": [
       "<Figure size 432x288 with 1 Axes>"
      ]
     },
     "metadata": {
      "needs_background": "light"
     },
     "output_type": "display_data"
    }
   ],
   "source": [
    "%matplotlib inline\n",
    "plt.plot(mdl.runner.spectrum_virtual.wavelength,\n",
    "         mdl.runner.spectrum_virtual.luminosity_density_lambda,\n",
    "         color='red', label='truncated blackbody')\n",
    "plt.plot(mdl_norm.runner.spectrum_virtual.wavelength,\n",
    "         mdl_norm.runner.spectrum_virtual.luminosity_density_lambda,\n",
    "         color='blue', label='normal blackbody')\n",
    "plt.xlabel('$\\lambda [\\AA]$')\n",
    "plt.ylabel('$L_\\lambda$ [erg/s/$\\AA$]')\n",
    "plt.xlim(500, 10000)\n",
    "plt.legend()"
   ]
  }
 ],
 "metadata": {
  "kernelspec": {
   "display_name": "Python 3",
   "language": "python",
   "name": "python3"
  },
  "language_info": {
   "codemirror_mode": {
    "name": "ipython",
    "version": 3
   },
   "file_extension": ".py",
   "mimetype": "text/x-python",
   "name": "python",
   "nbconvert_exporter": "python",
   "pygments_lexer": "ipython3",
   "version": "3.6.7"
  },
  "nbsphinx": {
   "execute": "always",
   "timeout": 600
  },
  "widgets": {
   "application/vnd.jupyter.widget-state+json": {
    "state": {
     "1cc46a8ac78d4d4dad35e3c00a76e2b5": {
      "model_module": "@jupyter-widgets/controls",
      "model_module_version": "1.5.0",
      "model_name": "ProgressStyleModel",
      "state": {
       "_model_module": "@jupyter-widgets/controls",
       "_model_module_version": "1.5.0",
       "_model_name": "ProgressStyleModel",
       "_view_count": null,
       "_view_module": "@jupyter-widgets/base",
       "_view_module_version": "1.2.0",
       "_view_name": "StyleView",
       "bar_color": null,
       "description_width": "initial"
      }
     },
     "24888992055a491cbea85b2d70e818b4": {
      "model_module": "@jupyter-widgets/controls",
      "model_module_version": "1.5.0",
      "model_name": "HTMLModel",
      "state": {
       "_dom_classes": [],
       "_model_module": "@jupyter-widgets/controls",
       "_model_module_version": "1.5.0",
       "_model_name": "HTMLModel",
       "_view_count": null,
       "_view_module": "@jupyter-widgets/controls",
       "_view_module_version": "1.5.0",
       "_view_name": "HTMLView",
       "description": "",
       "description_tooltip": null,
       "layout": "IPY_MODEL_ba0fb2cbd34b425ca8ce38943abd7891",
       "placeholder": "​",
       "style": "IPY_MODEL_9e18d18cae6a428281b477cae92a7980",
       "value": " 73.7M/? [00:01&lt;00:00, 54.6MB/s]"
      }
     },
     "5ace678c4125444b9b56402a4f862dcd": {
      "model_module": "@jupyter-widgets/base",
      "model_module_version": "1.2.0",
      "model_name": "LayoutModel",
      "state": {
       "_model_module": "@jupyter-widgets/base",
       "_model_module_version": "1.2.0",
       "_model_name": "LayoutModel",
       "_view_count": null,
       "_view_module": "@jupyter-widgets/base",
       "_view_module_version": "1.2.0",
       "_view_name": "LayoutView",
       "align_content": null,
       "align_items": null,
       "align_self": null,
       "border": null,
       "bottom": null,
       "display": null,
       "flex": null,
       "flex_flow": null,
       "grid_area": null,
       "grid_auto_columns": null,
       "grid_auto_flow": null,
       "grid_auto_rows": null,
       "grid_column": null,
       "grid_gap": null,
       "grid_row": null,
       "grid_template_areas": null,
       "grid_template_columns": null,
       "grid_template_rows": null,
       "height": null,
       "justify_content": null,
       "justify_items": null,
       "left": null,
       "margin": null,
       "max_height": null,
       "max_width": null,
       "min_height": null,
       "min_width": null,
       "object_fit": null,
       "object_position": null,
       "order": null,
       "overflow": null,
       "overflow_x": null,
       "overflow_y": null,
       "padding": null,
       "right": null,
       "top": null,
       "visibility": null,
       "width": null
      }
     },
     "5af74d4a6a6b4b4c84f5088f9461b547": {
      "model_module": "@jupyter-widgets/controls",
      "model_module_version": "1.5.0",
      "model_name": "FloatProgressModel",
      "state": {
       "_dom_classes": [],
       "_model_module": "@jupyter-widgets/controls",
       "_model_module_version": "1.5.0",
       "_model_name": "FloatProgressModel",
       "_view_count": null,
       "_view_module": "@jupyter-widgets/controls",
       "_view_module_version": "1.5.0",
       "_view_name": "ProgressView",
       "bar_style": "success",
       "description": "kurucz_cd23_chianti_H_He.h5: ",
       "description_tooltip": null,
       "layout": "IPY_MODEL_bfe1a764c50343bba4d699cb271629ef",
       "max": 73704476.0,
       "min": 0.0,
       "orientation": "horizontal",
       "style": "IPY_MODEL_1cc46a8ac78d4d4dad35e3c00a76e2b5",
       "value": 73704476.0
      }
     },
     "9279a09fa9474934984511b5d495d525": {
      "model_module": "@jupyter-widgets/controls",
      "model_module_version": "1.5.0",
      "model_name": "HBoxModel",
      "state": {
       "_dom_classes": [],
       "_model_module": "@jupyter-widgets/controls",
       "_model_module_version": "1.5.0",
       "_model_name": "HBoxModel",
       "_view_count": null,
       "_view_module": "@jupyter-widgets/controls",
       "_view_module_version": "1.5.0",
       "_view_name": "HBoxView",
       "box_style": "",
       "children": [
        "IPY_MODEL_5af74d4a6a6b4b4c84f5088f9461b547",
        "IPY_MODEL_24888992055a491cbea85b2d70e818b4"
       ],
       "layout": "IPY_MODEL_5ace678c4125444b9b56402a4f862dcd"
      }
     },
     "9e18d18cae6a428281b477cae92a7980": {
      "model_module": "@jupyter-widgets/controls",
      "model_module_version": "1.5.0",
      "model_name": "DescriptionStyleModel",
      "state": {
       "_model_module": "@jupyter-widgets/controls",
       "_model_module_version": "1.5.0",
       "_model_name": "DescriptionStyleModel",
       "_view_count": null,
       "_view_module": "@jupyter-widgets/base",
       "_view_module_version": "1.2.0",
       "_view_name": "StyleView",
       "description_width": ""
      }
     },
     "ba0fb2cbd34b425ca8ce38943abd7891": {
      "model_module": "@jupyter-widgets/base",
      "model_module_version": "1.2.0",
      "model_name": "LayoutModel",
      "state": {
       "_model_module": "@jupyter-widgets/base",
       "_model_module_version": "1.2.0",
       "_model_name": "LayoutModel",
       "_view_count": null,
       "_view_module": "@jupyter-widgets/base",
       "_view_module_version": "1.2.0",
       "_view_name": "LayoutView",
       "align_content": null,
       "align_items": null,
       "align_self": null,
       "border": null,
       "bottom": null,
       "display": null,
       "flex": null,
       "flex_flow": null,
       "grid_area": null,
       "grid_auto_columns": null,
       "grid_auto_flow": null,
       "grid_auto_rows": null,
       "grid_column": null,
       "grid_gap": null,
       "grid_row": null,
       "grid_template_areas": null,
       "grid_template_columns": null,
       "grid_template_rows": null,
       "height": null,
       "justify_content": null,
       "justify_items": null,
       "left": null,
       "margin": null,
       "max_height": null,
       "max_width": null,
       "min_height": null,
       "min_width": null,
       "object_fit": null,
       "object_position": null,
       "order": null,
       "overflow": null,
       "overflow_x": null,
       "overflow_y": null,
       "padding": null,
       "right": null,
       "top": null,
       "visibility": null,
       "width": null
      }
     },
     "bfe1a764c50343bba4d699cb271629ef": {
      "model_module": "@jupyter-widgets/base",
      "model_module_version": "1.2.0",
      "model_name": "LayoutModel",
      "state": {
       "_model_module": "@jupyter-widgets/base",
       "_model_module_version": "1.2.0",
       "_model_name": "LayoutModel",
       "_view_count": null,
       "_view_module": "@jupyter-widgets/base",
       "_view_module_version": "1.2.0",
       "_view_name": "LayoutView",
       "align_content": null,
       "align_items": null,
       "align_self": null,
       "border": null,
       "bottom": null,
       "display": null,
       "flex": null,
       "flex_flow": null,
       "grid_area": null,
       "grid_auto_columns": null,
       "grid_auto_flow": null,
       "grid_auto_rows": null,
       "grid_column": null,
       "grid_gap": null,
       "grid_row": null,
       "grid_template_areas": null,
       "grid_template_columns": null,
       "grid_template_rows": null,
       "height": null,
       "justify_content": null,
       "justify_items": null,
       "left": null,
       "margin": null,
       "max_height": null,
       "max_width": null,
       "min_height": null,
       "min_width": null,
       "object_fit": null,
       "object_position": null,
       "order": null,
       "overflow": null,
       "overflow_x": null,
       "overflow_y": null,
       "padding": null,
       "right": null,
       "top": null,
       "visibility": null,
       "width": null
      }
     }
    },
    "version_major": 2,
    "version_minor": 0
   }
  }
 },
 "nbformat": 4,
 "nbformat_minor": 2
}
