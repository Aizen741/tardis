{
 "cells": [
  {
   "cell_type": "markdown",
   "metadata": {},
   "source": [
    "### Quickstart for TARDIS ###"
   ]
  },
  {
   "cell_type": "markdown",
   "metadata": {},
   "source": [
    "Every simulation run requires the atomic database (for more info refer to [atomic data](../atomic/atomic_data.rst) ) and a configuration file (more info at [configuration](../configuration/index.rst) ).\n",
    "You can obtain a copy of the atomic database from the\n",
    "(https://github.com/tardis-sn/tardis-refdata) repository\n",
    "(`atom_data` subfolder). We recommended to use the\n",
    "`kurucz_cd23_chianti_H_He.h5` dataset (which is auto-downloaded in the second cell already). The configuration file for this quickstart is `tardis_example.yml`, which can be downloaded [here](https://raw.githubusercontent.com/tardis-sn/tardis/master/docs/models/examples/tardis_example.yml)), though this file is auto-downloaded in third cell.\n",
    "\n",
    "After the [installation](../installation.rst) start a jupyter server executing `jupyter notebook` on the commandline in a directory that contains this quickstart."
   ]
  },
  {
   "cell_type": "code",
   "execution_count": 1,
   "metadata": {},
   "outputs": [
    {
     "name": "stderr",
     "output_type": "stream",
     "text": [
      "/usr/share/miniconda/envs/tardis/lib/python3.6/importlib/_bootstrap.py:219: QAWarning: pyne.data is not yet QA compliant.\n",
      "  return f(*args, **kwds)\n"
     ]
    }
   ],
   "source": [
    "from tardis import run_tardis\n",
    "from tardis.io.atom_data.util import download_atom_data"
   ]
  },
  {
   "cell_type": "markdown",
   "metadata": {},
   "source": [
    "#### Downloading the atomic data ####"
   ]
  },
  {
   "cell_type": "code",
   "execution_count": 2,
   "metadata": {},
   "outputs": [
    {
     "name": "stdout",
     "output_type": "stream",
     "text": [
      "[\u001b[1mtardis.io.config_internal\u001b[0m][\u001b[1;33mWARNING\u001b[0m]  Configuration File /home/vsts/.astropy/config/tardis_internal_config.yml does not exist - creating new one from default (\u001b[1mconfig_internal.py\u001b[0m:16)\n"
     ]
    },
    {
     "name": "stderr",
     "output_type": "stream",
     "text": [
      "CRITICAL:root:\n",
      "********************************************************************************\n",
      "\n",
      "TARDIS will download different kinds of data (e.g. atomic) to its data directory /home/vsts/Downloads/tardis-data\n",
      "\n",
      "TARDIS DATA DIRECTORY not specified in /home/vsts/.astropy/config/tardis_internal_config.yml:\n",
      "\n",
      "ASSUMING DEFAULT DATA DIRECTORY /home/vsts/Downloads/tardis-data\n",
      " YOU CAN CHANGE THIS AT ANY TIME IN /home/vsts/.astropy/config/tardis_internal_config.yml \n",
      "\n",
      "******************************************************************************** \n",
      "\n",
      "\n"
     ]
    },
    {
     "name": "stdout",
     "output_type": "stream",
     "text": [
      "[\u001b[1mtardis.io.atom_data.atom_web_download\u001b[0m][\u001b[1;37mINFO\u001b[0m   ]  Downloading atomic data from https://media.githubusercontent.com/media/tardis-sn/tardis-refdata/master/atom_data/kurucz_cd23_chianti_H_He.h5 to /home/vsts/Downloads/tardis-data/kurucz_cd23_chianti_H_He.h5 (\u001b[1matom_web_download.py\u001b[0m:47)\n"
     ]
    },
    {
     "name": "stderr",
     "output_type": "stream",
     "text": [
      "\u001b[1;37mINFO\u001b[0m:tardis.io.atom_data.atom_web_download:Downloading atomic data from https://media.githubusercontent.com/media/tardis-sn/tardis-refdata/master/atom_data/kurucz_cd23_chianti_H_He.h5 to /home/vsts/Downloads/tardis-data/kurucz_cd23_chianti_H_He.h5\n"
     ]
    },
    {
     "data": {
      "application/vnd.jupyter.widget-view+json": {
       "model_id": "c95bfb7b4a4b4ef2937604a714beb3f3",
       "version_major": 2,
       "version_minor": 0
      },
      "text/plain": [
       "HBox(children=(FloatProgress(value=0.0, description='kurucz_cd23_chianti_H_He.h5', max=73704476.0, style=Progr…"
      ]
     },
     "metadata": {},
     "output_type": "display_data"
    },
    {
     "name": "stdout",
     "output_type": "stream",
     "text": [
      "\n"
     ]
    }
   ],
   "source": [
    "# the data is automatically downloaded\n",
    "download_atom_data('kurucz_cd23_chianti_H_He')"
   ]
  },
  {
   "cell_type": "markdown",
   "metadata": {},
   "source": [
    "#### Downloading the example file ####"
   ]
  },
  {
   "cell_type": "code",
   "execution_count": 3,
   "metadata": {},
   "outputs": [
    {
     "name": "stdout",
     "output_type": "stream",
     "text": [
      "  % Total    % Received % Xferd  Average Speed   Time    Time     Time  Current\r\n",
      "                                 Dload  Upload   Total   Spent    Left  Speed\r\n",
      "\r",
      "  0     0    0     0    0     0      0      0 --:--:-- --:--:-- --:--:--     0"
     ]
    },
    {
     "name": "stdout",
     "output_type": "stream",
     "text": [
      "\r",
      "100   980  100   980    0     0   4219      0 --:--:-- --:--:-- --:--:--  4224\r\n"
     ]
    }
   ],
   "source": [
    "!curl -O https://raw.githubusercontent.com/tardis-sn/tardis/master/docs/models/examples/tardis_example.yml"
   ]
  },
  {
   "cell_type": "markdown",
   "metadata": {},
   "source": [
    "#### Running the simulation (long output) ####"
   ]
  },
  {
   "cell_type": "code",
   "execution_count": 4,
   "metadata": {},
   "outputs": [
    {
     "name": "stdout",
     "output_type": "stream",
     "text": [
      "[\u001b[1mtardis.plasma.standard_plasmas\u001b[0m][\u001b[1;37mINFO\u001b[0m   ]  Reading Atomic Data from kurucz_cd23_chianti_H_He.h5 (\u001b[1mstandard_plasmas.py\u001b[0m:74)\n"
     ]
    },
    {
     "name": "stderr",
     "output_type": "stream",
     "text": [
      "\u001b[1;37mINFO\u001b[0m:tardis.plasma.standard_plasmas:Reading Atomic Data from kurucz_cd23_chianti_H_He.h5\n"
     ]
    },
    {
     "name": "stdout",
     "output_type": "stream",
     "text": [
      "[\u001b[1mtardis.io.atom_data.util\u001b[0m][\u001b[1;37mINFO\u001b[0m   ]  Atom Data kurucz_cd23_chianti_H_He.h5 not found in local path. Exists in TARDIS Data repo /home/vsts/Downloads/tardis-data/kurucz_cd23_chianti_H_He.h5 (\u001b[1mutil.py\u001b[0m:29)\n"
     ]
    },
    {
     "name": "stderr",
     "output_type": "stream",
     "text": [
      "\u001b[1;37mINFO\u001b[0m:tardis.io.atom_data.util:Atom Data kurucz_cd23_chianti_H_He.h5 not found in local path. Exists in TARDIS Data repo /home/vsts/Downloads/tardis-data/kurucz_cd23_chianti_H_He.h5\n"
     ]
    },
    {
     "name": "stdout",
     "output_type": "stream",
     "text": [
      "[\u001b[1mtardis.io.atom_data.base\u001b[0m][\u001b[1;37mINFO\u001b[0m   ]  Read Atom Data with UUID=6f7b09e887a311e7a06b246e96350010 and MD5=864f1753714343c41f99cb065710cace. (\u001b[1mbase.py\u001b[0m:184)\n"
     ]
    },
    {
     "name": "stderr",
     "output_type": "stream",
     "text": [
      "\u001b[1;37mINFO\u001b[0m:tardis.io.atom_data.base:Read Atom Data with UUID=6f7b09e887a311e7a06b246e96350010 and MD5=864f1753714343c41f99cb065710cace.\n"
     ]
    },
    {
     "name": "stdout",
     "output_type": "stream",
     "text": [
      "[\u001b[1mtardis.io.atom_data.base\u001b[0m][\u001b[1;37mINFO\u001b[0m   ]  Non provided atomic data: synpp_refs, photoionization_data (\u001b[1mbase.py\u001b[0m:187)\n"
     ]
    },
    {
     "name": "stderr",
     "output_type": "stream",
     "text": [
      "\u001b[1;37mINFO\u001b[0m:tardis.io.atom_data.base:Non provided atomic data: synpp_refs, photoionization_data\n"
     ]
    },
    {
     "name": "stdout",
     "output_type": "stream",
     "text": [
      "[\u001b[1mtardis.simulation.base\u001b[0m][\u001b[1;37mINFO\u001b[0m   ]  Starting iteration 1/20 (\u001b[1mbase.py\u001b[0m:268)\n"
     ]
    },
    {
     "name": "stderr",
     "output_type": "stream",
     "text": [
      "\u001b[1;37mINFO\u001b[0m:tardis.simulation.base:Starting iteration 1/20\n"
     ]
    },
    {
     "name": "stdout",
     "output_type": "stream",
     "text": [
      "[\u001b[1mtardis.simulation.base\u001b[0m][\u001b[1;37mINFO\u001b[0m   ]  Luminosity emitted = 7.93730e+42 erg / s Luminosity absorbed = 2.66400e+42 erg / s Luminosity requested = 1.05928e+43 erg / s (\u001b[1mbase.py\u001b[0m:359)\n"
     ]
    },
    {
     "name": "stderr",
     "output_type": "stream",
     "text": [
      "\u001b[1;37mINFO\u001b[0m:tardis.simulation.base:Luminosity emitted = 7.93730e+42 erg / s Luminosity absorbed = 2.66400e+42 erg / s Luminosity requested = 1.05928e+43 erg / s\n"
     ]
    },
    {
     "name": "stdout",
     "output_type": "stream",
     "text": [
      "[\u001b[1mtardis.simulation.base\u001b[0m][\u001b[1;37mINFO\u001b[0m   ]  Plasma stratification:\n",
      "\t             t_rad    next_t_rad         w    next_w\n",
      "\tShell                                               \n",
      "\t0      9926.501965  10168.422346  0.400392  0.501001\n",
      "\t5      9852.611678  10367.510165  0.211205  0.186556\n",
      "\t10     9779.813302  10222.882075  0.142695  0.113985\n",
      "\t15     9708.082813   9928.649533  0.104556  0.085217\n",
      "\n",
      " (\u001b[1mbase.py\u001b[0m:350)\n"
     ]
    },
    {
     "name": "stderr",
     "output_type": "stream",
     "text": [
      "\u001b[1;37mINFO\u001b[0m:tardis.simulation.base:Plasma stratification:\n",
      "\t             t_rad    next_t_rad         w    next_w\n",
      "\tShell                                               \n",
      "\t0      9926.501965  10168.422346  0.400392  0.501001\n",
      "\t5      9852.611678  10367.510165  0.211205  0.186556\n",
      "\t10     9779.813302  10222.882075  0.142695  0.113985\n",
      "\t15     9708.082813   9928.649533  0.104556  0.085217\n",
      "\n",
      "\n"
     ]
    },
    {
     "name": "stdout",
     "output_type": "stream",
     "text": [
      "[\u001b[1mtardis.simulation.base\u001b[0m][\u001b[1;37mINFO\u001b[0m   ]  t_inner 9933.952 K -- next t_inner 11475.997 K (\u001b[1mbase.py\u001b[0m:352)\n"
     ]
    },
    {
     "name": "stderr",
     "output_type": "stream",
     "text": [
      "\u001b[1;37mINFO\u001b[0m:tardis.simulation.base:t_inner 9933.952 K -- next t_inner 11475.997 K\n"
     ]
    },
    {
     "name": "stdout",
     "output_type": "stream",
     "text": [
      "[\u001b[1mtardis.simulation.base\u001b[0m][\u001b[1;37mINFO\u001b[0m   ]  Starting iteration 2/20 (\u001b[1mbase.py\u001b[0m:268)\n"
     ]
    },
    {
     "name": "stderr",
     "output_type": "stream",
     "text": [
      "\u001b[1;37mINFO\u001b[0m:tardis.simulation.base:Starting iteration 2/20\n"
     ]
    },
    {
     "name": "stdout",
     "output_type": "stream",
     "text": [
      "[\u001b[1mtardis.simulation.base\u001b[0m][\u001b[1;37mINFO\u001b[0m   ]  Luminosity emitted = 1.41371e+43 erg / s Luminosity absorbed = 4.73752e+42 erg / s Luminosity requested = 1.05928e+43 erg / s (\u001b[1mbase.py\u001b[0m:359)\n"
     ]
    },
    {
     "name": "stderr",
     "output_type": "stream",
     "text": [
      "\u001b[1;37mINFO\u001b[0m:tardis.simulation.base:Luminosity emitted = 1.41371e+43 erg / s Luminosity absorbed = 4.73752e+42 erg / s Luminosity requested = 1.05928e+43 erg / s\n"
     ]
    },
    {
     "name": "stdout",
     "output_type": "stream",
     "text": [
      "[\u001b[1mtardis.simulation.base\u001b[0m][\u001b[1;37mINFO\u001b[0m   ]  Plasma stratification:\n",
      "\t              t_rad    next_t_rad         w    next_w\n",
      "\tShell                                                \n",
      "\t0      10168.422346  11497.903617  0.501001  0.545136\n",
      "\t5      10367.510165  11621.417600  0.186556  0.212874\n",
      "\t10     10222.882075  11335.692704  0.113985  0.135635\n",
      "\t15      9928.649533  11018.841465  0.085217  0.101203\n",
      "\n",
      " (\u001b[1mbase.py\u001b[0m:350)\n"
     ]
    },
    {
     "name": "stderr",
     "output_type": "stream",
     "text": [
      "\u001b[1;37mINFO\u001b[0m:tardis.simulation.base:Plasma stratification:\n",
      "\t              t_rad    next_t_rad         w    next_w\n",
      "\tShell                                                \n",
      "\t0      10168.422346  11497.903617  0.501001  0.545136\n",
      "\t5      10367.510165  11621.417600  0.186556  0.212874\n",
      "\t10     10222.882075  11335.692704  0.113985  0.135635\n",
      "\t15      9928.649533  11018.841465  0.085217  0.101203\n",
      "\n",
      "\n"
     ]
    },
    {
     "name": "stdout",
     "output_type": "stream",
     "text": [
      "[\u001b[1mtardis.simulation.base\u001b[0m][\u001b[1;37mINFO\u001b[0m   ]  t_inner 11475.997 K -- next t_inner 9933.797 K (\u001b[1mbase.py\u001b[0m:352)\n"
     ]
    },
    {
     "name": "stderr",
     "output_type": "stream",
     "text": [
      "\u001b[1;37mINFO\u001b[0m:tardis.simulation.base:t_inner 11475.997 K -- next t_inner 9933.797 K\n"
     ]
    },
    {
     "name": "stdout",
     "output_type": "stream",
     "text": [
      "[\u001b[1mtardis.simulation.base\u001b[0m][\u001b[1;37mINFO\u001b[0m   ]  Starting iteration 3/20 (\u001b[1mbase.py\u001b[0m:268)\n"
     ]
    },
    {
     "name": "stderr",
     "output_type": "stream",
     "text": [
      "\u001b[1;37mINFO\u001b[0m:tardis.simulation.base:Starting iteration 3/20\n"
     ]
    },
    {
     "name": "stdout",
     "output_type": "stream",
     "text": [
      "[\u001b[1mtardis.simulation.base\u001b[0m][\u001b[1;37mINFO\u001b[0m   ]  Luminosity emitted = 8.04734e+42 erg / s Luminosity absorbed = 2.55640e+42 erg / s Luminosity requested = 1.05928e+43 erg / s (\u001b[1mbase.py\u001b[0m:359)\n"
     ]
    },
    {
     "name": "stderr",
     "output_type": "stream",
     "text": [
      "\u001b[1;37mINFO\u001b[0m:tardis.simulation.base:Luminosity emitted = 8.04734e+42 erg / s Luminosity absorbed = 2.55640e+42 erg / s Luminosity requested = 1.05928e+43 erg / s\n"
     ]
    },
    {
     "name": "stdout",
     "output_type": "stream",
     "text": [
      "[\u001b[1mtardis.simulation.base\u001b[0m][\u001b[1;37mINFO\u001b[0m   ]  Plasma stratification:\n",
      "\t              t_rad    next_t_rad         w    next_w\n",
      "\tShell                                                \n",
      "\t0      11497.903617  10477.653343  0.545136  0.439296\n",
      "\t5      11621.417600  10856.518852  0.212874  0.159058\n",
      "\t10     11335.692704  10635.474976  0.135635  0.100253\n",
      "\t15     11018.841465  10290.254692  0.101203  0.075529\n",
      "\n",
      " (\u001b[1mbase.py\u001b[0m:350)\n"
     ]
    },
    {
     "name": "stderr",
     "output_type": "stream",
     "text": [
      "\u001b[1;37mINFO\u001b[0m:tardis.simulation.base:Plasma stratification:\n",
      "\t              t_rad    next_t_rad         w    next_w\n",
      "\tShell                                                \n",
      "\t0      11497.903617  10477.653343  0.545136  0.439296\n",
      "\t5      11621.417600  10856.518852  0.212874  0.159058\n",
      "\t10     11335.692704  10635.474976  0.135635  0.100253\n",
      "\t15     11018.841465  10290.254692  0.101203  0.075529\n",
      "\n",
      "\n"
     ]
    },
    {
     "name": "stdout",
     "output_type": "stream",
     "text": [
      "[\u001b[1mtardis.simulation.base\u001b[0m][\u001b[1;37mINFO\u001b[0m   ]  t_inner 9933.797 K -- next t_inner 11397.084 K (\u001b[1mbase.py\u001b[0m:352)\n"
     ]
    },
    {
     "name": "stderr",
     "output_type": "stream",
     "text": [
      "\u001b[1;37mINFO\u001b[0m:tardis.simulation.base:t_inner 9933.797 K -- next t_inner 11397.084 K\n"
     ]
    },
    {
     "name": "stdout",
     "output_type": "stream",
     "text": [
      "[\u001b[1mtardis.simulation.base\u001b[0m][\u001b[1;37mINFO\u001b[0m   ]  Starting iteration 4/20 (\u001b[1mbase.py\u001b[0m:268)\n"
     ]
    },
    {
     "name": "stderr",
     "output_type": "stream",
     "text": [
      "\u001b[1;37mINFO\u001b[0m:tardis.simulation.base:Starting iteration 4/20\n"
     ]
    },
    {
     "name": "stdout",
     "output_type": "stream",
     "text": [
      "[\u001b[1mtardis.simulation.base\u001b[0m][\u001b[1;37mINFO\u001b[0m   ]  Luminosity emitted = 1.38199e+43 erg / s Luminosity absorbed = 4.54590e+42 erg / s Luminosity requested = 1.05928e+43 erg / s (\u001b[1mbase.py\u001b[0m:359)\n"
     ]
    },
    {
     "name": "stderr",
     "output_type": "stream",
     "text": [
      "\u001b[1;37mINFO\u001b[0m:tardis.simulation.base:Luminosity emitted = 1.38199e+43 erg / s Luminosity absorbed = 4.54590e+42 erg / s Luminosity requested = 1.05928e+43 erg / s\n"
     ]
    },
    {
     "name": "stdout",
     "output_type": "stream",
     "text": [
      "[\u001b[1mtardis.simulation.base\u001b[0m][\u001b[1;37mINFO\u001b[0m   ]  Plasma stratification:\n",
      "\t              t_rad    next_t_rad         w    next_w\n",
      "\tShell                                                \n",
      "\t0      10477.653343  11608.211738  0.439296  0.506501\n",
      "\t5      10856.518852  11859.259666  0.159058  0.192802\n",
      "\t10     10635.474976  11479.604579  0.100253  0.125779\n",
      "\t15     10290.254692  11149.192411  0.075529  0.094052\n",
      "\n",
      " (\u001b[1mbase.py\u001b[0m:350)\n"
     ]
    },
    {
     "name": "stderr",
     "output_type": "stream",
     "text": [
      "\u001b[1;37mINFO\u001b[0m:tardis.simulation.base:Plasma stratification:\n",
      "\t              t_rad    next_t_rad         w    next_w\n",
      "\tShell                                                \n",
      "\t0      10477.653343  11608.211738  0.439296  0.506501\n",
      "\t5      10856.518852  11859.259666  0.159058  0.192802\n",
      "\t10     10635.474976  11479.604579  0.100253  0.125779\n",
      "\t15     10290.254692  11149.192411  0.075529  0.094052\n",
      "\n",
      "\n"
     ]
    },
    {
     "name": "stdout",
     "output_type": "stream",
     "text": [
      "[\u001b[1mtardis.simulation.base\u001b[0m][\u001b[1;37mINFO\u001b[0m   ]  t_inner 11397.084 K -- next t_inner 9978.058 K (\u001b[1mbase.py\u001b[0m:352)\n"
     ]
    },
    {
     "name": "stderr",
     "output_type": "stream",
     "text": [
      "\u001b[1;37mINFO\u001b[0m:tardis.simulation.base:t_inner 11397.084 K -- next t_inner 9978.058 K\n"
     ]
    },
    {
     "name": "stdout",
     "output_type": "stream",
     "text": [
      "[\u001b[1mtardis.simulation.base\u001b[0m][\u001b[1;37mINFO\u001b[0m   ]  Starting iteration 5/20 (\u001b[1mbase.py\u001b[0m:268)\n"
     ]
    },
    {
     "name": "stderr",
     "output_type": "stream",
     "text": [
      "\u001b[1;37mINFO\u001b[0m:tardis.simulation.base:Starting iteration 5/20\n"
     ]
    },
    {
     "name": "stdout",
     "output_type": "stream",
     "text": [
      "[\u001b[1mtardis.simulation.base\u001b[0m][\u001b[1;37mINFO\u001b[0m   ]  Luminosity emitted = 8.16431e+42 erg / s Luminosity absorbed = 2.62454e+42 erg / s Luminosity requested = 1.05928e+43 erg / s (\u001b[1mbase.py\u001b[0m:359)\n"
     ]
    },
    {
     "name": "stderr",
     "output_type": "stream",
     "text": [
      "\u001b[1;37mINFO\u001b[0m:tardis.simulation.base:Luminosity emitted = 8.16431e+42 erg / s Luminosity absorbed = 2.62454e+42 erg / s Luminosity requested = 1.05928e+43 erg / s\n"
     ]
    },
    {
     "name": "stdout",
     "output_type": "stream",
     "text": [
      "[\u001b[1mtardis.simulation.base\u001b[0m][\u001b[1;37mINFO\u001b[0m   ]  Plasma stratification:\n",
      "\t              t_rad    next_t_rad         w    next_w\n",
      "\tShell                                                \n",
      "\t0      11608.211738  10556.913414  0.506501  0.440229\n",
      "\t5      11859.259666  11021.144022  0.192802  0.153136\n",
      "\t10     11479.604579  10713.104080  0.125779  0.099268\n",
      "\t15     11149.192411  10399.079825  0.094052  0.073482\n",
      "\n",
      " (\u001b[1mbase.py\u001b[0m:350)\n"
     ]
    },
    {
     "name": "stderr",
     "output_type": "stream",
     "text": [
      "\u001b[1;37mINFO\u001b[0m:tardis.simulation.base:Plasma stratification:\n",
      "\t              t_rad    next_t_rad         w    next_w\n",
      "\tShell                                                \n",
      "\t0      11608.211738  10556.913414  0.506501  0.440229\n",
      "\t5      11859.259666  11021.144022  0.192802  0.153136\n",
      "\t10     11479.604579  10713.104080  0.125779  0.099268\n",
      "\t15     11149.192411  10399.079825  0.094052  0.073482\n",
      "\n",
      "\n"
     ]
    },
    {
     "name": "stdout",
     "output_type": "stream",
     "text": [
      "[\u001b[1mtardis.simulation.base\u001b[0m][\u001b[1;37mINFO\u001b[0m   ]  t_inner 9978.058 K -- next t_inner 11365.561 K (\u001b[1mbase.py\u001b[0m:352)\n"
     ]
    },
    {
     "name": "stderr",
     "output_type": "stream",
     "text": [
      "\u001b[1;37mINFO\u001b[0m:tardis.simulation.base:t_inner 9978.058 K -- next t_inner 11365.561 K\n"
     ]
    },
    {
     "name": "stdout",
     "output_type": "stream",
     "text": [
      "[\u001b[1mtardis.simulation.base\u001b[0m][\u001b[1;37mINFO\u001b[0m   ]  Starting iteration 6/20 (\u001b[1mbase.py\u001b[0m:268)\n"
     ]
    },
    {
     "name": "stderr",
     "output_type": "stream",
     "text": [
      "\u001b[1;37mINFO\u001b[0m:tardis.simulation.base:Starting iteration 6/20\n"
     ]
    },
    {
     "name": "stdout",
     "output_type": "stream",
     "text": [
      "[\u001b[1mtardis.simulation.base\u001b[0m][\u001b[1;37mINFO\u001b[0m   ]  Luminosity emitted = 1.36136e+43 erg / s Luminosity absorbed = 4.54590e+42 erg / s Luminosity requested = 1.05928e+43 erg / s (\u001b[1mbase.py\u001b[0m:359)\n"
     ]
    },
    {
     "name": "stderr",
     "output_type": "stream",
     "text": [
      "\u001b[1;37mINFO\u001b[0m:tardis.simulation.base:Luminosity emitted = 1.36136e+43 erg / s Luminosity absorbed = 4.54590e+42 erg / s Luminosity requested = 1.05928e+43 erg / s\n"
     ]
    },
    {
     "name": "stdout",
     "output_type": "stream",
     "text": [
      "[\u001b[1mtardis.simulation.base\u001b[0m][\u001b[1;37mINFO\u001b[0m   ]  Plasma stratification:\n",
      "\t              t_rad    next_t_rad         w    next_w\n",
      "\tShell                                                \n",
      "\t0      10556.913414  11562.006340  0.440229  0.509603\n",
      "\t5      11021.144022  11799.980145  0.153136  0.194437\n",
      "\t10     10713.104080  11482.742597  0.099268  0.124721\n",
      "\t15     10399.079825  11124.799749  0.073482  0.093597\n",
      "\n",
      " (\u001b[1mbase.py\u001b[0m:350)\n"
     ]
    },
    {
     "name": "stderr",
     "output_type": "stream",
     "text": [
      "\u001b[1;37mINFO\u001b[0m:tardis.simulation.base:Plasma stratification:\n",
      "\t              t_rad    next_t_rad         w    next_w\n",
      "\tShell                                                \n",
      "\t0      10556.913414  11562.006340  0.440229  0.509603\n",
      "\t5      11021.144022  11799.980145  0.153136  0.194437\n",
      "\t10     10713.104080  11482.742597  0.099268  0.124721\n",
      "\t15     10399.079825  11124.799749  0.073482  0.093597\n",
      "\n",
      "\n"
     ]
    },
    {
     "name": "stdout",
     "output_type": "stream",
     "text": [
      "[\u001b[1mtardis.simulation.base\u001b[0m][\u001b[1;37mINFO\u001b[0m   ]  t_inner 11365.561 K -- next t_inner 10025.564 K (\u001b[1mbase.py\u001b[0m:352)\n"
     ]
    },
    {
     "name": "stderr",
     "output_type": "stream",
     "text": [
      "\u001b[1;37mINFO\u001b[0m:tardis.simulation.base:t_inner 11365.561 K -- next t_inner 10025.564 K\n"
     ]
    },
    {
     "name": "stdout",
     "output_type": "stream",
     "text": [
      "[\u001b[1mtardis.simulation.base\u001b[0m][\u001b[1;37mINFO\u001b[0m   ]  Starting iteration 7/20 (\u001b[1mbase.py\u001b[0m:268)\n"
     ]
    },
    {
     "name": "stderr",
     "output_type": "stream",
     "text": [
      "\u001b[1;37mINFO\u001b[0m:tardis.simulation.base:Starting iteration 7/20\n"
     ]
    },
    {
     "name": "stdout",
     "output_type": "stream",
     "text": [
      "[\u001b[1mtardis.simulation.base\u001b[0m][\u001b[1;37mINFO\u001b[0m   ]  Luminosity emitted = 8.33278e+42 erg / s Luminosity absorbed = 2.66283e+42 erg / s Luminosity requested = 1.05928e+43 erg / s (\u001b[1mbase.py\u001b[0m:359)\n"
     ]
    },
    {
     "name": "stderr",
     "output_type": "stream",
     "text": [
      "\u001b[1;37mINFO\u001b[0m:tardis.simulation.base:Luminosity emitted = 8.33278e+42 erg / s Luminosity absorbed = 2.66283e+42 erg / s Luminosity requested = 1.05928e+43 erg / s\n"
     ]
    },
    {
     "name": "stdout",
     "output_type": "stream",
     "text": [
      "[\u001b[1mtardis.simulation.base\u001b[0m][\u001b[1;37mINFO\u001b[0m   ]  Plasma stratification:\n",
      "\t              t_rad    next_t_rad         w    next_w\n",
      "\tShell                                                \n",
      "\t0      11562.006340  10655.549804  0.509603  0.430187\n",
      "\t5      11799.980145  11063.665621  0.194437  0.155127\n",
      "\t10     11482.742597  10926.058943  0.124721  0.094642\n",
      "\t15     11124.799749  10477.041314  0.093597  0.072578\n",
      "\n",
      " (\u001b[1mbase.py\u001b[0m:350)\n"
     ]
    },
    {
     "name": "stderr",
     "output_type": "stream",
     "text": [
      "\u001b[1;37mINFO\u001b[0m:tardis.simulation.base:Plasma stratification:\n",
      "\t              t_rad    next_t_rad         w    next_w\n",
      "\tShell                                                \n",
      "\t0      11562.006340  10655.549804  0.509603  0.430187\n",
      "\t5      11799.980145  11063.665621  0.194437  0.155127\n",
      "\t10     11482.742597  10926.058943  0.124721  0.094642\n",
      "\t15     11124.799749  10477.041314  0.093597  0.072578\n",
      "\n",
      "\n"
     ]
    },
    {
     "name": "stdout",
     "output_type": "stream",
     "text": [
      "[\u001b[1mtardis.simulation.base\u001b[0m][\u001b[1;37mINFO\u001b[0m   ]  t_inner 10025.564 K -- next t_inner 11303.643 K (\u001b[1mbase.py\u001b[0m:352)\n"
     ]
    },
    {
     "name": "stderr",
     "output_type": "stream",
     "text": [
      "\u001b[1;37mINFO\u001b[0m:tardis.simulation.base:t_inner 10025.564 K -- next t_inner 11303.643 K\n"
     ]
    },
    {
     "name": "stdout",
     "output_type": "stream",
     "text": [
      "[\u001b[1mtardis.simulation.base\u001b[0m][\u001b[1;37mINFO\u001b[0m   ]  Starting iteration 8/20 (\u001b[1mbase.py\u001b[0m:268)\n"
     ]
    },
    {
     "name": "stderr",
     "output_type": "stream",
     "text": [
      "\u001b[1;37mINFO\u001b[0m:tardis.simulation.base:Starting iteration 8/20\n"
     ]
    },
    {
     "name": "stdout",
     "output_type": "stream",
     "text": [
      "[\u001b[1mtardis.simulation.base\u001b[0m][\u001b[1;37mINFO\u001b[0m   ]  Luminosity emitted = 1.34650e+43 erg / s Luminosity absorbed = 4.30670e+42 erg / s Luminosity requested = 1.05928e+43 erg / s (\u001b[1mbase.py\u001b[0m:359)\n"
     ]
    },
    {
     "name": "stderr",
     "output_type": "stream",
     "text": [
      "\u001b[1;37mINFO\u001b[0m:tardis.simulation.base:Luminosity emitted = 1.34650e+43 erg / s Luminosity absorbed = 4.30670e+42 erg / s Luminosity requested = 1.05928e+43 erg / s\n"
     ]
    },
    {
     "name": "stdout",
     "output_type": "stream",
     "text": [
      "[\u001b[1mtardis.simulation.base\u001b[0m][\u001b[1;37mINFO\u001b[0m   ]  Plasma stratification:\n",
      "\t              t_rad    next_t_rad         w    next_w\n",
      "\tShell                                                \n",
      "\t0      10655.549804  11572.119736  0.430187  0.496558\n",
      "\t5      11063.665621  11696.304249  0.155127  0.198228\n",
      "\t10     10926.058943  11482.609682  0.094642  0.124382\n",
      "\t15     10477.041314  11098.080451  0.072578  0.093537\n",
      "\n",
      " (\u001b[1mbase.py\u001b[0m:350)\n"
     ]
    },
    {
     "name": "stderr",
     "output_type": "stream",
     "text": [
      "\u001b[1;37mINFO\u001b[0m:tardis.simulation.base:Plasma stratification:\n",
      "\t              t_rad    next_t_rad         w    next_w\n",
      "\tShell                                                \n",
      "\t0      10655.549804  11572.119736  0.430187  0.496558\n",
      "\t5      11063.665621  11696.304249  0.155127  0.198228\n",
      "\t10     10926.058943  11482.609682  0.094642  0.124382\n",
      "\t15     10477.041314  11098.080451  0.072578  0.093537\n",
      "\n",
      "\n"
     ]
    },
    {
     "name": "stdout",
     "output_type": "stream",
     "text": [
      "[\u001b[1mtardis.simulation.base\u001b[0m][\u001b[1;37mINFO\u001b[0m   ]  t_inner 11303.643 K -- next t_inner 10025.810 K (\u001b[1mbase.py\u001b[0m:352)\n"
     ]
    },
    {
     "name": "stderr",
     "output_type": "stream",
     "text": [
      "\u001b[1;37mINFO\u001b[0m:tardis.simulation.base:t_inner 11303.643 K -- next t_inner 10025.810 K\n"
     ]
    },
    {
     "name": "stdout",
     "output_type": "stream",
     "text": [
      "[\u001b[1mtardis.simulation.base\u001b[0m][\u001b[1;37mINFO\u001b[0m   ]  Starting iteration 9/20 (\u001b[1mbase.py\u001b[0m:268)\n"
     ]
    },
    {
     "name": "stderr",
     "output_type": "stream",
     "text": [
      "\u001b[1;37mINFO\u001b[0m:tardis.simulation.base:Starting iteration 9/20\n"
     ]
    },
    {
     "name": "stdout",
     "output_type": "stream",
     "text": [
      "[\u001b[1mtardis.simulation.base\u001b[0m][\u001b[1;37mINFO\u001b[0m   ]  Luminosity emitted = 8.36983e+42 erg / s Luminosity absorbed = 2.63049e+42 erg / s Luminosity requested = 1.05928e+43 erg / s (\u001b[1mbase.py\u001b[0m:359)\n"
     ]
    },
    {
     "name": "stderr",
     "output_type": "stream",
     "text": [
      "\u001b[1;37mINFO\u001b[0m:tardis.simulation.base:Luminosity emitted = 8.36983e+42 erg / s Luminosity absorbed = 2.63049e+42 erg / s Luminosity requested = 1.05928e+43 erg / s\n"
     ]
    },
    {
     "name": "stdout",
     "output_type": "stream",
     "text": [
      "[\u001b[1mtardis.simulation.base\u001b[0m][\u001b[1;37mINFO\u001b[0m   ]  Plasma stratification:\n",
      "\t              t_rad    next_t_rad         w    next_w\n",
      "\tShell                                                \n",
      "\t0      11572.119736  10590.775937  0.496558  0.439574\n",
      "\t5      11696.304249  11060.842307  0.198228  0.154917\n",
      "\t10     11482.609682  10761.665022  0.124382  0.099840\n",
      "\t15     11098.080451  10436.629671  0.093537  0.074676\n",
      "\n",
      " (\u001b[1mbase.py\u001b[0m:350)\n"
     ]
    },
    {
     "name": "stderr",
     "output_type": "stream",
     "text": [
      "\u001b[1;37mINFO\u001b[0m:tardis.simulation.base:Plasma stratification:\n",
      "\t              t_rad    next_t_rad         w    next_w\n",
      "\tShell                                                \n",
      "\t0      11572.119736  10590.775937  0.496558  0.439574\n",
      "\t5      11696.304249  11060.842307  0.198228  0.154917\n",
      "\t10     11482.609682  10761.665022  0.124382  0.099840\n",
      "\t15     11098.080451  10436.629671  0.093537  0.074676\n",
      "\n",
      "\n"
     ]
    },
    {
     "name": "stdout",
     "output_type": "stream",
     "text": [
      "[\u001b[1mtardis.simulation.base\u001b[0m][\u001b[1;37mINFO\u001b[0m   ]  t_inner 10025.810 K -- next t_inner 11278.874 K (\u001b[1mbase.py\u001b[0m:352)\n"
     ]
    },
    {
     "name": "stderr",
     "output_type": "stream",
     "text": [
      "\u001b[1;37mINFO\u001b[0m:tardis.simulation.base:t_inner 10025.810 K -- next t_inner 11278.874 K\n"
     ]
    },
    {
     "name": "stdout",
     "output_type": "stream",
     "text": [
      "[\u001b[1mtardis.simulation.base\u001b[0m][\u001b[1;37mINFO\u001b[0m   ]  Starting iteration 10/20 (\u001b[1mbase.py\u001b[0m:268)\n"
     ]
    },
    {
     "name": "stderr",
     "output_type": "stream",
     "text": [
      "\u001b[1;37mINFO\u001b[0m:tardis.simulation.base:Starting iteration 10/20\n"
     ]
    },
    {
     "name": "stdout",
     "output_type": "stream",
     "text": [
      "[\u001b[1mtardis.simulation.base\u001b[0m][\u001b[1;37mINFO\u001b[0m   ]  Luminosity emitted = 1.32624e+43 erg / s Luminosity absorbed = 4.34986e+42 erg / s Luminosity requested = 1.05928e+43 erg / s (\u001b[1mbase.py\u001b[0m:359)\n"
     ]
    },
    {
     "name": "stderr",
     "output_type": "stream",
     "text": [
      "\u001b[1;37mINFO\u001b[0m:tardis.simulation.base:Luminosity emitted = 1.32624e+43 erg / s Luminosity absorbed = 4.34986e+42 erg / s Luminosity requested = 1.05928e+43 erg / s\n"
     ]
    },
    {
     "name": "stdout",
     "output_type": "stream",
     "text": [
      "[\u001b[1mtardis.simulation.base\u001b[0m][\u001b[1;37mINFO\u001b[0m   ]  Plasma stratification:\n",
      "\t              t_rad    next_t_rad         w    next_w\n",
      "\tShell                                                \n",
      "\t0      10590.775937  11489.769556  0.439574  0.511403\n",
      "\t5      11060.842307  11791.517605  0.154917  0.191127\n",
      "\t10     10761.665022  11527.732208  0.099840  0.120106\n",
      "\t15     10436.629671  11111.114390  0.074676  0.091713\n",
      "\n",
      " (\u001b[1mbase.py\u001b[0m:350)\n"
     ]
    },
    {
     "name": "stderr",
     "output_type": "stream",
     "text": [
      "\u001b[1;37mINFO\u001b[0m:tardis.simulation.base:Plasma stratification:\n",
      "\t              t_rad    next_t_rad         w    next_w\n",
      "\tShell                                                \n",
      "\t0      10590.775937  11489.769556  0.439574  0.511403\n",
      "\t5      11060.842307  11791.517605  0.154917  0.191127\n",
      "\t10     10761.665022  11527.732208  0.099840  0.120106\n",
      "\t15     10436.629671  11111.114390  0.074676  0.091713\n",
      "\n",
      "\n"
     ]
    },
    {
     "name": "stdout",
     "output_type": "stream",
     "text": [
      "[\u001b[1mtardis.simulation.base\u001b[0m][\u001b[1;37mINFO\u001b[0m   ]  t_inner 11278.874 K -- next t_inner 10079.967 K (\u001b[1mbase.py\u001b[0m:352)\n"
     ]
    },
    {
     "name": "stderr",
     "output_type": "stream",
     "text": [
      "\u001b[1;37mINFO\u001b[0m:tardis.simulation.base:t_inner 11278.874 K -- next t_inner 10079.967 K\n"
     ]
    },
    {
     "name": "stdout",
     "output_type": "stream",
     "text": [
      "[\u001b[1mtardis.simulation.base\u001b[0m][\u001b[1;37mINFO\u001b[0m   ]  Starting iteration 11/20 (\u001b[1mbase.py\u001b[0m:268)\n"
     ]
    },
    {
     "name": "stderr",
     "output_type": "stream",
     "text": [
      "\u001b[1;37mINFO\u001b[0m:tardis.simulation.base:Starting iteration 11/20\n"
     ]
    },
    {
     "name": "stdout",
     "output_type": "stream",
     "text": [
      "[\u001b[1mtardis.simulation.base\u001b[0m][\u001b[1;37mINFO\u001b[0m   ]  Luminosity emitted = 8.51915e+42 erg / s Luminosity absorbed = 2.72009e+42 erg / s Luminosity requested = 1.05928e+43 erg / s (\u001b[1mbase.py\u001b[0m:359)\n"
     ]
    },
    {
     "name": "stderr",
     "output_type": "stream",
     "text": [
      "\u001b[1;37mINFO\u001b[0m:tardis.simulation.base:Luminosity emitted = 8.51915e+42 erg / s Luminosity absorbed = 2.72009e+42 erg / s Luminosity requested = 1.05928e+43 erg / s\n"
     ]
    },
    {
     "name": "stdout",
     "output_type": "stream",
     "text": [
      "[\u001b[1mtardis.simulation.base\u001b[0m][\u001b[1;37mINFO\u001b[0m   ]  Plasma stratification:\n",
      "\t              t_rad    next_t_rad         w    next_w\n",
      "\tShell                                                \n",
      "\t0      11489.769556  10664.234475  0.511403  0.437272\n",
      "\t5      11791.517605  11091.518839  0.191127  0.156638\n",
      "\t10     11527.732208  10885.771059  0.120106  0.096973\n",
      "\t15     11111.114390  10484.177251  0.091713  0.074261\n",
      "\n",
      " (\u001b[1mbase.py\u001b[0m:350)\n"
     ]
    },
    {
     "name": "stderr",
     "output_type": "stream",
     "text": [
      "\u001b[1;37mINFO\u001b[0m:tardis.simulation.base:Plasma stratification:\n",
      "\t              t_rad    next_t_rad         w    next_w\n",
      "\tShell                                                \n",
      "\t0      11489.769556  10664.234475  0.511403  0.437272\n",
      "\t5      11791.517605  11091.518839  0.191127  0.156638\n",
      "\t10     11527.732208  10885.771059  0.120106  0.096973\n",
      "\t15     11111.114390  10484.177251  0.091713  0.074261\n",
      "\n",
      "\n"
     ]
    },
    {
     "name": "stdout",
     "output_type": "stream",
     "text": [
      "[\u001b[1mtardis.simulation.base\u001b[0m][\u001b[1;37mINFO\u001b[0m   ]  t_inner 10079.967 K -- next t_inner 11239.980 K (\u001b[1mbase.py\u001b[0m:352)\n"
     ]
    },
    {
     "name": "stderr",
     "output_type": "stream",
     "text": [
      "\u001b[1;37mINFO\u001b[0m:tardis.simulation.base:t_inner 10079.967 K -- next t_inner 11239.980 K\n"
     ]
    },
    {
     "name": "stdout",
     "output_type": "stream",
     "text": [
      "[\u001b[1mtardis.simulation.base\u001b[0m][\u001b[1;37mINFO\u001b[0m   ]  Starting iteration 12/20 (\u001b[1mbase.py\u001b[0m:268)\n"
     ]
    },
    {
     "name": "stderr",
     "output_type": "stream",
     "text": [
      "\u001b[1;37mINFO\u001b[0m:tardis.simulation.base:Starting iteration 12/20\n"
     ]
    },
    {
     "name": "stdout",
     "output_type": "stream",
     "text": [
      "[\u001b[1mtardis.simulation.base\u001b[0m][\u001b[1;37mINFO\u001b[0m   ]  Luminosity emitted = 1.30886e+43 erg / s Luminosity absorbed = 4.28617e+42 erg / s Luminosity requested = 1.05928e+43 erg / s (\u001b[1mbase.py\u001b[0m:359)\n"
     ]
    },
    {
     "name": "stderr",
     "output_type": "stream",
     "text": [
      "\u001b[1;37mINFO\u001b[0m:tardis.simulation.base:Luminosity emitted = 1.30886e+43 erg / s Luminosity absorbed = 4.28617e+42 erg / s Luminosity requested = 1.05928e+43 erg / s\n"
     ]
    },
    {
     "name": "stdout",
     "output_type": "stream",
     "text": [
      "[\u001b[1mtardis.simulation.base\u001b[0m][\u001b[1;37mINFO\u001b[0m   ]  Plasma stratification:\n",
      "\t              t_rad    next_t_rad         w    next_w\n",
      "\tShell                                                \n",
      "\t0      10664.234475  11510.842068  0.437272  0.495944\n",
      "\t5      11091.518839  11716.009425  0.156638  0.189856\n",
      "\t10     10885.771059  11479.636914  0.096973  0.120067\n",
      "\t15     10484.177251  11117.963837  0.074261  0.090628\n",
      "\n",
      " (\u001b[1mbase.py\u001b[0m:350)\n"
     ]
    },
    {
     "name": "stderr",
     "output_type": "stream",
     "text": [
      "\u001b[1;37mINFO\u001b[0m:tardis.simulation.base:Plasma stratification:\n",
      "\t              t_rad    next_t_rad         w    next_w\n",
      "\tShell                                                \n",
      "\t0      10664.234475  11510.842068  0.437272  0.495944\n",
      "\t5      11091.518839  11716.009425  0.156638  0.189856\n",
      "\t10     10885.771059  11479.636914  0.096973  0.120067\n",
      "\t15     10484.177251  11117.963837  0.074261  0.090628\n",
      "\n",
      "\n"
     ]
    },
    {
     "name": "stdout",
     "output_type": "stream",
     "text": [
      "[\u001b[1mtardis.simulation.base\u001b[0m][\u001b[1;37mINFO\u001b[0m   ]  t_inner 11239.980 K -- next t_inner 10111.668 K (\u001b[1mbase.py\u001b[0m:352)\n"
     ]
    },
    {
     "name": "stderr",
     "output_type": "stream",
     "text": [
      "\u001b[1;37mINFO\u001b[0m:tardis.simulation.base:t_inner 11239.980 K -- next t_inner 10111.668 K\n"
     ]
    },
    {
     "name": "stdout",
     "output_type": "stream",
     "text": [
      "[\u001b[1mtardis.simulation.base\u001b[0m][\u001b[1;37mINFO\u001b[0m   ]  Starting iteration 13/20 (\u001b[1mbase.py\u001b[0m:268)\n"
     ]
    },
    {
     "name": "stderr",
     "output_type": "stream",
     "text": [
      "\u001b[1;37mINFO\u001b[0m:tardis.simulation.base:Starting iteration 13/20\n"
     ]
    },
    {
     "name": "stdout",
     "output_type": "stream",
     "text": [
      "[\u001b[1mtardis.simulation.base\u001b[0m][\u001b[1;37mINFO\u001b[0m   ]  Luminosity emitted = 8.65047e+42 erg / s Luminosity absorbed = 2.72874e+42 erg / s Luminosity requested = 1.05928e+43 erg / s (\u001b[1mbase.py\u001b[0m:359)\n"
     ]
    },
    {
     "name": "stderr",
     "output_type": "stream",
     "text": [
      "\u001b[1;37mINFO\u001b[0m:tardis.simulation.base:Luminosity emitted = 8.65047e+42 erg / s Luminosity absorbed = 2.72874e+42 erg / s Luminosity requested = 1.05928e+43 erg / s\n"
     ]
    },
    {
     "name": "stdout",
     "output_type": "stream",
     "text": [
      "[\u001b[1mtardis.simulation.base\u001b[0m][\u001b[1;37mINFO\u001b[0m   ]  Plasma stratification:\n",
      "\t              t_rad    next_t_rad         w    next_w\n",
      "\tShell                                                \n",
      "\t0      11510.842068  10636.025493  0.495944  0.446635\n",
      "\t5      11716.009425  11175.711706  0.189856  0.154916\n",
      "\t10     11479.636914  10916.188023  0.120067  0.097843\n",
      "\t15     11117.963837  10431.720831  0.090628  0.077032\n",
      "\n",
      " (\u001b[1mbase.py\u001b[0m:350)\n"
     ]
    },
    {
     "name": "stderr",
     "output_type": "stream",
     "text": [
      "\u001b[1;37mINFO\u001b[0m:tardis.simulation.base:Plasma stratification:\n",
      "\t              t_rad    next_t_rad         w    next_w\n",
      "\tShell                                                \n",
      "\t0      11510.842068  10636.025493  0.495944  0.446635\n",
      "\t5      11716.009425  11175.711706  0.189856  0.154916\n",
      "\t10     11479.636914  10916.188023  0.120067  0.097843\n",
      "\t15     11117.963837  10431.720831  0.090628  0.077032\n",
      "\n",
      "\n"
     ]
    },
    {
     "name": "stdout",
     "output_type": "stream",
     "text": [
      "[\u001b[1mtardis.simulation.base\u001b[0m][\u001b[1;37mINFO\u001b[0m   ]  t_inner 10111.668 K -- next t_inner 11189.420 K (\u001b[1mbase.py\u001b[0m:352)\n"
     ]
    },
    {
     "name": "stderr",
     "output_type": "stream",
     "text": [
      "\u001b[1;37mINFO\u001b[0m:tardis.simulation.base:t_inner 10111.668 K -- next t_inner 11189.420 K\n"
     ]
    },
    {
     "name": "stdout",
     "output_type": "stream",
     "text": [
      "[\u001b[1mtardis.simulation.base\u001b[0m][\u001b[1;37mINFO\u001b[0m   ]  Starting iteration 14/20 (\u001b[1mbase.py\u001b[0m:268)\n"
     ]
    },
    {
     "name": "stderr",
     "output_type": "stream",
     "text": [
      "\u001b[1;37mINFO\u001b[0m:tardis.simulation.base:Starting iteration 14/20\n"
     ]
    },
    {
     "name": "stdout",
     "output_type": "stream",
     "text": [
      "[\u001b[1mtardis.simulation.base\u001b[0m][\u001b[1;37mINFO\u001b[0m   ]  Luminosity emitted = 1.28712e+43 erg / s Luminosity absorbed = 4.19242e+42 erg / s Luminosity requested = 1.05928e+43 erg / s (\u001b[1mbase.py\u001b[0m:359)\n"
     ]
    },
    {
     "name": "stderr",
     "output_type": "stream",
     "text": [
      "\u001b[1;37mINFO\u001b[0m:tardis.simulation.base:Luminosity emitted = 1.28712e+43 erg / s Luminosity absorbed = 4.19242e+42 erg / s Luminosity requested = 1.05928e+43 erg / s\n"
     ]
    },
    {
     "name": "stdout",
     "output_type": "stream",
     "text": [
      "[\u001b[1mtardis.simulation.base\u001b[0m][\u001b[1;37mINFO\u001b[0m   ]  Plasma stratification:\n",
      "\t              t_rad    next_t_rad         w    next_w\n",
      "\tShell                                                \n",
      "\t0      10636.025493  11423.118214  0.446635  0.503706\n",
      "\t5      11175.711706  11682.224028  0.154916  0.189577\n",
      "\t10     10916.188023  11389.994295  0.097843  0.121114\n",
      "\t15     10431.720831  11029.450833  0.077032  0.091350\n",
      "\n",
      " (\u001b[1mbase.py\u001b[0m:350)\n"
     ]
    },
    {
     "name": "stderr",
     "output_type": "stream",
     "text": [
      "\u001b[1;37mINFO\u001b[0m:tardis.simulation.base:Plasma stratification:\n",
      "\t              t_rad    next_t_rad         w    next_w\n",
      "\tShell                                                \n",
      "\t0      10636.025493  11423.118214  0.446635  0.503706\n",
      "\t5      11175.711706  11682.224028  0.154916  0.189577\n",
      "\t10     10916.188023  11389.994295  0.097843  0.121114\n",
      "\t15     10431.720831  11029.450833  0.077032  0.091350\n",
      "\n",
      "\n"
     ]
    },
    {
     "name": "stdout",
     "output_type": "stream",
     "text": [
      "[\u001b[1mtardis.simulation.base\u001b[0m][\u001b[1;37mINFO\u001b[0m   ]  t_inner 11189.420 K -- next t_inner 10150.866 K (\u001b[1mbase.py\u001b[0m:352)\n"
     ]
    },
    {
     "name": "stderr",
     "output_type": "stream",
     "text": [
      "\u001b[1;37mINFO\u001b[0m:tardis.simulation.base:t_inner 11189.420 K -- next t_inner 10150.866 K\n"
     ]
    },
    {
     "name": "stdout",
     "output_type": "stream",
     "text": [
      "[\u001b[1mtardis.simulation.base\u001b[0m][\u001b[1;37mINFO\u001b[0m   ]  Starting iteration 15/20 (\u001b[1mbase.py\u001b[0m:268)\n"
     ]
    },
    {
     "name": "stderr",
     "output_type": "stream",
     "text": [
      "\u001b[1;37mINFO\u001b[0m:tardis.simulation.base:Starting iteration 15/20\n"
     ]
    },
    {
     "name": "stdout",
     "output_type": "stream",
     "text": [
      "[\u001b[1mtardis.simulation.base\u001b[0m][\u001b[1;37mINFO\u001b[0m   ]  Luminosity emitted = 8.76501e+42 erg / s Luminosity absorbed = 2.79433e+42 erg / s Luminosity requested = 1.05928e+43 erg / s (\u001b[1mbase.py\u001b[0m:359)\n"
     ]
    },
    {
     "name": "stderr",
     "output_type": "stream",
     "text": [
      "\u001b[1;37mINFO\u001b[0m:tardis.simulation.base:Luminosity emitted = 8.76501e+42 erg / s Luminosity absorbed = 2.79433e+42 erg / s Luminosity requested = 1.05928e+43 erg / s\n"
     ]
    },
    {
     "name": "stdout",
     "output_type": "stream",
     "text": [
      "[\u001b[1mtardis.simulation.base\u001b[0m][\u001b[1;37mINFO\u001b[0m   ]  Plasma stratification:\n",
      "\t              t_rad    next_t_rad         w    next_w\n",
      "\tShell                                                \n",
      "\t0      11423.118214  10634.831735  0.503706  0.452948\n",
      "\t5      11682.224028  11112.411355  0.189577  0.159316\n",
      "\t10     11389.994295  10831.887277  0.121114  0.101805\n",
      "\t15     11029.450833  10396.372864  0.091350  0.078776\n",
      "\n",
      " (\u001b[1mbase.py\u001b[0m:350)\n"
     ]
    },
    {
     "name": "stderr",
     "output_type": "stream",
     "text": [
      "\u001b[1;37mINFO\u001b[0m:tardis.simulation.base:Plasma stratification:\n",
      "\t              t_rad    next_t_rad         w    next_w\n",
      "\tShell                                                \n",
      "\t0      11423.118214  10634.831735  0.503706  0.452948\n",
      "\t5      11682.224028  11112.411355  0.189577  0.159316\n",
      "\t10     11389.994295  10831.887277  0.121114  0.101805\n",
      "\t15     11029.450833  10396.372864  0.091350  0.078776\n",
      "\n",
      "\n"
     ]
    },
    {
     "name": "stdout",
     "output_type": "stream",
     "text": [
      "[\u001b[1mtardis.simulation.base\u001b[0m][\u001b[1;37mINFO\u001b[0m   ]  t_inner 10150.866 K -- next t_inner 11159.164 K (\u001b[1mbase.py\u001b[0m:352)\n"
     ]
    },
    {
     "name": "stderr",
     "output_type": "stream",
     "text": [
      "\u001b[1;37mINFO\u001b[0m:tardis.simulation.base:t_inner 10150.866 K -- next t_inner 11159.164 K\n"
     ]
    },
    {
     "name": "stdout",
     "output_type": "stream",
     "text": [
      "[\u001b[1mtardis.simulation.base\u001b[0m][\u001b[1;37mINFO\u001b[0m   ]  Starting iteration 16/20 (\u001b[1mbase.py\u001b[0m:268)\n"
     ]
    },
    {
     "name": "stderr",
     "output_type": "stream",
     "text": [
      "\u001b[1;37mINFO\u001b[0m:tardis.simulation.base:Starting iteration 16/20\n"
     ]
    },
    {
     "name": "stdout",
     "output_type": "stream",
     "text": [
      "[\u001b[1mtardis.simulation.base\u001b[0m][\u001b[1;37mINFO\u001b[0m   ]  Luminosity emitted = 1.27462e+43 erg / s Luminosity absorbed = 4.13373e+42 erg / s Luminosity requested = 1.05928e+43 erg / s (\u001b[1mbase.py\u001b[0m:359)\n"
     ]
    },
    {
     "name": "stderr",
     "output_type": "stream",
     "text": [
      "\u001b[1;37mINFO\u001b[0m:tardis.simulation.base:Luminosity emitted = 1.27462e+43 erg / s Luminosity absorbed = 4.13373e+42 erg / s Luminosity requested = 1.05928e+43 erg / s\n"
     ]
    },
    {
     "name": "stdout",
     "output_type": "stream",
     "text": [
      "[\u001b[1mtardis.simulation.base\u001b[0m][\u001b[1;37mINFO\u001b[0m   ]  Plasma stratification:\n",
      "\t              t_rad    next_t_rad         w    next_w\n",
      "\tShell                                                \n",
      "\t0      10634.831735  11415.925493  0.452948  0.501153\n",
      "\t5      11112.411355  11688.667754  0.159316  0.188430\n",
      "\t10     10831.887277  11397.519913  0.101805  0.120134\n",
      "\t15     10396.372864  11045.200458  0.078776  0.090180\n",
      "\n",
      " (\u001b[1mbase.py\u001b[0m:350)\n"
     ]
    },
    {
     "name": "stderr",
     "output_type": "stream",
     "text": [
      "\u001b[1;37mINFO\u001b[0m:tardis.simulation.base:Plasma stratification:\n",
      "\t              t_rad    next_t_rad         w    next_w\n",
      "\tShell                                                \n",
      "\t0      10634.831735  11415.925493  0.452948  0.501153\n",
      "\t5      11112.411355  11688.667754  0.159316  0.188430\n",
      "\t10     10831.887277  11397.519913  0.101805  0.120134\n",
      "\t15     10396.372864  11045.200458  0.078776  0.090180\n",
      "\n",
      "\n"
     ]
    },
    {
     "name": "stdout",
     "output_type": "stream",
     "text": [
      "[\u001b[1mtardis.simulation.base\u001b[0m][\u001b[1;37mINFO\u001b[0m   ]  t_inner 11159.164 K -- next t_inner 10172.913 K (\u001b[1mbase.py\u001b[0m:352)\n"
     ]
    },
    {
     "name": "stderr",
     "output_type": "stream",
     "text": [
      "\u001b[1;37mINFO\u001b[0m:tardis.simulation.base:t_inner 11159.164 K -- next t_inner 10172.913 K\n"
     ]
    },
    {
     "name": "stdout",
     "output_type": "stream",
     "text": [
      "[\u001b[1mtardis.simulation.base\u001b[0m][\u001b[1;37mINFO\u001b[0m   ]  Starting iteration 17/20 (\u001b[1mbase.py\u001b[0m:268)\n"
     ]
    },
    {
     "name": "stderr",
     "output_type": "stream",
     "text": [
      "\u001b[1;37mINFO\u001b[0m:tardis.simulation.base:Starting iteration 17/20\n"
     ]
    },
    {
     "name": "stdout",
     "output_type": "stream",
     "text": [
      "[\u001b[1mtardis.simulation.base\u001b[0m][\u001b[1;37mINFO\u001b[0m   ]  Luminosity emitted = 8.86785e+42 erg / s Luminosity absorbed = 2.79094e+42 erg / s Luminosity requested = 1.05928e+43 erg / s (\u001b[1mbase.py\u001b[0m:359)\n"
     ]
    },
    {
     "name": "stderr",
     "output_type": "stream",
     "text": [
      "\u001b[1;37mINFO\u001b[0m:tardis.simulation.base:Luminosity emitted = 8.86785e+42 erg / s Luminosity absorbed = 2.79094e+42 erg / s Luminosity requested = 1.05928e+43 erg / s\n"
     ]
    },
    {
     "name": "stdout",
     "output_type": "stream",
     "text": [
      "[\u001b[1mtardis.simulation.base\u001b[0m][\u001b[1;37mINFO\u001b[0m   ]  Plasma stratification:\n",
      "\t              t_rad    next_t_rad         w    next_w\n",
      "\tShell                                                \n",
      "\t0      11415.925493  10678.510651  0.501153  0.453127\n",
      "\t5      11688.667754  11152.822099  0.188430  0.159726\n",
      "\t10     11397.519913  10907.112682  0.120134  0.099725\n",
      "\t15     11045.200458  10508.816973  0.090180  0.076667\n",
      "\n",
      " (\u001b[1mbase.py\u001b[0m:350)\n"
     ]
    },
    {
     "name": "stderr",
     "output_type": "stream",
     "text": [
      "\u001b[1;37mINFO\u001b[0m:tardis.simulation.base:Plasma stratification:\n",
      "\t              t_rad    next_t_rad         w    next_w\n",
      "\tShell                                                \n",
      "\t0      11415.925493  10678.510651  0.501153  0.453127\n",
      "\t5      11688.667754  11152.822099  0.188430  0.159726\n",
      "\t10     11397.519913  10907.112682  0.120134  0.099725\n",
      "\t15     11045.200458  10508.816973  0.090180  0.076667\n",
      "\n",
      "\n"
     ]
    },
    {
     "name": "stdout",
     "output_type": "stream",
     "text": [
      "[\u001b[1mtardis.simulation.base\u001b[0m][\u001b[1;37mINFO\u001b[0m   ]  t_inner 10172.913 K -- next t_inner 11118.359 K (\u001b[1mbase.py\u001b[0m:352)\n"
     ]
    },
    {
     "name": "stderr",
     "output_type": "stream",
     "text": [
      "\u001b[1;37mINFO\u001b[0m:tardis.simulation.base:t_inner 10172.913 K -- next t_inner 11118.359 K\n"
     ]
    },
    {
     "name": "stdout",
     "output_type": "stream",
     "text": [
      "[\u001b[1mtardis.simulation.base\u001b[0m][\u001b[1;37mINFO\u001b[0m   ]  Starting iteration 18/20 (\u001b[1mbase.py\u001b[0m:268)\n"
     ]
    },
    {
     "name": "stderr",
     "output_type": "stream",
     "text": [
      "\u001b[1;37mINFO\u001b[0m:tardis.simulation.base:Starting iteration 18/20\n"
     ]
    },
    {
     "name": "stdout",
     "output_type": "stream",
     "text": [
      "[\u001b[1mtardis.simulation.base\u001b[0m][\u001b[1;37mINFO\u001b[0m   ]  Luminosity emitted = 1.24749e+43 erg / s Luminosity absorbed = 4.15445e+42 erg / s Luminosity requested = 1.05928e+43 erg / s (\u001b[1mbase.py\u001b[0m:359)\n"
     ]
    },
    {
     "name": "stderr",
     "output_type": "stream",
     "text": [
      "\u001b[1;37mINFO\u001b[0m:tardis.simulation.base:Luminosity emitted = 1.24749e+43 erg / s Luminosity absorbed = 4.15445e+42 erg / s Luminosity requested = 1.05928e+43 erg / s\n"
     ]
    },
    {
     "name": "stdout",
     "output_type": "stream",
     "text": [
      "[\u001b[1mtardis.simulation.base\u001b[0m][\u001b[1;37mINFO\u001b[0m   ]  Plasma stratification:\n",
      "\t              t_rad    next_t_rad         w    next_w\n",
      "\tShell                                                \n",
      "\t0      10678.510651  11482.446420  0.453127  0.481917\n",
      "\t5      11152.822099  11693.549165  0.159726  0.184456\n",
      "\t10     10907.112682  11472.013555  0.099725  0.115208\n",
      "\t15     10508.816973  10997.309982  0.076667  0.089730\n",
      "\n",
      " (\u001b[1mbase.py\u001b[0m:350)\n"
     ]
    },
    {
     "name": "stderr",
     "output_type": "stream",
     "text": [
      "\u001b[1;37mINFO\u001b[0m:tardis.simulation.base:Plasma stratification:\n",
      "\t              t_rad    next_t_rad         w    next_w\n",
      "\tShell                                                \n",
      "\t0      10678.510651  11482.446420  0.453127  0.481917\n",
      "\t5      11152.822099  11693.549165  0.159726  0.184456\n",
      "\t10     10907.112682  11472.013555  0.099725  0.115208\n",
      "\t15     10508.816973  10997.309982  0.076667  0.089730\n",
      "\n",
      "\n"
     ]
    },
    {
     "name": "stdout",
     "output_type": "stream",
     "text": [
      "[\u001b[1mtardis.simulation.base\u001b[0m][\u001b[1;37mINFO\u001b[0m   ]  t_inner 11118.359 K -- next t_inner 10245.337 K (\u001b[1mbase.py\u001b[0m:352)\n"
     ]
    },
    {
     "name": "stderr",
     "output_type": "stream",
     "text": [
      "\u001b[1;37mINFO\u001b[0m:tardis.simulation.base:t_inner 11118.359 K -- next t_inner 10245.337 K\n"
     ]
    },
    {
     "name": "stdout",
     "output_type": "stream",
     "text": [
      "[\u001b[1mtardis.simulation.base\u001b[0m][\u001b[1;37mINFO\u001b[0m   ]  Starting iteration 19/20 (\u001b[1mbase.py\u001b[0m:268)\n"
     ]
    },
    {
     "name": "stderr",
     "output_type": "stream",
     "text": [
      "\u001b[1;37mINFO\u001b[0m:tardis.simulation.base:Starting iteration 19/20\n"
     ]
    },
    {
     "name": "stdout",
     "output_type": "stream",
     "text": [
      "[\u001b[1mtardis.simulation.base\u001b[0m][\u001b[1;37mINFO\u001b[0m   ]  Luminosity emitted = 9.09476e+42 erg / s Luminosity absorbed = 2.89713e+42 erg / s Luminosity requested = 1.05928e+43 erg / s (\u001b[1mbase.py\u001b[0m:359)\n"
     ]
    },
    {
     "name": "stderr",
     "output_type": "stream",
     "text": [
      "\u001b[1;37mINFO\u001b[0m:tardis.simulation.base:Luminosity emitted = 9.09476e+42 erg / s Luminosity absorbed = 2.89713e+42 erg / s Luminosity requested = 1.05928e+43 erg / s\n"
     ]
    },
    {
     "name": "stdout",
     "output_type": "stream",
     "text": [
      "[\u001b[1mtardis.simulation.base\u001b[0m][\u001b[1;37mINFO\u001b[0m   ]  Plasma stratification:\n",
      "\t              t_rad    next_t_rad         w    next_w\n",
      "\tShell                                                \n",
      "\t0      11482.446420  10834.729769  0.481917  0.438322\n",
      "\t5      11693.549165  11346.133670  0.184456  0.154204\n",
      "\t10     11472.013555  10996.421420  0.115208  0.099677\n",
      "\t15     10997.309982  10625.479432  0.089730  0.075531\n",
      "\n",
      " (\u001b[1mbase.py\u001b[0m:350)\n"
     ]
    },
    {
     "name": "stderr",
     "output_type": "stream",
     "text": [
      "\u001b[1;37mINFO\u001b[0m:tardis.simulation.base:Plasma stratification:\n",
      "\t              t_rad    next_t_rad         w    next_w\n",
      "\tShell                                                \n",
      "\t0      11482.446420  10834.729769  0.481917  0.438322\n",
      "\t5      11693.549165  11346.133670  0.184456  0.154204\n",
      "\t10     11472.013555  10996.421420  0.115208  0.099677\n",
      "\t15     10997.309982  10625.479432  0.089730  0.075531\n",
      "\n",
      "\n"
     ]
    },
    {
     "name": "stdout",
     "output_type": "stream",
     "text": [
      "[\u001b[1mtardis.simulation.base\u001b[0m][\u001b[1;37mINFO\u001b[0m   ]  t_inner 10245.337 K -- next t_inner 11056.949 K (\u001b[1mbase.py\u001b[0m:352)\n"
     ]
    },
    {
     "name": "stderr",
     "output_type": "stream",
     "text": [
      "\u001b[1;37mINFO\u001b[0m:tardis.simulation.base:t_inner 10245.337 K -- next t_inner 11056.949 K\n"
     ]
    },
    {
     "name": "stdout",
     "output_type": "stream",
     "text": [
      "[\u001b[1mtardis.simulation.base\u001b[0m][\u001b[1;37mINFO\u001b[0m   ]  Starting iteration 20/20 (\u001b[1mbase.py\u001b[0m:268)\n"
     ]
    },
    {
     "name": "stderr",
     "output_type": "stream",
     "text": [
      "\u001b[1;37mINFO\u001b[0m:tardis.simulation.base:Starting iteration 20/20\n"
     ]
    },
    {
     "name": "stdout",
     "output_type": "stream",
     "text": [
      "[\u001b[1mtardis.simulation.base\u001b[0m][\u001b[1;37mINFO\u001b[0m   ]  Luminosity emitted = 1.22623e+43 erg / s Luminosity absorbed = 4.00603e+42 erg / s Luminosity requested = 1.05928e+43 erg / s (\u001b[1mbase.py\u001b[0m:359)\n"
     ]
    },
    {
     "name": "stderr",
     "output_type": "stream",
     "text": [
      "\u001b[1;37mINFO\u001b[0m:tardis.simulation.base:Luminosity emitted = 1.22623e+43 erg / s Luminosity absorbed = 4.00603e+42 erg / s Luminosity requested = 1.05928e+43 erg / s\n"
     ]
    },
    {
     "name": "stdout",
     "output_type": "stream",
     "text": [
      "[\u001b[1mtardis.simulation.base\u001b[0m][\u001b[1;37mINFO\u001b[0m   ]  Simulation finished in 20 iterations and took 27.82 s (\u001b[1mbase.py\u001b[0m:308)\n"
     ]
    },
    {
     "name": "stderr",
     "output_type": "stream",
     "text": [
      "\u001b[1;37mINFO\u001b[0m:tardis.simulation.base:Simulation finished in 20 iterations and took 27.82 s\n"
     ]
    }
   ],
   "source": [
    "#TARDIS now uses the data in the data repo\n",
    "sim = run_tardis('tardis_example.yml')"
   ]
  },
  {
   "cell_type": "markdown",
   "metadata": {},
   "source": [
    "#### Plotting the Spectrum ####"
   ]
  },
  {
   "cell_type": "code",
   "execution_count": 5,
   "metadata": {},
   "outputs": [
    {
     "name": "stdout",
     "output_type": "stream",
     "text": [
      "Populating the interactive namespace from numpy and matplotlib\n"
     ]
    },
    {
     "data": {
      "text/plain": [
       "(3000, 9000)"
      ]
     },
     "execution_count": 5,
     "metadata": {},
     "output_type": "execute_result"
    },
    {
     "data": {
      "image/png": "[encoded data removed]",
      "text/plain": [
       "<Figure size 720x432 with 1 Axes>"
      ]
     },
     "metadata": {
      "needs_background": "light"
     },
     "output_type": "display_data"
    }
   ],
   "source": [
    "%pylab inline\n",
    "\n",
    "spectrum = sim.runner.spectrum\n",
    "spectrum_virtual = sim.runner.spectrum_virtual\n",
    "spectrum_integrated = sim.runner.spectrum_integrated\n",
    "\n",
    "figure(figsize=(10,6))\n",
    "plot(spectrum.wavelength, spectrum.luminosity_density_lambda, label='normal packets')\n",
    "plot(spectrum.wavelength, spectrum_virtual.luminosity_density_lambda, label='virtual packets')\n",
    "plot(spectrum.wavelength, spectrum_integrated.luminosity_density_lambda, label='formal integral')\n",
    "xlabel('Wavelength [$\\AA$]')\n",
    "ylabel('Luminosity [erg/s/$\\AA$]')\n",
    "legend()\n",
    "xlim(3000, 9000)"
   ]
  },
  {
   "cell_type": "code",
   "execution_count": null,
   "metadata": {},
   "outputs": [],
   "source": []
  }
 ],
 "metadata": {
  "kernelspec": {
   "display_name": "Python 3",
   "language": "python",
   "name": "python3"
  },
  "language_info": {
   "codemirror_mode": {
    "name": "ipython",
    "version": 3
   },
   "file_extension": ".py",
   "mimetype": "text/x-python",
   "name": "python",
   "nbconvert_exporter": "python",
   "pygments_lexer": "ipython3",
   "version": "3.6.10"
  },
  "nbsphinx": {
   "execute": "always",
   "timeout": -1
  },
  "widgets": {
   "application/vnd.jupyter.widget-state+json": {
    "state": {
     "1df57b413dec40488acbdad00dfa7108": {
      "model_module": "@jupyter-widgets/controls",
      "model_module_version": "1.5.0",
      "model_name": "HTMLModel",
      "state": {
       "_dom_classes": [],
       "_model_module": "@jupyter-widgets/controls",
       "_model_module_version": "1.5.0",
       "_model_name": "HTMLModel",
       "_view_count": null,
       "_view_module": "@jupyter-widgets/controls",
       "_view_module_version": "1.5.0",
       "_view_name": "HTMLView",
       "description": "",
       "description_tooltip": null,
       "layout": "IPY_MODEL_8d7e8c16669d4b9ca97f5464cfae78fe",
       "placeholder": "​",
       "style": "IPY_MODEL_2ba1f1b3982d47cf9a5582ff7a23799e",
       "value": " 73.7M/? [00:01&lt;00:00, 38.3MB/s]"
      }
     },
     "2ba1f1b3982d47cf9a5582ff7a23799e": {
      "model_module": "@jupyter-widgets/controls",
      "model_module_version": "1.5.0",
      "model_name": "DescriptionStyleModel",
      "state": {
       "_model_module": "@jupyter-widgets/controls",
       "_model_module_version": "1.5.0",
       "_model_name": "DescriptionStyleModel",
       "_view_count": null,
       "_view_module": "@jupyter-widgets/base",
       "_view_module_version": "1.2.0",
       "_view_name": "StyleView",
       "description_width": ""
      }
     },
     "69ab29ee6c7545c08f1037c9a4595f7f": {
      "model_module": "@jupyter-widgets/controls",
      "model_module_version": "1.5.0",
      "model_name": "ProgressStyleModel",
      "state": {
       "_model_module": "@jupyter-widgets/controls",
       "_model_module_version": "1.5.0",
       "_model_name": "ProgressStyleModel",
       "_view_count": null,
       "_view_module": "@jupyter-widgets/base",
       "_view_module_version": "1.2.0",
       "_view_name": "StyleView",
       "bar_color": null,
       "description_width": "initial"
      }
     },
     "8d7e8c16669d4b9ca97f5464cfae78fe": {
      "model_module": "@jupyter-widgets/base",
      "model_module_version": "1.2.0",
      "model_name": "LayoutModel",
      "state": {
       "_model_module": "@jupyter-widgets/base",
       "_model_module_version": "1.2.0",
       "_model_name": "LayoutModel",
       "_view_count": null,
       "_view_module": "@jupyter-widgets/base",
       "_view_module_version": "1.2.0",
       "_view_name": "LayoutView",
       "align_content": null,
       "align_items": null,
       "align_self": null,
       "border": null,
       "bottom": null,
       "display": null,
       "flex": null,
       "flex_flow": null,
       "grid_area": null,
       "grid_auto_columns": null,
       "grid_auto_flow": null,
       "grid_auto_rows": null,
       "grid_column": null,
       "grid_gap": null,
       "grid_row": null,
       "grid_template_areas": null,
       "grid_template_columns": null,
       "grid_template_rows": null,
       "height": null,
       "justify_content": null,
       "justify_items": null,
       "left": null,
       "margin": null,
       "max_height": null,
       "max_width": null,
       "min_height": null,
       "min_width": null,
       "object_fit": null,
       "object_position": null,
       "order": null,
       "overflow": null,
       "overflow_x": null,
       "overflow_y": null,
       "padding": null,
       "right": null,
       "top": null,
       "visibility": null,
       "width": null
      }
     },
     "8e6a42fd64e240fb9dbb0aec6c877426": {
      "model_module": "@jupyter-widgets/base",
      "model_module_version": "1.2.0",
      "model_name": "LayoutModel",
      "state": {
       "_model_module": "@jupyter-widgets/base",
       "_model_module_version": "1.2.0",
       "_model_name": "LayoutModel",
       "_view_count": null,
       "_view_module": "@jupyter-widgets/base",
       "_view_module_version": "1.2.0",
       "_view_name": "LayoutView",
       "align_content": null,
       "align_items": null,
       "align_self": null,
       "border": null,
       "bottom": null,
       "display": null,
       "flex": null,
       "flex_flow": null,
       "grid_area": null,
       "grid_auto_columns": null,
       "grid_auto_flow": null,
       "grid_auto_rows": null,
       "grid_column": null,
       "grid_gap": null,
       "grid_row": null,
       "grid_template_areas": null,
       "grid_template_columns": null,
       "grid_template_rows": null,
       "height": null,
       "justify_content": null,
       "justify_items": null,
       "left": null,
       "margin": null,
       "max_height": null,
       "max_width": null,
       "min_height": null,
       "min_width": null,
       "object_fit": null,
       "object_position": null,
       "order": null,
       "overflow": null,
       "overflow_x": null,
       "overflow_y": null,
       "padding": null,
       "right": null,
       "top": null,
       "visibility": null,
       "width": null
      }
     },
     "ab72431822fb438592eb4ef1fcf0f8b8": {
      "model_module": "@jupyter-widgets/controls",
      "model_module_version": "1.5.0",
      "model_name": "FloatProgressModel",
      "state": {
       "_dom_classes": [],
       "_model_module": "@jupyter-widgets/controls",
       "_model_module_version": "1.5.0",
       "_model_name": "FloatProgressModel",
       "_view_count": null,
       "_view_module": "@jupyter-widgets/controls",
       "_view_module_version": "1.5.0",
       "_view_name": "ProgressView",
       "bar_style": "success",
       "description": "kurucz_cd23_chianti_H_He.h5: ",
       "description_tooltip": null,
       "layout": "IPY_MODEL_c23d5dfcc06548b7911062bdc8b67f6d",
       "max": 73704476.0,
       "min": 0.0,
       "orientation": "horizontal",
       "style": "IPY_MODEL_69ab29ee6c7545c08f1037c9a4595f7f",
       "value": 73704476.0
      }
     },
     "c23d5dfcc06548b7911062bdc8b67f6d": {
      "model_module": "@jupyter-widgets/base",
      "model_module_version": "1.2.0",
      "model_name": "LayoutModel",
      "state": {
       "_model_module": "@jupyter-widgets/base",
       "_model_module_version": "1.2.0",
       "_model_name": "LayoutModel",
       "_view_count": null,
       "_view_module": "@jupyter-widgets/base",
       "_view_module_version": "1.2.0",
       "_view_name": "LayoutView",
       "align_content": null,
       "align_items": null,
       "align_self": null,
       "border": null,
       "bottom": null,
       "display": null,
       "flex": null,
       "flex_flow": null,
       "grid_area": null,
       "grid_auto_columns": null,
       "grid_auto_flow": null,
       "grid_auto_rows": null,
       "grid_column": null,
       "grid_gap": null,
       "grid_row": null,
       "grid_template_areas": null,
       "grid_template_columns": null,
       "grid_template_rows": null,
       "height": null,
       "justify_content": null,
       "justify_items": null,
       "left": null,
       "margin": null,
       "max_height": null,
       "max_width": null,
       "min_height": null,
       "min_width": null,
       "object_fit": null,
       "object_position": null,
       "order": null,
       "overflow": null,
       "overflow_x": null,
       "overflow_y": null,
       "padding": null,
       "right": null,
       "top": null,
       "visibility": null,
       "width": null
      }
     },
     "c95bfb7b4a4b4ef2937604a714beb3f3": {
      "model_module": "@jupyter-widgets/controls",
      "model_module_version": "1.5.0",
      "model_name": "HBoxModel",
      "state": {
       "_dom_classes": [],
       "_model_module": "@jupyter-widgets/controls",
       "_model_module_version": "1.5.0",
       "_model_name": "HBoxModel",
       "_view_count": null,
       "_view_module": "@jupyter-widgets/controls",
       "_view_module_version": "1.5.0",
       "_view_name": "HBoxView",
       "box_style": "",
       "children": [
        "IPY_MODEL_ab72431822fb438592eb4ef1fcf0f8b8",
        "IPY_MODEL_1df57b413dec40488acbdad00dfa7108"
       ],
       "layout": "IPY_MODEL_8e6a42fd64e240fb9dbb0aec6c877426"
      }
     }
    },
    "version_major": 2,
    "version_minor": 0
   }
  }
 },
 "nbformat": 4,
 "nbformat_minor": 2
}
